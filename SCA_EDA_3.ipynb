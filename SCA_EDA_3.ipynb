{
  "cells": [
    {
      "cell_type": "code",
      "execution_count": null,
      "metadata": {
        "id": "nosaYdTyqcZE"
      },
      "outputs": [],
      "source": [
        "import numpy as np\n",
        "import pandas as pd\n",
        "import seaborn as sns\n",
        "import matplotlib.pyplot as plt\n",
        "from sklearn.metrics import silhouette_samples, silhouette_score\n"
      ]
    },
    {
      "cell_type": "markdown",
      "metadata": {
        "id": "veM68ODKqcZF"
      },
      "source": [
        "## Loading and Pre-processing"
      ]
    },
    {
      "cell_type": "code",
      "execution_count": null,
      "metadata": {
        "id": "Xi7yO1dKqcZG",
        "outputId": "3f28c395-7521-4f4f-a049-88ba22a6cf6d"
      },
      "outputs": [
        {
          "data": {
            "text/html": [
              "<div>\n",
              "<style scoped>\n",
              "    .dataframe tbody tr th:only-of-type {\n",
              "        vertical-align: middle;\n",
              "    }\n",
              "\n",
              "    .dataframe tbody tr th {\n",
              "        vertical-align: top;\n",
              "    }\n",
              "\n",
              "    .dataframe thead th {\n",
              "        text-align: right;\n",
              "    }\n",
              "</style>\n",
              "<table border=\"1\" class=\"dataframe\">\n",
              "  <thead>\n",
              "    <tr style=\"text-align: right;\">\n",
              "      <th></th>\n",
              "      <th>PNRLocatorID</th>\n",
              "      <th>TicketNum</th>\n",
              "      <th>CouponSeqNbr</th>\n",
              "      <th>ServiceStartCity</th>\n",
              "      <th>ServiceEndCity</th>\n",
              "      <th>PNRCreateDate</th>\n",
              "      <th>ServiceStartDate</th>\n",
              "      <th>PaxName</th>\n",
              "      <th>EncryptedName</th>\n",
              "      <th>GenderCode</th>\n",
              "      <th>...</th>\n",
              "      <th>BaseFareAmt</th>\n",
              "      <th>TotalDocAmt</th>\n",
              "      <th>UFlyRewardsNumber</th>\n",
              "      <th>UflyMemberStatus</th>\n",
              "      <th>CardHolder</th>\n",
              "      <th>BookedProduct</th>\n",
              "      <th>EnrollDate</th>\n",
              "      <th>MarketingFlightNbr</th>\n",
              "      <th>MarketingAirlineCode</th>\n",
              "      <th>StopoverCode</th>\n",
              "    </tr>\n",
              "  </thead>\n",
              "  <tbody>\n",
              "    <tr>\n",
              "      <th>0</th>\n",
              "      <td>AAABJK</td>\n",
              "      <td>3377365159634</td>\n",
              "      <td>2</td>\n",
              "      <td>JFK</td>\n",
              "      <td>MSP</td>\n",
              "      <td>2013-11-23</td>\n",
              "      <td>2013-12-13</td>\n",
              "      <td>BRUMSA</td>\n",
              "      <td>4252554D4241434B44696420493F7C2067657420746869...</td>\n",
              "      <td>F</td>\n",
              "      <td>...</td>\n",
              "      <td>234.20</td>\n",
              "      <td>0.0</td>\n",
              "      <td>&lt;NA&gt;</td>\n",
              "      <td>&lt;NA&gt;</td>\n",
              "      <td>NaN</td>\n",
              "      <td>CHEOPQ</td>\n",
              "      <td>NaT</td>\n",
              "      <td>244</td>\n",
              "      <td>SY</td>\n",
              "      <td>O</td>\n",
              "    </tr>\n",
              "    <tr>\n",
              "      <th>1</th>\n",
              "      <td>AAABJK</td>\n",
              "      <td>3377365159634</td>\n",
              "      <td>1</td>\n",
              "      <td>MSP</td>\n",
              "      <td>JFK</td>\n",
              "      <td>2013-11-23</td>\n",
              "      <td>2013-12-08</td>\n",
              "      <td>BRUMSA</td>\n",
              "      <td>4252554D4241434B44696420493F7C2067657420746869...</td>\n",
              "      <td>F</td>\n",
              "      <td>...</td>\n",
              "      <td>234.20</td>\n",
              "      <td>0.0</td>\n",
              "      <td>&lt;NA&gt;</td>\n",
              "      <td>&lt;NA&gt;</td>\n",
              "      <td>NaN</td>\n",
              "      <td>CHEOPQ</td>\n",
              "      <td>NaT</td>\n",
              "      <td>243</td>\n",
              "      <td>SY</td>\n",
              "      <td>NaN</td>\n",
              "    </tr>\n",
              "    <tr>\n",
              "      <th>2</th>\n",
              "      <td>AAABMK</td>\n",
              "      <td>3372107381942</td>\n",
              "      <td>2</td>\n",
              "      <td>MSP</td>\n",
              "      <td>SFO</td>\n",
              "      <td>2014-02-04</td>\n",
              "      <td>2014-02-23</td>\n",
              "      <td>EILDRY</td>\n",
              "      <td>45494C4445525344696420493F7C206765742074686973...</td>\n",
              "      <td>M</td>\n",
              "      <td>...</td>\n",
              "      <td>293.96</td>\n",
              "      <td>338.0</td>\n",
              "      <td>&lt;NA&gt;</td>\n",
              "      <td>&lt;NA&gt;</td>\n",
              "      <td>NaN</td>\n",
              "      <td>NaN</td>\n",
              "      <td>NaT</td>\n",
              "      <td>397</td>\n",
              "      <td>SY</td>\n",
              "      <td>O</td>\n",
              "    </tr>\n",
              "    <tr>\n",
              "      <th>3</th>\n",
              "      <td>AAABMK</td>\n",
              "      <td>3372107381942</td>\n",
              "      <td>1</td>\n",
              "      <td>SFO</td>\n",
              "      <td>MSP</td>\n",
              "      <td>2014-02-04</td>\n",
              "      <td>2014-02-20</td>\n",
              "      <td>EILDRY</td>\n",
              "      <td>45494C4445525344696420493F7C206765742074686973...</td>\n",
              "      <td>M</td>\n",
              "      <td>...</td>\n",
              "      <td>293.96</td>\n",
              "      <td>338.0</td>\n",
              "      <td>&lt;NA&gt;</td>\n",
              "      <td>&lt;NA&gt;</td>\n",
              "      <td>NaN</td>\n",
              "      <td>NaN</td>\n",
              "      <td>NaT</td>\n",
              "      <td>392</td>\n",
              "      <td>SY</td>\n",
              "      <td>NaN</td>\n",
              "    </tr>\n",
              "    <tr>\n",
              "      <th>4</th>\n",
              "      <td>AAABTP</td>\n",
              "      <td>3372107470782</td>\n",
              "      <td>1</td>\n",
              "      <td>MCO</td>\n",
              "      <td>MSP</td>\n",
              "      <td>2014-03-13</td>\n",
              "      <td>2014-04-23</td>\n",
              "      <td>SKELMA</td>\n",
              "      <td>534B454C544F4E44696420493F7C206765742074686973...</td>\n",
              "      <td>F</td>\n",
              "      <td>...</td>\n",
              "      <td>112.56</td>\n",
              "      <td>132.0</td>\n",
              "      <td>&lt;NA&gt;</td>\n",
              "      <td>&lt;NA&gt;</td>\n",
              "      <td>NaN</td>\n",
              "      <td>NaN</td>\n",
              "      <td>NaT</td>\n",
              "      <td>342</td>\n",
              "      <td>SY</td>\n",
              "      <td>NaN</td>\n",
              "    </tr>\n",
              "  </tbody>\n",
              "</table>\n",
              "<p>5 rows × 26 columns</p>\n",
              "</div>"
            ],
            "text/plain": [
              "  PNRLocatorID      TicketNum  CouponSeqNbr ServiceStartCity ServiceEndCity  \\\n",
              "0       AAABJK  3377365159634             2              JFK            MSP   \n",
              "1       AAABJK  3377365159634             1              MSP            JFK   \n",
              "2       AAABMK  3372107381942             2              MSP            SFO   \n",
              "3       AAABMK  3372107381942             1              SFO            MSP   \n",
              "4       AAABTP  3372107470782             1              MCO            MSP   \n",
              "\n",
              "  PNRCreateDate ServiceStartDate PaxName  \\\n",
              "0    2013-11-23       2013-12-13  BRUMSA   \n",
              "1    2013-11-23       2013-12-08  BRUMSA   \n",
              "2    2014-02-04       2014-02-23  EILDRY   \n",
              "3    2014-02-04       2014-02-20  EILDRY   \n",
              "4    2014-03-13       2014-04-23  SKELMA   \n",
              "\n",
              "                                       EncryptedName GenderCode  ...  \\\n",
              "0  4252554D4241434B44696420493F7C2067657420746869...          F  ...   \n",
              "1  4252554D4241434B44696420493F7C2067657420746869...          F  ...   \n",
              "2  45494C4445525344696420493F7C206765742074686973...          M  ...   \n",
              "3  45494C4445525344696420493F7C206765742074686973...          M  ...   \n",
              "4  534B454C544F4E44696420493F7C206765742074686973...          F  ...   \n",
              "\n",
              "   BaseFareAmt  TotalDocAmt UFlyRewardsNumber UflyMemberStatus CardHolder  \\\n",
              "0       234.20          0.0              <NA>             <NA>        NaN   \n",
              "1       234.20          0.0              <NA>             <NA>        NaN   \n",
              "2       293.96        338.0              <NA>             <NA>        NaN   \n",
              "3       293.96        338.0              <NA>             <NA>        NaN   \n",
              "4       112.56        132.0              <NA>             <NA>        NaN   \n",
              "\n",
              "  BookedProduct  EnrollDate  MarketingFlightNbr  MarketingAirlineCode  \\\n",
              "0        CHEOPQ         NaT                 244                    SY   \n",
              "1        CHEOPQ         NaT                 243                    SY   \n",
              "2           NaN         NaT                 397                    SY   \n",
              "3           NaN         NaT                 392                    SY   \n",
              "4           NaN         NaT                 342                    SY   \n",
              "\n",
              "  StopoverCode  \n",
              "0            O  \n",
              "1          NaN  \n",
              "2            O  \n",
              "3          NaN  \n",
              "4          NaN  \n",
              "\n",
              "[5 rows x 26 columns]"
            ]
          },
          "execution_count": 3,
          "metadata": {},
          "output_type": "execute_result"
        }
      ],
      "source": [
        "original_df = pd.read_csv(\"/Users/Shashank/Downloads/Team project/SunCountry.csv\", parse_dates=[\"PNRCreateDate\", \"ServiceStartDate\", \"EnrollDate\"],\n",
        "                 dtype={'ServiceStartCity':'string', 'ServiceEndCity':'string', 'PostalCode':'string', 'BookingChannel':'string',\n",
        "                        'MarketingFlightNbr':'Int64', 'UFlyRewardsNumber':'Int64', 'UflyMemberStatus':'string'},\n",
        "                 na_values={'MarketingFlightNbr':\"OPEN\"})\n",
        "original_df.head()"
      ]
    },
    {
      "cell_type": "code",
      "execution_count": null,
      "metadata": {
        "id": "PTcvxJkKqcZH"
      },
      "outputs": [],
      "source": [
        "original_df = original_df.loc[original_df.MarketingAirlineCode == 'SY']"
      ]
    },
    {
      "cell_type": "code",
      "execution_count": null,
      "metadata": {
        "id": "1HyPgq2fqcZI"
      },
      "outputs": [],
      "source": [
        "df_ind = original_df.groupby('EncryptedName').agg({'GenderCode':'last', 'Age':'max', 'TicketNum':'count',\n",
        "                                          'BkdClassOfService': lambda x: pd.Series.mode(x)[0],\n",
        "                                          'BookingChannel': lambda x: pd.Series.mode(x)[0],\n",
        "                                          'UflyMemberStatus': 'last',\n",
        "                                          'BaseFareAmt': 'mean',\n",
        "                                          'EnrollDate': 'last'}).reset_index()"
      ]
    },
    {
      "cell_type": "code",
      "execution_count": null,
      "metadata": {
        "id": "Hk_h2mtYqcZI"
      },
      "outputs": [],
      "source": [
        "original_df.loc[original_df.UflyMemberStatus.isna(), 'UflyMemberStatus'] = 'Nonmember'\n",
        "\n",
        "\n",
        "original_df.loc[original_df.StopoverCode.isna(), 'StopoverCode'] = 'N'\n",
        "\n",
        "\n",
        "original_df.loc[original_df.BookedProduct.isna(), 'BookedProduct'] = 'N'\n",
        "\n",
        "# Some BookingChannels are just airport names. So we'll replace it by 'Airport'\n",
        "booking_channels = ['Outside Booking', 'SCA Website Booking', 'Reservations Booking', 'Tour Operator Portal', 'SY Vacation']\n",
        "original_df['BookingChannel'] = original_df['BookingChannel'].apply(lambda x: x if x in booking_channels else 'Airport')"
      ]
    },
    {
      "cell_type": "code",
      "execution_count": null,
      "metadata": {
        "id": "tW3_di0FqcZI",
        "outputId": "dd13315f-706b-48bb-ba15-79355f71bd5e"
      },
      "outputs": [
        {
          "data": {
            "text/plain": [
              "(841,)"
            ]
          },
          "execution_count": 103,
          "metadata": {},
          "output_type": "execute_result"
        }
      ],
      "source": [
        "original_df[(original_df['Age'] > 100) & (original_df['Age'] < 120)]['EncryptedName'].unique().shape"
      ]
    },
    {
      "cell_type": "markdown",
      "metadata": {
        "id": "JE7ZtOAmqcZJ"
      },
      "source": [
        "841 people Aged between 100 to 120. Don't seem like outliers. Definitely plausible."
      ]
    },
    {
      "cell_type": "code",
      "execution_count": null,
      "metadata": {
        "id": "x7-M4571qcZJ"
      },
      "outputs": [],
      "source": [
        "# Impute the agefor the records to fall within the 0-120 interval\n",
        "original_df['Age'] = original_df[(original_df['Age'] < 120) & (original_df['Age'] > 0)]['Age']"
      ]
    },
    {
      "cell_type": "code",
      "execution_count": null,
      "metadata": {
        "id": "O5NVG3PTqcZJ"
      },
      "outputs": [],
      "source": [
        "original_df['month'] = original_df['ServiceStartDate'].dt.month\n",
        "original_df['booking_month'] = original_df['PNRCreateDate'].dt.month"
      ]
    },
    {
      "cell_type": "markdown",
      "metadata": {
        "id": "nVshiqCrqcZK"
      },
      "source": [
        "## Sanity checks and Analysis"
      ]
    },
    {
      "cell_type": "code",
      "execution_count": null,
      "metadata": {
        "id": "mFDzTB42qcZK",
        "outputId": "59249ed3-556a-4913-9ad4-402a19f2ae4d"
      },
      "outputs": [
        {
          "data": {
            "text/plain": [
              "Nonmember    2735876\n",
              "Standard      680113\n",
              "Elite          14361\n",
              "Name: UflyMemberStatus, dtype: Int64"
            ]
          },
          "execution_count": 9,
          "metadata": {},
          "output_type": "execute_result"
        }
      ],
      "source": [
        "original_df.UflyMemberStatus.value_counts()"
      ]
    },
    {
      "cell_type": "code",
      "execution_count": null,
      "metadata": {
        "id": "Ka4RQeR0qcZK",
        "outputId": "8ab920ef-e0c2-4aa2-b2e6-ca2b6d9c06cb"
      },
      "outputs": [
        {
          "data": {
            "text/html": [
              "<div>\n",
              "<style scoped>\n",
              "    .dataframe tbody tr th:only-of-type {\n",
              "        vertical-align: middle;\n",
              "    }\n",
              "\n",
              "    .dataframe tbody tr th {\n",
              "        vertical-align: top;\n",
              "    }\n",
              "\n",
              "    .dataframe thead th {\n",
              "        text-align: right;\n",
              "    }\n",
              "</style>\n",
              "<table border=\"1\" class=\"dataframe\">\n",
              "  <thead>\n",
              "    <tr style=\"text-align: right;\">\n",
              "      <th></th>\n",
              "      <th>PNRLocatorID</th>\n",
              "      <th>TicketNum</th>\n",
              "      <th>CouponSeqNbr</th>\n",
              "      <th>ServiceStartCity</th>\n",
              "      <th>ServiceEndCity</th>\n",
              "      <th>PNRCreateDate</th>\n",
              "      <th>ServiceStartDate</th>\n",
              "      <th>PaxName</th>\n",
              "      <th>EncryptedName</th>\n",
              "      <th>GenderCode</th>\n",
              "      <th>...</th>\n",
              "      <th>BaseFareAmt</th>\n",
              "      <th>TotalDocAmt</th>\n",
              "      <th>UFlyRewardsNumber</th>\n",
              "      <th>UflyMemberStatus</th>\n",
              "      <th>CardHolder</th>\n",
              "      <th>BookedProduct</th>\n",
              "      <th>EnrollDate</th>\n",
              "      <th>MarketingFlightNbr</th>\n",
              "      <th>MarketingAirlineCode</th>\n",
              "      <th>StopoverCode</th>\n",
              "    </tr>\n",
              "  </thead>\n",
              "  <tbody>\n",
              "  </tbody>\n",
              "</table>\n",
              "<p>0 rows × 26 columns</p>\n",
              "</div>"
            ],
            "text/plain": [
              "Empty DataFrame\n",
              "Columns: [PNRLocatorID, TicketNum, CouponSeqNbr, ServiceStartCity, ServiceEndCity, PNRCreateDate, ServiceStartDate, PaxName, EncryptedName, GenderCode, birthdateid, Age, PostalCode, BkdClassOfService, TrvldClassOfService, BookingChannel, BaseFareAmt, TotalDocAmt, UFlyRewardsNumber, UflyMemberStatus, CardHolder, BookedProduct, EnrollDate, MarketingFlightNbr, MarketingAirlineCode, StopoverCode]\n",
              "Index: []\n",
              "\n",
              "[0 rows x 26 columns]"
            ]
          },
          "execution_count": 10,
          "metadata": {},
          "output_type": "execute_result"
        }
      ],
      "source": [
        "original_df[original_df['UflyMemberStatus'].isna() & original_df['UFlyRewardsNumber'].notnull()]"
      ]
    },
    {
      "cell_type": "code",
      "execution_count": null,
      "metadata": {
        "id": "rrGo3BsxqcZK",
        "outputId": "d5934e18-a9ac-4da8-ab9c-e1386a47a361"
      },
      "outputs": [
        {
          "data": {
            "text/html": [
              "<div>\n",
              "<style scoped>\n",
              "    .dataframe tbody tr th:only-of-type {\n",
              "        vertical-align: middle;\n",
              "    }\n",
              "\n",
              "    .dataframe tbody tr th {\n",
              "        vertical-align: top;\n",
              "    }\n",
              "\n",
              "    .dataframe thead th {\n",
              "        text-align: right;\n",
              "    }\n",
              "</style>\n",
              "<table border=\"1\" class=\"dataframe\">\n",
              "  <thead>\n",
              "    <tr style=\"text-align: right;\">\n",
              "      <th></th>\n",
              "      <th>PNRLocatorID</th>\n",
              "      <th>TicketNum</th>\n",
              "      <th>CouponSeqNbr</th>\n",
              "      <th>ServiceStartCity</th>\n",
              "      <th>ServiceEndCity</th>\n",
              "      <th>PNRCreateDate</th>\n",
              "      <th>ServiceStartDate</th>\n",
              "      <th>PaxName</th>\n",
              "      <th>EncryptedName</th>\n",
              "      <th>GenderCode</th>\n",
              "      <th>...</th>\n",
              "      <th>BaseFareAmt</th>\n",
              "      <th>TotalDocAmt</th>\n",
              "      <th>UFlyRewardsNumber</th>\n",
              "      <th>UflyMemberStatus</th>\n",
              "      <th>CardHolder</th>\n",
              "      <th>BookedProduct</th>\n",
              "      <th>EnrollDate</th>\n",
              "      <th>MarketingFlightNbr</th>\n",
              "      <th>MarketingAirlineCode</th>\n",
              "      <th>StopoverCode</th>\n",
              "    </tr>\n",
              "  </thead>\n",
              "  <tbody>\n",
              "  </tbody>\n",
              "</table>\n",
              "<p>0 rows × 26 columns</p>\n",
              "</div>"
            ],
            "text/plain": [
              "Empty DataFrame\n",
              "Columns: [PNRLocatorID, TicketNum, CouponSeqNbr, ServiceStartCity, ServiceEndCity, PNRCreateDate, ServiceStartDate, PaxName, EncryptedName, GenderCode, birthdateid, Age, PostalCode, BkdClassOfService, TrvldClassOfService, BookingChannel, BaseFareAmt, TotalDocAmt, UFlyRewardsNumber, UflyMemberStatus, CardHolder, BookedProduct, EnrollDate, MarketingFlightNbr, MarketingAirlineCode, StopoverCode]\n",
              "Index: []\n",
              "\n",
              "[0 rows x 26 columns]"
            ]
          },
          "execution_count": 11,
          "metadata": {},
          "output_type": "execute_result"
        }
      ],
      "source": [
        "original_df[original_df['UflyMemberStatus'].isna() & original_df['EnrollDate'].notnull()]"
      ]
    },
    {
      "cell_type": "markdown",
      "metadata": {
        "id": "LBJU_4_rqcZK"
      },
      "source": [
        "Q1) Are the elite members having more coupon sequence numbers?"
      ]
    },
    {
      "cell_type": "code",
      "execution_count": null,
      "metadata": {
        "id": "EjgWNhIUqcZK",
        "outputId": "7e4b9d4c-245b-4610-9e0a-c58da9369ae6"
      },
      "outputs": [
        {
          "data": {
            "text/plain": [
              "<AxesSubplot: xlabel='CouponSeqNbr', ylabel='count'>"
            ]
          },
          "execution_count": 12,
          "metadata": {},
          "output_type": "execute_result"
        },
        {
          "data": {
            "image/png": "[encoded data removed]",
            "text/plain": [
              "<Figure size 640x480 with 1 Axes>"
            ]
          },
          "metadata": {},
          "output_type": "display_data"
        }
      ],
      "source": [
        "sns.countplot(x='CouponSeqNbr', data=original_df, hue='UflyMemberStatus')"
      ]
    },
    {
      "cell_type": "markdown",
      "metadata": {
        "id": "DYK-CllVqcZL"
      },
      "source": [
        "There seems to be no relation between coupon codes used and Member status. Most of them are used by Non-members, irrespective of the coupon code."
      ]
    },
    {
      "cell_type": "code",
      "execution_count": null,
      "metadata": {
        "id": "JN83ASjYqcZL",
        "outputId": "37e185a2-de13-44f8-80c4-ea6e8efa47fa"
      },
      "outputs": [
        {
          "data": {
            "text/plain": [
              "<AxesSubplot: xlabel='StopoverCode', ylabel='count'>"
            ]
          },
          "execution_count": 13,
          "metadata": {},
          "output_type": "execute_result"
        },
        {
          "data": {
            "image/png": "[encoded data removed]",
            "text/plain": [
              "<Figure size 640x480 with 1 Axes>"
            ]
          },
          "metadata": {},
          "output_type": "display_data"
        }
      ],
      "source": [
        "sns.countplot(x='StopoverCode', data=original_df, hue='UflyMemberStatus')"
      ]
    },
    {
      "cell_type": "markdown",
      "metadata": {
        "id": "3So0AmYmqcZL"
      },
      "source": [
        "Nothing obvious between member status and stop overs. Which makes sense."
      ]
    },
    {
      "cell_type": "code",
      "execution_count": null,
      "metadata": {
        "id": "jLhowXCkqcZL",
        "outputId": "69e5defd-d11f-4f4d-ece8-5355bcf1e798"
      },
      "outputs": [
        {
          "data": {
            "text/plain": [
              "<AxesSubplot: xlabel='BookingChannel', ylabel='count'>"
            ]
          },
          "execution_count": 264,
          "metadata": {},
          "output_type": "execute_result"
        },
        {
          "data": {
            "image/png": "[encoded data removed]",
            "text/plain": [
              "<Figure size 1200x800 with 1 Axes>"
            ]
          },
          "metadata": {},
          "output_type": "display_data"
        }
      ],
      "source": [
        "plt.figure(figsize=(12,8))\n",
        "sns.countplot(data=original_df, x='BookingChannel', hue='UflyMemberStatus')"
      ]
    },
    {
      "cell_type": "code",
      "execution_count": null,
      "metadata": {
        "id": "zRduHYTBqcZL",
        "outputId": "5ab3b267-5388-40b1-fb6d-91d6367bf088"
      },
      "outputs": [
        {
          "data": {
            "text/plain": [
              "BookingChannel        UflyMemberStatus\n",
              "Airport               Nonmember              9097\n",
              "                      Standard               2599\n",
              "                      Elite                   219\n",
              "Outside Booking       Nonmember           1327200\n",
              "                      Standard             141038\n",
              "                      Elite                  2941\n",
              "Reservations Booking  Nonmember            215786\n",
              "                      Standard              45672\n",
              "                      Elite                   869\n",
              "SCA Website Booking   Nonmember            984449\n",
              "                      Standard             462405\n",
              "                      Elite                 10273\n",
              "SY Vacation           Nonmember             73431\n",
              "                      Standard              21116\n",
              "                      Elite                    54\n",
              "Tour Operator Portal  Nonmember            125913\n",
              "                      Standard               7283\n",
              "                      Elite                     5\n",
              "Name: UflyMemberStatus, dtype: int64"
            ]
          },
          "execution_count": 107,
          "metadata": {},
          "output_type": "execute_result"
        }
      ],
      "source": [
        "original_df.groupby('BookingChannel')['UflyMemberStatus'].value_counts()"
      ]
    },
    {
      "cell_type": "code",
      "execution_count": null,
      "metadata": {
        "id": "swgxJo6lqcZL",
        "outputId": "40ba998f-4b5f-4c3c-a31c-560ced485b3c"
      },
      "outputs": [
        {
          "data": {
            "text/plain": [
              "BookingChannel        UflyMemberStatus\n",
              "Airport               Nonmember           0.763491\n",
              "                      Standard            0.218128\n",
              "                      Elite               0.018380\n",
              "Outside Booking       Nonmember           0.902134\n",
              "                      Standard            0.095867\n",
              "                      Elite               0.001999\n",
              "Reservations Booking  Nonmember           0.822584\n",
              "                      Standard            0.174103\n",
              "                      Elite               0.003313\n",
              "SCA Website Booking   Nonmember           0.675610\n",
              "                      Standard            0.317340\n",
              "                      Elite               0.007050\n",
              "SY Vacation           Nonmember           0.776218\n",
              "                      Standard            0.223211\n",
              "                      Elite               0.000571\n",
              "Tour Operator Portal  Nonmember           0.945286\n",
              "                      Standard            0.054677\n",
              "                      Elite               0.000038\n",
              "Name: UflyMemberStatus, dtype: float64"
            ]
          },
          "execution_count": 108,
          "metadata": {},
          "output_type": "execute_result"
        }
      ],
      "source": [
        "original_df.groupby('BookingChannel')['UflyMemberStatus'].value_counts(normalize = True)"
      ]
    },
    {
      "cell_type": "code",
      "execution_count": null,
      "metadata": {
        "id": "QlnDXT9VqcZM",
        "outputId": "7ab43d59-2e3b-41fc-9fa9-82b39b1f2770"
      },
      "outputs": [
        {
          "data": {
            "text/plain": [
              "Nonmember    2735876\n",
              "Standard      680113\n",
              "Elite          14361\n",
              "Name: UflyMemberStatus, dtype: Int64"
            ]
          },
          "execution_count": 109,
          "metadata": {},
          "output_type": "execute_result"
        }
      ],
      "source": [
        "original_df.UflyMemberStatus.value_counts()"
      ]
    },
    {
      "cell_type": "code",
      "execution_count": null,
      "metadata": {
        "id": "LYIRj5BNqcZM",
        "outputId": "1004400f-2276-4313-bdb0-1183b430a26f"
      },
      "outputs": [
        {
          "data": {
            "text/plain": [
              "UflyMemberStatus  BookingChannel      \n",
              "Elite             SCA Website Booking     0.715340\n",
              "                  Outside Booking         0.204791\n",
              "                  Reservations Booking    0.060511\n",
              "                  Airport                 0.015250\n",
              "                  SY Vacation             0.003760\n",
              "                  Tour Operator Portal    0.000348\n",
              "Nonmember         Outside Booking         0.485110\n",
              "                  SCA Website Booking     0.359830\n",
              "                  Reservations Booking    0.078873\n",
              "                  Tour Operator Portal    0.046023\n",
              "                  SY Vacation             0.026840\n",
              "                  Airport                 0.003325\n",
              "Standard          SCA Website Booking     0.679894\n",
              "                  Outside Booking         0.207374\n",
              "                  Reservations Booking    0.067154\n",
              "                  SY Vacation             0.031048\n",
              "                  Tour Operator Portal    0.010709\n",
              "                  Airport                 0.003821\n",
              "Name: BookingChannel, dtype: float64"
            ]
          },
          "execution_count": 110,
          "metadata": {},
          "output_type": "execute_result"
        }
      ],
      "source": [
        "original_df.groupby('UflyMemberStatus')['BookingChannel'].value_counts(normalize = True)"
      ]
    },
    {
      "cell_type": "code",
      "execution_count": null,
      "metadata": {
        "id": "BEvwuYy9qcZM",
        "outputId": "de739b1e-49e2-4727-fbb1-ee1aa2994b99"
      },
      "outputs": [
        {
          "data": {
            "text/plain": [
              "UflyMemberStatus  BookingChannel      \n",
              "Elite             SCA Website Booking       10273\n",
              "                  Outside Booking            2941\n",
              "                  Reservations Booking        869\n",
              "                  Airport                     219\n",
              "                  SY Vacation                  54\n",
              "                  Tour Operator Portal          5\n",
              "Nonmember         Outside Booking         1327200\n",
              "                  SCA Website Booking      984449\n",
              "                  Reservations Booking     215786\n",
              "                  Tour Operator Portal     125913\n",
              "                  SY Vacation               73431\n",
              "                  Airport                    9097\n",
              "Standard          SCA Website Booking      462405\n",
              "                  Outside Booking          141038\n",
              "                  Reservations Booking      45672\n",
              "                  SY Vacation               21116\n",
              "                  Tour Operator Portal       7283\n",
              "                  Airport                    2599\n",
              "Name: BookingChannel, dtype: int64"
            ]
          },
          "execution_count": 111,
          "metadata": {},
          "output_type": "execute_result"
        }
      ],
      "source": [
        "original_df.groupby('UflyMemberStatus')['BookingChannel'].value_counts()"
      ]
    },
    {
      "cell_type": "code",
      "execution_count": null,
      "metadata": {
        "id": "q4HKLimlqcZM",
        "outputId": "d234ad8a-b836-4edc-f604-04cc776f3989"
      },
      "outputs": [
        {
          "data": {
            "text/plain": [
              "35.98295390580567"
            ]
          },
          "execution_count": 112,
          "metadata": {},
          "output_type": "execute_result"
        }
      ],
      "source": [
        "(984449/2735876)*100"
      ]
    },
    {
      "cell_type": "markdown",
      "metadata": {
        "id": "isRqlhEUqcZM"
      },
      "source": [
        "* 67 percent or 984449 customers who are booking via the SCA website are actually non-members. So although the non-members are visiting the SCA website, they choose to remain as non-members. Targeting these customers definitely would be a great first step.\n",
        "\n",
        "\n",
        "* Now let's see what proportion of non-members are actually making their bookings via the SCA website. This is 35%. That means, 35% of all the non-members are actually making their bookings on the SCA website.\n",
        "\n",
        "\n",
        "\n",
        "* If we understand how this group of 900,000 non-members operate, finding out interesting insights like:   \n",
        "    1) What are the popular airports they tend to travel to / from. i.e. Service start and End Cities.  \n",
        "    2) How many of them flying First Class or Discounted First Class?  \n",
        "    3) How many are Male or Female?  \n",
        "    4) Average Base Fare amount or Highest Base Fare Amount? Compare that to the average base fare amount of the Elite        and say, see, these people are actually paying equal or more than the elite customers, so why don't we target          these specific customers and offer them lucrative promotions first to drive enrollment.  \n",
        "    5) Any specific Age group trends?"
      ]
    },
    {
      "cell_type": "markdown",
      "metadata": {
        "id": "ajlPnCIEqcZN"
      },
      "source": [
        "## EDA Recommendations"
      ]
    },
    {
      "cell_type": "code",
      "execution_count": null,
      "metadata": {
        "id": "pIh9L8SZqcZN"
      },
      "outputs": [],
      "source": [
        "priority_non_members = original_df[(original_df['BookingChannel'] == \"SCA Website Booking\") & (original_df['UflyMemberStatus'] == \"Nonmember\")] "
      ]
    },
    {
      "cell_type": "code",
      "execution_count": null,
      "metadata": {
        "id": "-CuMwwufqcZN",
        "outputId": "0e9fd4ff-a08e-4981-c933-0706bd8610a1"
      },
      "outputs": [
        {
          "data": {
            "text/html": [
              "<div>\n",
              "<style scoped>\n",
              "    .dataframe tbody tr th:only-of-type {\n",
              "        vertical-align: middle;\n",
              "    }\n",
              "\n",
              "    .dataframe tbody tr th {\n",
              "        vertical-align: top;\n",
              "    }\n",
              "\n",
              "    .dataframe thead th {\n",
              "        text-align: right;\n",
              "    }\n",
              "</style>\n",
              "<table border=\"1\" class=\"dataframe\">\n",
              "  <thead>\n",
              "    <tr style=\"text-align: right;\">\n",
              "      <th></th>\n",
              "      <th>PNRLocatorID</th>\n",
              "      <th>TicketNum</th>\n",
              "      <th>CouponSeqNbr</th>\n",
              "      <th>ServiceStartCity</th>\n",
              "      <th>ServiceEndCity</th>\n",
              "      <th>PNRCreateDate</th>\n",
              "      <th>ServiceStartDate</th>\n",
              "      <th>PaxName</th>\n",
              "      <th>EncryptedName</th>\n",
              "      <th>GenderCode</th>\n",
              "      <th>...</th>\n",
              "      <th>BaseFareAmt</th>\n",
              "      <th>TotalDocAmt</th>\n",
              "      <th>UFlyRewardsNumber</th>\n",
              "      <th>UflyMemberStatus</th>\n",
              "      <th>CardHolder</th>\n",
              "      <th>BookedProduct</th>\n",
              "      <th>EnrollDate</th>\n",
              "      <th>MarketingFlightNbr</th>\n",
              "      <th>MarketingAirlineCode</th>\n",
              "      <th>StopoverCode</th>\n",
              "    </tr>\n",
              "  </thead>\n",
              "  <tbody>\n",
              "    <tr>\n",
              "      <th>2</th>\n",
              "      <td>AAABMK</td>\n",
              "      <td>3372107381942</td>\n",
              "      <td>2</td>\n",
              "      <td>MSP</td>\n",
              "      <td>SFO</td>\n",
              "      <td>2014-02-04</td>\n",
              "      <td>2014-02-23</td>\n",
              "      <td>EILDRY</td>\n",
              "      <td>45494C4445525344696420493F7C206765742074686973...</td>\n",
              "      <td>M</td>\n",
              "      <td>...</td>\n",
              "      <td>293.96</td>\n",
              "      <td>338.0</td>\n",
              "      <td>&lt;NA&gt;</td>\n",
              "      <td>Nonmember</td>\n",
              "      <td>NaN</td>\n",
              "      <td>N</td>\n",
              "      <td>NaT</td>\n",
              "      <td>397</td>\n",
              "      <td>SY</td>\n",
              "      <td>O</td>\n",
              "    </tr>\n",
              "    <tr>\n",
              "      <th>3</th>\n",
              "      <td>AAABMK</td>\n",
              "      <td>3372107381942</td>\n",
              "      <td>1</td>\n",
              "      <td>SFO</td>\n",
              "      <td>MSP</td>\n",
              "      <td>2014-02-04</td>\n",
              "      <td>2014-02-20</td>\n",
              "      <td>EILDRY</td>\n",
              "      <td>45494C4445525344696420493F7C206765742074686973...</td>\n",
              "      <td>M</td>\n",
              "      <td>...</td>\n",
              "      <td>293.96</td>\n",
              "      <td>338.0</td>\n",
              "      <td>&lt;NA&gt;</td>\n",
              "      <td>Nonmember</td>\n",
              "      <td>NaN</td>\n",
              "      <td>N</td>\n",
              "      <td>NaT</td>\n",
              "      <td>392</td>\n",
              "      <td>SY</td>\n",
              "      <td>N</td>\n",
              "    </tr>\n",
              "    <tr>\n",
              "      <th>5</th>\n",
              "      <td>AAACLY</td>\n",
              "      <td>3372106417509</td>\n",
              "      <td>1</td>\n",
              "      <td>PSP</td>\n",
              "      <td>MSP</td>\n",
              "      <td>2012-10-06</td>\n",
              "      <td>2013-02-12</td>\n",
              "      <td>HINZRI</td>\n",
              "      <td>48494E5A4544696420493F7C2067657420746869732072...</td>\n",
              "      <td>M</td>\n",
              "      <td>...</td>\n",
              "      <td>171.16</td>\n",
              "      <td>194.8</td>\n",
              "      <td>&lt;NA&gt;</td>\n",
              "      <td>Nonmember</td>\n",
              "      <td>NaN</td>\n",
              "      <td>N</td>\n",
              "      <td>NaT</td>\n",
              "      <td>610</td>\n",
              "      <td>SY</td>\n",
              "      <td>N</td>\n",
              "    </tr>\n",
              "    <tr>\n",
              "      <th>6</th>\n",
              "      <td>AAACWU</td>\n",
              "      <td>3372107969827</td>\n",
              "      <td>1</td>\n",
              "      <td>JFK</td>\n",
              "      <td>MSP</td>\n",
              "      <td>2014-10-21</td>\n",
              "      <td>2014-11-14</td>\n",
              "      <td>GIBAJU</td>\n",
              "      <td>47494241534A4F4E455344696420493F7C206765742074...</td>\n",
              "      <td>F</td>\n",
              "      <td>...</td>\n",
              "      <td>164.65</td>\n",
              "      <td>191.1</td>\n",
              "      <td>&lt;NA&gt;</td>\n",
              "      <td>Nonmember</td>\n",
              "      <td>NaN</td>\n",
              "      <td>SSWMIR</td>\n",
              "      <td>NaT</td>\n",
              "      <td>244</td>\n",
              "      <td>SY</td>\n",
              "      <td>N</td>\n",
              "    </tr>\n",
              "    <tr>\n",
              "      <th>7</th>\n",
              "      <td>AAACWU</td>\n",
              "      <td>3372107969828</td>\n",
              "      <td>1</td>\n",
              "      <td>JFK</td>\n",
              "      <td>MSP</td>\n",
              "      <td>2014-10-21</td>\n",
              "      <td>2014-11-14</td>\n",
              "      <td>GIBAAL</td>\n",
              "      <td>474942415344696420493F7C2067657420746869732072...</td>\n",
              "      <td>M</td>\n",
              "      <td>...</td>\n",
              "      <td>164.65</td>\n",
              "      <td>191.1</td>\n",
              "      <td>&lt;NA&gt;</td>\n",
              "      <td>Nonmember</td>\n",
              "      <td>NaN</td>\n",
              "      <td>SSWMIR</td>\n",
              "      <td>NaT</td>\n",
              "      <td>244</td>\n",
              "      <td>SY</td>\n",
              "      <td>N</td>\n",
              "    </tr>\n",
              "    <tr>\n",
              "      <th>...</th>\n",
              "      <td>...</td>\n",
              "      <td>...</td>\n",
              "      <td>...</td>\n",
              "      <td>...</td>\n",
              "      <td>...</td>\n",
              "      <td>...</td>\n",
              "      <td>...</td>\n",
              "      <td>...</td>\n",
              "      <td>...</td>\n",
              "      <td>...</td>\n",
              "      <td>...</td>\n",
              "      <td>...</td>\n",
              "      <td>...</td>\n",
              "      <td>...</td>\n",
              "      <td>...</td>\n",
              "      <td>...</td>\n",
              "      <td>...</td>\n",
              "      <td>...</td>\n",
              "      <td>...</td>\n",
              "      <td>...</td>\n",
              "      <td>...</td>\n",
              "    </tr>\n",
              "    <tr>\n",
              "      <th>3435280</th>\n",
              "      <td>ZZYNSZ</td>\n",
              "      <td>3372106641883</td>\n",
              "      <td>2</td>\n",
              "      <td>LAS</td>\n",
              "      <td>MSP</td>\n",
              "      <td>2013-02-04</td>\n",
              "      <td>2013-02-21</td>\n",
              "      <td>WEYEJO</td>\n",
              "      <td>574559455244696420493F7C2067657420746869732072...</td>\n",
              "      <td>F</td>\n",
              "      <td>...</td>\n",
              "      <td>313.49</td>\n",
              "      <td>358.8</td>\n",
              "      <td>&lt;NA&gt;</td>\n",
              "      <td>Nonmember</td>\n",
              "      <td>NaN</td>\n",
              "      <td>N</td>\n",
              "      <td>NaT</td>\n",
              "      <td>148</td>\n",
              "      <td>SY</td>\n",
              "      <td>O</td>\n",
              "    </tr>\n",
              "    <tr>\n",
              "      <th>3435334</th>\n",
              "      <td>ZZZDRL</td>\n",
              "      <td>3372107047358</td>\n",
              "      <td>1</td>\n",
              "      <td>JFK</td>\n",
              "      <td>MSP</td>\n",
              "      <td>2013-09-10</td>\n",
              "      <td>2013-09-11</td>\n",
              "      <td>VOLKYA</td>\n",
              "      <td>564F4C4B4F564144696420493F7C206765742074686973...</td>\n",
              "      <td>F</td>\n",
              "      <td>...</td>\n",
              "      <td>239.07</td>\n",
              "      <td>278.8</td>\n",
              "      <td>&lt;NA&gt;</td>\n",
              "      <td>Nonmember</td>\n",
              "      <td>NaN</td>\n",
              "      <td>N</td>\n",
              "      <td>NaT</td>\n",
              "      <td>244</td>\n",
              "      <td>SY</td>\n",
              "      <td>N</td>\n",
              "    </tr>\n",
              "    <tr>\n",
              "      <th>3435335</th>\n",
              "      <td>ZZZDRL</td>\n",
              "      <td>3372107047358</td>\n",
              "      <td>2</td>\n",
              "      <td>MSP</td>\n",
              "      <td>SFO</td>\n",
              "      <td>2013-09-10</td>\n",
              "      <td>2013-09-11</td>\n",
              "      <td>VOLKYA</td>\n",
              "      <td>564F4C4B4F564144696420493F7C206765742074686973...</td>\n",
              "      <td>F</td>\n",
              "      <td>...</td>\n",
              "      <td>239.07</td>\n",
              "      <td>278.8</td>\n",
              "      <td>&lt;NA&gt;</td>\n",
              "      <td>Nonmember</td>\n",
              "      <td>NaN</td>\n",
              "      <td>N</td>\n",
              "      <td>NaT</td>\n",
              "      <td>395</td>\n",
              "      <td>SY</td>\n",
              "      <td>X</td>\n",
              "    </tr>\n",
              "    <tr>\n",
              "      <th>3435378</th>\n",
              "      <td>ZZZZVS</td>\n",
              "      <td>3372107000214</td>\n",
              "      <td>2</td>\n",
              "      <td>SFO</td>\n",
              "      <td>MSP</td>\n",
              "      <td>2013-08-19</td>\n",
              "      <td>2013-09-20</td>\n",
              "      <td>DUNNKI</td>\n",
              "      <td>44554E4E44696420493F7C206765742074686973207269...</td>\n",
              "      <td>F</td>\n",
              "      <td>...</td>\n",
              "      <td>293.96</td>\n",
              "      <td>337.8</td>\n",
              "      <td>&lt;NA&gt;</td>\n",
              "      <td>Nonmember</td>\n",
              "      <td>NaN</td>\n",
              "      <td>N</td>\n",
              "      <td>NaT</td>\n",
              "      <td>396</td>\n",
              "      <td>SY</td>\n",
              "      <td>O</td>\n",
              "    </tr>\n",
              "    <tr>\n",
              "      <th>3435379</th>\n",
              "      <td>ZZZZVS</td>\n",
              "      <td>3372107000214</td>\n",
              "      <td>1</td>\n",
              "      <td>MSP</td>\n",
              "      <td>SFO</td>\n",
              "      <td>2013-08-19</td>\n",
              "      <td>2013-09-17</td>\n",
              "      <td>DUNNKI</td>\n",
              "      <td>44554E4E44696420493F7C206765742074686973207269...</td>\n",
              "      <td>F</td>\n",
              "      <td>...</td>\n",
              "      <td>293.96</td>\n",
              "      <td>337.8</td>\n",
              "      <td>&lt;NA&gt;</td>\n",
              "      <td>Nonmember</td>\n",
              "      <td>NaN</td>\n",
              "      <td>N</td>\n",
              "      <td>NaT</td>\n",
              "      <td>395</td>\n",
              "      <td>SY</td>\n",
              "      <td>N</td>\n",
              "    </tr>\n",
              "  </tbody>\n",
              "</table>\n",
              "<p>984449 rows × 26 columns</p>\n",
              "</div>"
            ],
            "text/plain": [
              "        PNRLocatorID      TicketNum  CouponSeqNbr ServiceStartCity  \\\n",
              "2             AAABMK  3372107381942             2              MSP   \n",
              "3             AAABMK  3372107381942             1              SFO   \n",
              "5             AAACLY  3372106417509             1              PSP   \n",
              "6             AAACWU  3372107969827             1              JFK   \n",
              "7             AAACWU  3372107969828             1              JFK   \n",
              "...              ...            ...           ...              ...   \n",
              "3435280       ZZYNSZ  3372106641883             2              LAS   \n",
              "3435334       ZZZDRL  3372107047358             1              JFK   \n",
              "3435335       ZZZDRL  3372107047358             2              MSP   \n",
              "3435378       ZZZZVS  3372107000214             2              SFO   \n",
              "3435379       ZZZZVS  3372107000214             1              MSP   \n",
              "\n",
              "        ServiceEndCity PNRCreateDate ServiceStartDate PaxName  \\\n",
              "2                  SFO    2014-02-04       2014-02-23  EILDRY   \n",
              "3                  MSP    2014-02-04       2014-02-20  EILDRY   \n",
              "5                  MSP    2012-10-06       2013-02-12  HINZRI   \n",
              "6                  MSP    2014-10-21       2014-11-14  GIBAJU   \n",
              "7                  MSP    2014-10-21       2014-11-14  GIBAAL   \n",
              "...                ...           ...              ...     ...   \n",
              "3435280            MSP    2013-02-04       2013-02-21  WEYEJO   \n",
              "3435334            MSP    2013-09-10       2013-09-11  VOLKYA   \n",
              "3435335            SFO    2013-09-10       2013-09-11  VOLKYA   \n",
              "3435378            MSP    2013-08-19       2013-09-20  DUNNKI   \n",
              "3435379            SFO    2013-08-19       2013-09-17  DUNNKI   \n",
              "\n",
              "                                             EncryptedName GenderCode  ...  \\\n",
              "2        45494C4445525344696420493F7C206765742074686973...          M  ...   \n",
              "3        45494C4445525344696420493F7C206765742074686973...          M  ...   \n",
              "5        48494E5A4544696420493F7C2067657420746869732072...          M  ...   \n",
              "6        47494241534A4F4E455344696420493F7C206765742074...          F  ...   \n",
              "7        474942415344696420493F7C2067657420746869732072...          M  ...   \n",
              "...                                                    ...        ...  ...   \n",
              "3435280  574559455244696420493F7C2067657420746869732072...          F  ...   \n",
              "3435334  564F4C4B4F564144696420493F7C206765742074686973...          F  ...   \n",
              "3435335  564F4C4B4F564144696420493F7C206765742074686973...          F  ...   \n",
              "3435378  44554E4E44696420493F7C206765742074686973207269...          F  ...   \n",
              "3435379  44554E4E44696420493F7C206765742074686973207269...          F  ...   \n",
              "\n",
              "         BaseFareAmt  TotalDocAmt UFlyRewardsNumber UflyMemberStatus  \\\n",
              "2             293.96        338.0              <NA>        Nonmember   \n",
              "3             293.96        338.0              <NA>        Nonmember   \n",
              "5             171.16        194.8              <NA>        Nonmember   \n",
              "6             164.65        191.1              <NA>        Nonmember   \n",
              "7             164.65        191.1              <NA>        Nonmember   \n",
              "...              ...          ...               ...              ...   \n",
              "3435280       313.49        358.8              <NA>        Nonmember   \n",
              "3435334       239.07        278.8              <NA>        Nonmember   \n",
              "3435335       239.07        278.8              <NA>        Nonmember   \n",
              "3435378       293.96        337.8              <NA>        Nonmember   \n",
              "3435379       293.96        337.8              <NA>        Nonmember   \n",
              "\n",
              "        CardHolder BookedProduct  EnrollDate  MarketingFlightNbr  \\\n",
              "2              NaN             N         NaT                 397   \n",
              "3              NaN             N         NaT                 392   \n",
              "5              NaN             N         NaT                 610   \n",
              "6              NaN        SSWMIR         NaT                 244   \n",
              "7              NaN        SSWMIR         NaT                 244   \n",
              "...            ...           ...         ...                 ...   \n",
              "3435280        NaN             N         NaT                 148   \n",
              "3435334        NaN             N         NaT                 244   \n",
              "3435335        NaN             N         NaT                 395   \n",
              "3435378        NaN             N         NaT                 396   \n",
              "3435379        NaN             N         NaT                 395   \n",
              "\n",
              "         MarketingAirlineCode StopoverCode  \n",
              "2                          SY            O  \n",
              "3                          SY            N  \n",
              "5                          SY            N  \n",
              "6                          SY            N  \n",
              "7                          SY            N  \n",
              "...                       ...          ...  \n",
              "3435280                    SY            O  \n",
              "3435334                    SY            N  \n",
              "3435335                    SY            X  \n",
              "3435378                    SY            O  \n",
              "3435379                    SY            N  \n",
              "\n",
              "[984449 rows x 26 columns]"
            ]
          },
          "execution_count": 142,
          "metadata": {},
          "output_type": "execute_result"
        }
      ],
      "source": [
        "priority_non_members"
      ]
    },
    {
      "cell_type": "code",
      "execution_count": null,
      "metadata": {
        "id": "Cb3UzwSkqcZN"
      },
      "outputs": [],
      "source": [
        "priority_non_members = priority_non_members.drop(columns=['UFlyRewardsNumber', 'CardHolder', 'EnrollDate', 'PostalCode', 'birthdateid', 'CouponSeqNbr','MarketingAirlineCode', 'BookedProduct', 'StopoverCode'])\n"
      ]
    },
    {
      "cell_type": "code",
      "execution_count": null,
      "metadata": {
        "id": "-cSwKMXJqcZN"
      },
      "outputs": [],
      "source": [
        "# # Handle the missing values of Gender with mode\n",
        "priority_non_members['GenderCode'] = priority_non_members['GenderCode'].fillna(priority_non_members['GenderCode'].mode()[0])"
      ]
    },
    {
      "cell_type": "code",
      "execution_count": null,
      "metadata": {
        "id": "spMTHSBuqcZN"
      },
      "outputs": [],
      "source": [
        "# priority_non_members['Age'] = priority_non_members['Age'].fillna(priority_non_members['Age'].mean())\n",
        "priority_non_members['Age']=priority_non_members['Age'].fillna(priority_non_members['Age'].mean())\n"
      ]
    },
    {
      "cell_type": "code",
      "execution_count": null,
      "metadata": {
        "id": "goS2xIINqcZN"
      },
      "outputs": [],
      "source": [
        "priority_non_members = priority_non_members.dropna()"
      ]
    },
    {
      "cell_type": "code",
      "execution_count": null,
      "metadata": {
        "id": "e8rIhgvkqcZN",
        "outputId": "4a7c358b-6574-4717-a195-857c4e726cc8"
      },
      "outputs": [
        {
          "data": {
            "text/plain": [
              "PNRLocatorID            0\n",
              "TicketNum               0\n",
              "CouponSeqNbr            0\n",
              "ServiceStartCity        0\n",
              "ServiceEndCity          0\n",
              "PNRCreateDate           0\n",
              "ServiceStartDate        0\n",
              "PaxName                 0\n",
              "EncryptedName           0\n",
              "GenderCode              0\n",
              "Age                     0\n",
              "BkdClassOfService       0\n",
              "TrvldClassOfService     0\n",
              "BookingChannel          0\n",
              "BaseFareAmt             0\n",
              "TotalDocAmt             0\n",
              "UflyMemberStatus        0\n",
              "BookedProduct           0\n",
              "MarketingFlightNbr      0\n",
              "MarketingAirlineCode    0\n",
              "StopoverCode            0\n",
              "dtype: int64"
            ]
          },
          "execution_count": 153,
          "metadata": {},
          "output_type": "execute_result"
        }
      ],
      "source": [
        "priority_non_members.isna().sum()"
      ]
    },
    {
      "cell_type": "code",
      "execution_count": null,
      "metadata": {
        "id": "8WXAkKYEqcZO",
        "outputId": "2a58c1e3-4d40-4eef-8b29-8cfc11532dc7"
      },
      "outputs": [
        {
          "data": {
            "text/plain": [
              "(984448, 21)"
            ]
          },
          "execution_count": 165,
          "metadata": {},
          "output_type": "execute_result"
        }
      ],
      "source": [
        "priority_non_members.shape"
      ]
    },
    {
      "cell_type": "markdown",
      "metadata": {
        "id": "1jemY9W2qcZO"
      },
      "source": [
        "Okay, cleaning done. Let's see what we can derive from these records."
      ]
    },
    {
      "cell_type": "code",
      "execution_count": null,
      "metadata": {
        "id": "7jFdfHE8qcZO",
        "outputId": "486f629e-484f-45c4-8700-89a4b9472241"
      },
      "outputs": [
        {
          "data": {
            "text/plain": [
              "count    984448.000000\n",
              "mean        300.056895\n",
              "std         163.440472\n",
              "min           0.000000\n",
              "25%         188.840000\n",
              "50%         275.340000\n",
              "75%         366.520000\n",
              "max        1753.000000\n",
              "Name: BaseFareAmt, dtype: float64"
            ]
          },
          "execution_count": 155,
          "metadata": {},
          "output_type": "execute_result"
        }
      ],
      "source": [
        "priority_non_members.BaseFareAmt.describe()"
      ]
    },
    {
      "cell_type": "markdown",
      "metadata": {
        "id": "XhgEYaQdqcZO"
      },
      "source": [
        "Let's compare the average and highest Base Fare amounts to the amounts that the Standard & Elite passengers paid"
      ]
    },
    {
      "cell_type": "code",
      "execution_count": null,
      "metadata": {
        "id": "SmvbAIG_qcZO",
        "outputId": "46103580-448a-40b2-86b6-9e8e072800e8"
      },
      "outputs": [
        {
          "data": {
            "text/plain": [
              "409.09603648770974"
            ]
          },
          "execution_count": 161,
          "metadata": {},
          "output_type": "execute_result"
        }
      ],
      "source": [
        "# This is the mean of Elite fliers\n",
        "original_df[(original_df['UflyMemberStatus'] == \"Elite\")].BaseFareAmt.mean()"
      ]
    },
    {
      "cell_type": "code",
      "execution_count": null,
      "metadata": {
        "id": "NVYU4RJaqcZO",
        "outputId": "fc6fd79f-c0bb-4bd2-8aa5-4b2e4b038d0e"
      },
      "outputs": [
        {
          "data": {
            "text/plain": [
              "299.4465444418795"
            ]
          },
          "execution_count": 163,
          "metadata": {},
          "output_type": "execute_result"
        }
      ],
      "source": [
        "# This is the mean of Standard fliers\n",
        "original_df[(original_df['UflyMemberStatus'] == \"Standard\")].BaseFareAmt.mean()"
      ]
    },
    {
      "cell_type": "code",
      "execution_count": null,
      "metadata": {
        "id": "pwR_gxg4qcZO",
        "outputId": "8e855e0a-3d30-4032-a15e-d70f60178af6"
      },
      "outputs": [
        {
          "data": {
            "text/plain": [
              "301.7139818913306"
            ]
          },
          "execution_count": 162,
          "metadata": {},
          "output_type": "execute_result"
        }
      ],
      "source": [
        "# This is the mean of Standard and Elite fliers and Standard Fliers\n",
        "original_df[(original_df['UflyMemberStatus'] == \"Elite\") | (original_df['UflyMemberStatus'] == \"Standard\")].BaseFareAmt.mean()"
      ]
    },
    {
      "cell_type": "markdown",
      "metadata": {
        "id": "obI1zPH7qcZP"
      },
      "source": [
        "We can clearly see that, the mean base fare being paid by these 984448 non member potential targets is more than the fare that the Standard members are paying.\n",
        "\n",
        "The respective fares are 300 and 299. This provides a strong case to target these 984448 non members by providing lucrative deals and convert them into members"
      ]
    },
    {
      "cell_type": "code",
      "execution_count": null,
      "metadata": {
        "id": "8uKPCfoAqcZQ",
        "outputId": "27520305-55d5-4645-b6ec-d128cbfb1e83"
      },
      "outputs": [
        {
          "data": {
            "text/plain": [
              "491221"
            ]
          },
          "execution_count": 174,
          "metadata": {},
          "output_type": "execute_result"
        }
      ],
      "source": [
        "priority_non_members.EncryptedName.nunique()"
      ]
    },
    {
      "cell_type": "code",
      "execution_count": null,
      "metadata": {
        "id": "CfofUPmSqcZQ"
      },
      "outputs": [],
      "source": [
        "priority_non_members['month'] = priority_non_members['ServiceStartDate'].dt.month\n",
        "priority_non_members['booking_month'] = priority_non_members['PNRCreateDate'].dt.month"
      ]
    },
    {
      "cell_type": "code",
      "execution_count": null,
      "metadata": {
        "id": "Od9yZv7mqcZQ",
        "outputId": "adc749b0-19dc-4c07-b0d8-5002fb12aaab"
      },
      "outputs": [
        {
          "data": {
            "text/plain": [
              "12    109059\n",
              "3     108289\n",
              "7      96082\n",
              "8      89670\n",
              "2      81838\n",
              "6      80428\n",
              "10     73997\n",
              "4      73926\n",
              "11     70634\n",
              "1      70500\n",
              "5      69340\n",
              "9      60685\n",
              "Name: month, dtype: int64"
            ]
          },
          "execution_count": 209,
          "metadata": {},
          "output_type": "execute_result"
        }
      ],
      "source": [
        "priority_non_members.month.value_counts()"
      ]
    },
    {
      "cell_type": "code",
      "execution_count": null,
      "metadata": {
        "id": "k5207DX7qcZQ"
      },
      "outputs": [],
      "source": [
        "# sns.lineplot(x='month', y='BaseFareAmt', data=priority_non_members)\n",
        "monthly_non_members_fare_avgs = priority_non_members.groupby(['month']).count()['BaseFareAmt'].reset_index()"
      ]
    },
    {
      "cell_type": "code",
      "execution_count": null,
      "metadata": {
        "id": "boBFVv89qcZQ",
        "outputId": "2e915ced-a599-481f-ec32-fc0a87937273"
      },
      "outputs": [
        {
          "data": {
            "text/plain": [
              "[Text(0.5, 1.0, 'Month wise counts of target non-members')]"
            ]
          },
          "execution_count": 220,
          "metadata": {},
          "output_type": "execute_result"
        },
        {
          "data": {
            "image/png": "[encoded data removed]",
            "text/plain": [
              "<Figure size 640x480 with 1 Axes>"
            ]
          },
          "metadata": {},
          "output_type": "display_data"
        }
      ],
      "source": [
        "sns.lineplot(x='month', y='BaseFareAmt', data=monthly_non_members_fare_avgs).set(\n",
        "    title=\"Month wise counts of target non-members\")"
      ]
    },
    {
      "cell_type": "markdown",
      "metadata": {
        "id": "m3xxVYH4qcZR"
      },
      "source": [
        "Majority of these 984448 non-members are actually travelling during the months of December(Festive Period?), March and July. "
      ]
    },
    {
      "cell_type": "code",
      "execution_count": null,
      "metadata": {
        "id": "NJBRI3UQqcZR",
        "outputId": "d845ba10-c1bf-47e0-a91f-9d1d4dec26e4"
      },
      "outputs": [
        {
          "data": {
            "text/plain": [
              "(404461, 18)"
            ]
          },
          "execution_count": 211,
          "metadata": {},
          "output_type": "execute_result"
        }
      ],
      "source": [
        "priority_non_members[(priority_non_members['BaseFareAmt'] >300)].shape"
      ]
    },
    {
      "cell_type": "markdown",
      "metadata": {
        "id": "iytZAc1dqcZS"
      },
      "source": [
        "There are 491221 unqiue fliers out of 984448 non-members"
      ]
    },
    {
      "cell_type": "code",
      "execution_count": null,
      "metadata": {
        "id": "7fW4JMP5qcZS",
        "outputId": "9773c008-82ae-4328-d62e-42e139ac62fb"
      },
      "outputs": [
        {
          "data": {
            "text/html": [
              "<div>\n",
              "<style scoped>\n",
              "    .dataframe tbody tr th:only-of-type {\n",
              "        vertical-align: middle;\n",
              "    }\n",
              "\n",
              "    .dataframe tbody tr th {\n",
              "        vertical-align: top;\n",
              "    }\n",
              "\n",
              "    .dataframe thead th {\n",
              "        text-align: right;\n",
              "    }\n",
              "</style>\n",
              "<table border=\"1\" class=\"dataframe\">\n",
              "  <thead>\n",
              "    <tr style=\"text-align: right;\">\n",
              "      <th></th>\n",
              "      <th>PNRLocatorID</th>\n",
              "      <th>TicketNum</th>\n",
              "      <th>ServiceStartCity</th>\n",
              "      <th>ServiceEndCity</th>\n",
              "      <th>PNRCreateDate</th>\n",
              "      <th>ServiceStartDate</th>\n",
              "      <th>PaxName</th>\n",
              "      <th>EncryptedName</th>\n",
              "      <th>GenderCode</th>\n",
              "      <th>Age</th>\n",
              "      <th>BkdClassOfService</th>\n",
              "      <th>TrvldClassOfService</th>\n",
              "      <th>BookingChannel</th>\n",
              "      <th>BaseFareAmt</th>\n",
              "      <th>TotalDocAmt</th>\n",
              "      <th>UflyMemberStatus</th>\n",
              "      <th>MarketingFlightNbr</th>\n",
              "      <th>month</th>\n",
              "      <th>booking_month</th>\n",
              "    </tr>\n",
              "  </thead>\n",
              "  <tbody>\n",
              "    <tr>\n",
              "      <th>40</th>\n",
              "      <td>AABBUZ</td>\n",
              "      <td>3372106628348</td>\n",
              "      <td>MSP</td>\n",
              "      <td>PHX</td>\n",
              "      <td>2013-01-28</td>\n",
              "      <td>2013-01-28</td>\n",
              "      <td>GALLJE</td>\n",
              "      <td>47414C4C4F57415944696420493F7C2067657420746869...</td>\n",
              "      <td>F</td>\n",
              "      <td>28.0</td>\n",
              "      <td>Coach</td>\n",
              "      <td>Coach</td>\n",
              "      <td>SCA Website Booking</td>\n",
              "      <td>437.21</td>\n",
              "      <td>480.9</td>\n",
              "      <td>Nonmember</td>\n",
              "      <td>603</td>\n",
              "      <td>1</td>\n",
              "      <td>1</td>\n",
              "    </tr>\n",
              "    <tr>\n",
              "      <th>77</th>\n",
              "      <td>AABNZL</td>\n",
              "      <td>3372107124019</td>\n",
              "      <td>MSP</td>\n",
              "      <td>SEA</td>\n",
              "      <td>2013-10-14</td>\n",
              "      <td>2013-12-29</td>\n",
              "      <td>SANDSU</td>\n",
              "      <td>53414E44455244696420493F7C20676574207468697320...</td>\n",
              "      <td>F</td>\n",
              "      <td>55.0</td>\n",
              "      <td>Coach</td>\n",
              "      <td>Coach</td>\n",
              "      <td>SCA Website Booking</td>\n",
              "      <td>522.79</td>\n",
              "      <td>583.8</td>\n",
              "      <td>Nonmember</td>\n",
              "      <td>283</td>\n",
              "      <td>12</td>\n",
              "      <td>10</td>\n",
              "    </tr>\n",
              "    <tr>\n",
              "      <th>78</th>\n",
              "      <td>AABNZL</td>\n",
              "      <td>3372107124019</td>\n",
              "      <td>SEA</td>\n",
              "      <td>MSP</td>\n",
              "      <td>2013-10-14</td>\n",
              "      <td>2013-12-22</td>\n",
              "      <td>SANDSU</td>\n",
              "      <td>53414E44455244696420493F7C20676574207468697320...</td>\n",
              "      <td>F</td>\n",
              "      <td>55.0</td>\n",
              "      <td>Coach</td>\n",
              "      <td>Coach</td>\n",
              "      <td>SCA Website Booking</td>\n",
              "      <td>522.79</td>\n",
              "      <td>583.8</td>\n",
              "      <td>Nonmember</td>\n",
              "      <td>284</td>\n",
              "      <td>12</td>\n",
              "      <td>10</td>\n",
              "    </tr>\n",
              "    <tr>\n",
              "      <th>105</th>\n",
              "      <td>AACBGS</td>\n",
              "      <td>3372107702282</td>\n",
              "      <td>ANC</td>\n",
              "      <td>MSP</td>\n",
              "      <td>2014-06-27</td>\n",
              "      <td>2014-07-24</td>\n",
              "      <td>MCCAME</td>\n",
              "      <td>4D4343414D424C5944696420493F7C2067657420746869...</td>\n",
              "      <td>F</td>\n",
              "      <td>25.0</td>\n",
              "      <td>Coach</td>\n",
              "      <td>Coach</td>\n",
              "      <td>SCA Website Booking</td>\n",
              "      <td>783.11</td>\n",
              "      <td>844.9</td>\n",
              "      <td>Nonmember</td>\n",
              "      <td>472</td>\n",
              "      <td>7</td>\n",
              "      <td>6</td>\n",
              "    </tr>\n",
              "    <tr>\n",
              "      <th>106</th>\n",
              "      <td>AACBGS</td>\n",
              "      <td>3372107702282</td>\n",
              "      <td>MSP</td>\n",
              "      <td>ANC</td>\n",
              "      <td>2014-06-27</td>\n",
              "      <td>2014-08-06</td>\n",
              "      <td>MCCAME</td>\n",
              "      <td>4D4343414D424C5944696420493F7C2067657420746869...</td>\n",
              "      <td>F</td>\n",
              "      <td>25.0</td>\n",
              "      <td>Coach</td>\n",
              "      <td>Coach</td>\n",
              "      <td>SCA Website Booking</td>\n",
              "      <td>783.11</td>\n",
              "      <td>844.9</td>\n",
              "      <td>Nonmember</td>\n",
              "      <td>471</td>\n",
              "      <td>8</td>\n",
              "      <td>6</td>\n",
              "    </tr>\n",
              "    <tr>\n",
              "      <th>...</th>\n",
              "      <td>...</td>\n",
              "      <td>...</td>\n",
              "      <td>...</td>\n",
              "      <td>...</td>\n",
              "      <td>...</td>\n",
              "      <td>...</td>\n",
              "      <td>...</td>\n",
              "      <td>...</td>\n",
              "      <td>...</td>\n",
              "      <td>...</td>\n",
              "      <td>...</td>\n",
              "      <td>...</td>\n",
              "      <td>...</td>\n",
              "      <td>...</td>\n",
              "      <td>...</td>\n",
              "      <td>...</td>\n",
              "      <td>...</td>\n",
              "      <td>...</td>\n",
              "      <td>...</td>\n",
              "    </tr>\n",
              "    <tr>\n",
              "      <th>3435268</th>\n",
              "      <td>ZZYKXU</td>\n",
              "      <td>3372107679743</td>\n",
              "      <td>MSP</td>\n",
              "      <td>MCO</td>\n",
              "      <td>2014-06-18</td>\n",
              "      <td>2014-10-12</td>\n",
              "      <td>TALMDE</td>\n",
              "      <td>54414C4D41474544696420493F7C206765742074686973...</td>\n",
              "      <td>F</td>\n",
              "      <td>43.0</td>\n",
              "      <td>Coach</td>\n",
              "      <td>Coach</td>\n",
              "      <td>SCA Website Booking</td>\n",
              "      <td>463.25</td>\n",
              "      <td>520.0</td>\n",
              "      <td>Nonmember</td>\n",
              "      <td>341</td>\n",
              "      <td>10</td>\n",
              "      <td>6</td>\n",
              "    </tr>\n",
              "    <tr>\n",
              "      <th>3435269</th>\n",
              "      <td>ZZYKXU</td>\n",
              "      <td>3372107679744</td>\n",
              "      <td>MSP</td>\n",
              "      <td>MCO</td>\n",
              "      <td>2014-06-18</td>\n",
              "      <td>2014-10-12</td>\n",
              "      <td>TALMAN</td>\n",
              "      <td>54414C4D41474544696420493F7C206765742074686973...</td>\n",
              "      <td>F</td>\n",
              "      <td>7.0</td>\n",
              "      <td>Coach</td>\n",
              "      <td>Coach</td>\n",
              "      <td>SCA Website Booking</td>\n",
              "      <td>463.25</td>\n",
              "      <td>520.0</td>\n",
              "      <td>Nonmember</td>\n",
              "      <td>341</td>\n",
              "      <td>10</td>\n",
              "      <td>6</td>\n",
              "    </tr>\n",
              "    <tr>\n",
              "      <th>3435270</th>\n",
              "      <td>ZZYKXU</td>\n",
              "      <td>3372107679744</td>\n",
              "      <td>MCO</td>\n",
              "      <td>MSP</td>\n",
              "      <td>2014-06-18</td>\n",
              "      <td>2014-10-18</td>\n",
              "      <td>TALMAN</td>\n",
              "      <td>54414C4D41474544696420493F7C206765742074686973...</td>\n",
              "      <td>F</td>\n",
              "      <td>7.0</td>\n",
              "      <td>Coach</td>\n",
              "      <td>Coach</td>\n",
              "      <td>SCA Website Booking</td>\n",
              "      <td>463.25</td>\n",
              "      <td>520.0</td>\n",
              "      <td>Nonmember</td>\n",
              "      <td>340</td>\n",
              "      <td>10</td>\n",
              "      <td>6</td>\n",
              "    </tr>\n",
              "    <tr>\n",
              "      <th>3435271</th>\n",
              "      <td>ZZYKXU</td>\n",
              "      <td>3372107679742</td>\n",
              "      <td>MSP</td>\n",
              "      <td>MCO</td>\n",
              "      <td>2014-06-18</td>\n",
              "      <td>2014-10-12</td>\n",
              "      <td>TALMWI</td>\n",
              "      <td>54414C4D41474544696420493F7C206765742074686973...</td>\n",
              "      <td>M</td>\n",
              "      <td>49.0</td>\n",
              "      <td>Coach</td>\n",
              "      <td>Coach</td>\n",
              "      <td>SCA Website Booking</td>\n",
              "      <td>463.25</td>\n",
              "      <td>520.0</td>\n",
              "      <td>Nonmember</td>\n",
              "      <td>341</td>\n",
              "      <td>10</td>\n",
              "      <td>6</td>\n",
              "    </tr>\n",
              "    <tr>\n",
              "      <th>3435272</th>\n",
              "      <td>ZZYKXU</td>\n",
              "      <td>3372107679742</td>\n",
              "      <td>MCO</td>\n",
              "      <td>MSP</td>\n",
              "      <td>2014-06-18</td>\n",
              "      <td>2014-10-18</td>\n",
              "      <td>TALMWI</td>\n",
              "      <td>54414C4D41474544696420493F7C206765742074686973...</td>\n",
              "      <td>M</td>\n",
              "      <td>49.0</td>\n",
              "      <td>Coach</td>\n",
              "      <td>Coach</td>\n",
              "      <td>SCA Website Booking</td>\n",
              "      <td>463.25</td>\n",
              "      <td>520.0</td>\n",
              "      <td>Nonmember</td>\n",
              "      <td>340</td>\n",
              "      <td>10</td>\n",
              "      <td>6</td>\n",
              "    </tr>\n",
              "  </tbody>\n",
              "</table>\n",
              "<p>181105 rows × 19 columns</p>\n",
              "</div>"
            ],
            "text/plain": [
              "        PNRLocatorID      TicketNum ServiceStartCity ServiceEndCity  \\\n",
              "40            AABBUZ  3372106628348              MSP            PHX   \n",
              "77            AABNZL  3372107124019              MSP            SEA   \n",
              "78            AABNZL  3372107124019              SEA            MSP   \n",
              "105           AACBGS  3372107702282              ANC            MSP   \n",
              "106           AACBGS  3372107702282              MSP            ANC   \n",
              "...              ...            ...              ...            ...   \n",
              "3435268       ZZYKXU  3372107679743              MSP            MCO   \n",
              "3435269       ZZYKXU  3372107679744              MSP            MCO   \n",
              "3435270       ZZYKXU  3372107679744              MCO            MSP   \n",
              "3435271       ZZYKXU  3372107679742              MSP            MCO   \n",
              "3435272       ZZYKXU  3372107679742              MCO            MSP   \n",
              "\n",
              "        PNRCreateDate ServiceStartDate PaxName  \\\n",
              "40         2013-01-28       2013-01-28  GALLJE   \n",
              "77         2013-10-14       2013-12-29  SANDSU   \n",
              "78         2013-10-14       2013-12-22  SANDSU   \n",
              "105        2014-06-27       2014-07-24  MCCAME   \n",
              "106        2014-06-27       2014-08-06  MCCAME   \n",
              "...               ...              ...     ...   \n",
              "3435268    2014-06-18       2014-10-12  TALMDE   \n",
              "3435269    2014-06-18       2014-10-12  TALMAN   \n",
              "3435270    2014-06-18       2014-10-18  TALMAN   \n",
              "3435271    2014-06-18       2014-10-12  TALMWI   \n",
              "3435272    2014-06-18       2014-10-18  TALMWI   \n",
              "\n",
              "                                             EncryptedName GenderCode   Age  \\\n",
              "40       47414C4C4F57415944696420493F7C2067657420746869...          F  28.0   \n",
              "77       53414E44455244696420493F7C20676574207468697320...          F  55.0   \n",
              "78       53414E44455244696420493F7C20676574207468697320...          F  55.0   \n",
              "105      4D4343414D424C5944696420493F7C2067657420746869...          F  25.0   \n",
              "106      4D4343414D424C5944696420493F7C2067657420746869...          F  25.0   \n",
              "...                                                    ...        ...   ...   \n",
              "3435268  54414C4D41474544696420493F7C206765742074686973...          F  43.0   \n",
              "3435269  54414C4D41474544696420493F7C206765742074686973...          F   7.0   \n",
              "3435270  54414C4D41474544696420493F7C206765742074686973...          F   7.0   \n",
              "3435271  54414C4D41474544696420493F7C206765742074686973...          M  49.0   \n",
              "3435272  54414C4D41474544696420493F7C206765742074686973...          M  49.0   \n",
              "\n",
              "        BkdClassOfService TrvldClassOfService       BookingChannel  \\\n",
              "40                  Coach               Coach  SCA Website Booking   \n",
              "77                  Coach               Coach  SCA Website Booking   \n",
              "78                  Coach               Coach  SCA Website Booking   \n",
              "105                 Coach               Coach  SCA Website Booking   \n",
              "106                 Coach               Coach  SCA Website Booking   \n",
              "...                   ...                 ...                  ...   \n",
              "3435268             Coach               Coach  SCA Website Booking   \n",
              "3435269             Coach               Coach  SCA Website Booking   \n",
              "3435270             Coach               Coach  SCA Website Booking   \n",
              "3435271             Coach               Coach  SCA Website Booking   \n",
              "3435272             Coach               Coach  SCA Website Booking   \n",
              "\n",
              "         BaseFareAmt  TotalDocAmt UflyMemberStatus  MarketingFlightNbr  month  \\\n",
              "40            437.21        480.9        Nonmember                 603      1   \n",
              "77            522.79        583.8        Nonmember                 283     12   \n",
              "78            522.79        583.8        Nonmember                 284     12   \n",
              "105           783.11        844.9        Nonmember                 472      7   \n",
              "106           783.11        844.9        Nonmember                 471      8   \n",
              "...              ...          ...              ...                 ...    ...   \n",
              "3435268       463.25        520.0        Nonmember                 341     10   \n",
              "3435269       463.25        520.0        Nonmember                 341     10   \n",
              "3435270       463.25        520.0        Nonmember                 340     10   \n",
              "3435271       463.25        520.0        Nonmember                 341     10   \n",
              "3435272       463.25        520.0        Nonmember                 340     10   \n",
              "\n",
              "         booking_month  \n",
              "40                   1  \n",
              "77                  10  \n",
              "78                  10  \n",
              "105                  6  \n",
              "106                  6  \n",
              "...                ...  \n",
              "3435268              6  \n",
              "3435269              6  \n",
              "3435270              6  \n",
              "3435271              6  \n",
              "3435272              6  \n",
              "\n",
              "[181105 rows x 19 columns]"
            ]
          },
          "execution_count": 228,
          "metadata": {},
          "output_type": "execute_result"
        }
      ],
      "source": [
        "priority_non_members[(priority_non_members['BaseFareAmt'] > 409)]"
      ]
    },
    {
      "cell_type": "code",
      "execution_count": null,
      "metadata": {
        "id": "mpzb-i9CqcZS",
        "outputId": "9631fc93-f679-4c34-af33-9b7cd2955ee2"
      },
      "outputs": [
        {
          "data": {
            "text/plain": [
              "86897"
            ]
          },
          "execution_count": 265,
          "metadata": {},
          "output_type": "execute_result"
        }
      ],
      "source": [
        "priority_non_members[(priority_non_members['BaseFareAmt'] > 409)].EncryptedName.nunique()"
      ]
    },
    {
      "cell_type": "code",
      "execution_count": null,
      "metadata": {
        "id": "xJi7u7I7qcZS",
        "outputId": "3ad19a46-4627-47f0-a404-412c9d0014c9"
      },
      "outputs": [
        {
          "data": {
            "text/plain": [
              "1155"
            ]
          },
          "execution_count": 266,
          "metadata": {},
          "output_type": "execute_result"
        }
      ],
      "source": [
        "original_df[(original_df['UflyMemberStatus'] == \"Elite\")].EncryptedName.nunique()"
      ]
    },
    {
      "cell_type": "code",
      "execution_count": null,
      "metadata": {
        "id": "JFZNP8ECqcZS",
        "outputId": "254f8df6-e6bb-4eac-e309-f6cec38c7059"
      },
      "outputs": [
        {
          "data": {
            "text/html": [
              "<div>\n",
              "<style scoped>\n",
              "    .dataframe tbody tr th:only-of-type {\n",
              "        vertical-align: middle;\n",
              "    }\n",
              "\n",
              "    .dataframe tbody tr th {\n",
              "        vertical-align: top;\n",
              "    }\n",
              "\n",
              "    .dataframe thead th {\n",
              "        text-align: right;\n",
              "    }\n",
              "</style>\n",
              "<table border=\"1\" class=\"dataframe\">\n",
              "  <thead>\n",
              "    <tr style=\"text-align: right;\">\n",
              "      <th></th>\n",
              "      <th>TicketNum</th>\n",
              "      <th>Age</th>\n",
              "      <th>BaseFareAmt</th>\n",
              "      <th>TotalDocAmt</th>\n",
              "      <th>MarketingFlightNbr</th>\n",
              "      <th>month</th>\n",
              "      <th>booking_month</th>\n",
              "    </tr>\n",
              "  </thead>\n",
              "  <tbody>\n",
              "    <tr>\n",
              "      <th>count</th>\n",
              "      <td>1.811050e+05</td>\n",
              "      <td>181105.000000</td>\n",
              "      <td>181105.000000</td>\n",
              "      <td>181105.000000</td>\n",
              "      <td>181105.000000</td>\n",
              "      <td>181105.000000</td>\n",
              "      <td>181105.000000</td>\n",
              "    </tr>\n",
              "    <tr>\n",
              "      <th>mean</th>\n",
              "      <td>3.372107e+12</td>\n",
              "      <td>41.152536</td>\n",
              "      <td>563.678708</td>\n",
              "      <td>633.680574</td>\n",
              "      <td>424.858905</td>\n",
              "      <td>5.890804</td>\n",
              "      <td>6.462455</td>\n",
              "    </tr>\n",
              "    <tr>\n",
              "      <th>std</th>\n",
              "      <td>4.700300e+05</td>\n",
              "      <td>19.266334</td>\n",
              "      <td>160.176593</td>\n",
              "      <td>175.619313</td>\n",
              "      <td>158.660126</td>\n",
              "      <td>3.384348</td>\n",
              "      <td>3.389557</td>\n",
              "    </tr>\n",
              "    <tr>\n",
              "      <th>min</th>\n",
              "      <td>3.372106e+12</td>\n",
              "      <td>1.000000</td>\n",
              "      <td>409.120000</td>\n",
              "      <td>0.000000</td>\n",
              "      <td>100.000000</td>\n",
              "      <td>1.000000</td>\n",
              "      <td>1.000000</td>\n",
              "    </tr>\n",
              "    <tr>\n",
              "      <th>25%</th>\n",
              "      <td>3.372107e+12</td>\n",
              "      <td>27.000000</td>\n",
              "      <td>448.000000</td>\n",
              "      <td>511.600000</td>\n",
              "      <td>284.000000</td>\n",
              "      <td>3.000000</td>\n",
              "      <td>4.000000</td>\n",
              "    </tr>\n",
              "    <tr>\n",
              "      <th>50%</th>\n",
              "      <td>3.372107e+12</td>\n",
              "      <td>43.000000</td>\n",
              "      <td>518.130000</td>\n",
              "      <td>597.200000</td>\n",
              "      <td>396.000000</td>\n",
              "      <td>6.000000</td>\n",
              "      <td>6.000000</td>\n",
              "    </tr>\n",
              "    <tr>\n",
              "      <th>75%</th>\n",
              "      <td>3.372108e+12</td>\n",
              "      <td>56.000000</td>\n",
              "      <td>626.860000</td>\n",
              "      <td>701.800000</td>\n",
              "      <td>532.000000</td>\n",
              "      <td>8.000000</td>\n",
              "      <td>9.000000</td>\n",
              "    </tr>\n",
              "    <tr>\n",
              "      <th>max</th>\n",
              "      <td>3.372108e+12</td>\n",
              "      <td>111.000000</td>\n",
              "      <td>1753.000000</td>\n",
              "      <td>1885.500000</td>\n",
              "      <td>954.000000</td>\n",
              "      <td>12.000000</td>\n",
              "      <td>12.000000</td>\n",
              "    </tr>\n",
              "  </tbody>\n",
              "</table>\n",
              "</div>"
            ],
            "text/plain": [
              "          TicketNum            Age    BaseFareAmt    TotalDocAmt  \\\n",
              "count  1.811050e+05  181105.000000  181105.000000  181105.000000   \n",
              "mean   3.372107e+12      41.152536     563.678708     633.680574   \n",
              "std    4.700300e+05      19.266334     160.176593     175.619313   \n",
              "min    3.372106e+12       1.000000     409.120000       0.000000   \n",
              "25%    3.372107e+12      27.000000     448.000000     511.600000   \n",
              "50%    3.372107e+12      43.000000     518.130000     597.200000   \n",
              "75%    3.372108e+12      56.000000     626.860000     701.800000   \n",
              "max    3.372108e+12     111.000000    1753.000000    1885.500000   \n",
              "\n",
              "       MarketingFlightNbr          month  booking_month  \n",
              "count       181105.000000  181105.000000  181105.000000  \n",
              "mean           424.858905       5.890804       6.462455  \n",
              "std            158.660126       3.384348       3.389557  \n",
              "min            100.000000       1.000000       1.000000  \n",
              "25%            284.000000       3.000000       4.000000  \n",
              "50%            396.000000       6.000000       6.000000  \n",
              "75%            532.000000       8.000000       9.000000  \n",
              "max            954.000000      12.000000      12.000000  "
            ]
          },
          "execution_count": 250,
          "metadata": {},
          "output_type": "execute_result"
        }
      ],
      "source": [
        "priority_non_members[(priority_non_members['BaseFareAmt'] > 409)].describe()"
      ]
    },
    {
      "cell_type": "code",
      "execution_count": null,
      "metadata": {
        "id": "PPyvoA2CqcZT",
        "outputId": "59f77019-2cc0-4956-ec7d-d3d3749958a7"
      },
      "outputs": [
        {
          "data": {
            "text/html": [
              "<div>\n",
              "<style scoped>\n",
              "    .dataframe tbody tr th:only-of-type {\n",
              "        vertical-align: middle;\n",
              "    }\n",
              "\n",
              "    .dataframe tbody tr th {\n",
              "        vertical-align: top;\n",
              "    }\n",
              "\n",
              "    .dataframe thead th {\n",
              "        text-align: right;\n",
              "    }\n",
              "</style>\n",
              "<table border=\"1\" class=\"dataframe\">\n",
              "  <thead>\n",
              "    <tr style=\"text-align: right;\">\n",
              "      <th></th>\n",
              "      <th>TicketNum</th>\n",
              "      <th>CouponSeqNbr</th>\n",
              "      <th>birthdateid</th>\n",
              "      <th>Age</th>\n",
              "      <th>BaseFareAmt</th>\n",
              "      <th>TotalDocAmt</th>\n",
              "      <th>UFlyRewardsNumber</th>\n",
              "      <th>MarketingFlightNbr</th>\n",
              "    </tr>\n",
              "  </thead>\n",
              "  <tbody>\n",
              "    <tr>\n",
              "      <th>count</th>\n",
              "      <td>1.436100e+04</td>\n",
              "      <td>14361.000000</td>\n",
              "      <td>14312.000000</td>\n",
              "      <td>14297.000000</td>\n",
              "      <td>14361.000000</td>\n",
              "      <td>14361.000000</td>\n",
              "      <td>1.436100e+04</td>\n",
              "      <td>14361.000000</td>\n",
              "    </tr>\n",
              "    <tr>\n",
              "      <th>mean</th>\n",
              "      <td>3.373118e+12</td>\n",
              "      <td>1.392173</td>\n",
              "      <td>41415.751328</td>\n",
              "      <td>49.901658</td>\n",
              "      <td>409.096036</td>\n",
              "      <td>458.559515</td>\n",
              "      <td>2.005119e+08</td>\n",
              "      <td>348.845902</td>\n",
              "    </tr>\n",
              "    <tr>\n",
              "      <th>std</th>\n",
              "      <td>2.071617e+09</td>\n",
              "      <td>0.504801</td>\n",
              "      <td>4556.518089</td>\n",
              "      <td>12.333972</td>\n",
              "      <td>262.658481</td>\n",
              "      <td>283.256267</td>\n",
              "      <td>1.810362e+07</td>\n",
              "      <td>136.782055</td>\n",
              "    </tr>\n",
              "    <tr>\n",
              "      <th>min</th>\n",
              "      <td>3.372106e+12</td>\n",
              "      <td>1.000000</td>\n",
              "      <td>18139.000000</td>\n",
              "      <td>1.000000</td>\n",
              "      <td>0.000000</td>\n",
              "      <td>0.000000</td>\n",
              "      <td>1.000030e+08</td>\n",
              "      <td>100.000000</td>\n",
              "    </tr>\n",
              "    <tr>\n",
              "      <th>25%</th>\n",
              "      <td>3.372107e+12</td>\n",
              "      <td>1.000000</td>\n",
              "      <td>38504.000000</td>\n",
              "      <td>42.000000</td>\n",
              "      <td>226.970000</td>\n",
              "      <td>263.800000</td>\n",
              "      <td>2.002909e+08</td>\n",
              "      <td>249.000000</td>\n",
              "    </tr>\n",
              "    <tr>\n",
              "      <th>50%</th>\n",
              "      <td>3.372108e+12</td>\n",
              "      <td>1.000000</td>\n",
              "      <td>41075.000000</td>\n",
              "      <td>51.000000</td>\n",
              "      <td>349.770000</td>\n",
              "      <td>395.200000</td>\n",
              "      <td>2.025366e+08</td>\n",
              "      <td>381.000000</td>\n",
              "    </tr>\n",
              "    <tr>\n",
              "      <th>75%</th>\n",
              "      <td>3.372108e+12</td>\n",
              "      <td>2.000000</td>\n",
              "      <td>44290.000000</td>\n",
              "      <td>58.000000</td>\n",
              "      <td>573.900000</td>\n",
              "      <td>635.200000</td>\n",
              "      <td>2.033998e+08</td>\n",
              "      <td>421.000000</td>\n",
              "    </tr>\n",
              "    <tr>\n",
              "      <th>max</th>\n",
              "      <td>3.377555e+12</td>\n",
              "      <td>6.000000</td>\n",
              "      <td>59665.000000</td>\n",
              "      <td>114.000000</td>\n",
              "      <td>1835.940000</td>\n",
              "      <td>2006.340000</td>\n",
              "      <td>2.410649e+08</td>\n",
              "      <td>954.000000</td>\n",
              "    </tr>\n",
              "  </tbody>\n",
              "</table>\n",
              "</div>"
            ],
            "text/plain": [
              "          TicketNum  CouponSeqNbr   birthdateid           Age   BaseFareAmt  \\\n",
              "count  1.436100e+04  14361.000000  14312.000000  14297.000000  14361.000000   \n",
              "mean   3.373118e+12      1.392173  41415.751328     49.901658    409.096036   \n",
              "std    2.071617e+09      0.504801   4556.518089     12.333972    262.658481   \n",
              "min    3.372106e+12      1.000000  18139.000000      1.000000      0.000000   \n",
              "25%    3.372107e+12      1.000000  38504.000000     42.000000    226.970000   \n",
              "50%    3.372108e+12      1.000000  41075.000000     51.000000    349.770000   \n",
              "75%    3.372108e+12      2.000000  44290.000000     58.000000    573.900000   \n",
              "max    3.377555e+12      6.000000  59665.000000    114.000000   1835.940000   \n",
              "\n",
              "        TotalDocAmt  UFlyRewardsNumber  MarketingFlightNbr  \n",
              "count  14361.000000       1.436100e+04        14361.000000  \n",
              "mean     458.559515       2.005119e+08          348.845902  \n",
              "std      283.256267       1.810362e+07          136.782055  \n",
              "min        0.000000       1.000030e+08          100.000000  \n",
              "25%      263.800000       2.002909e+08          249.000000  \n",
              "50%      395.200000       2.025366e+08          381.000000  \n",
              "75%      635.200000       2.033998e+08          421.000000  \n",
              "max     2006.340000       2.410649e+08          954.000000  "
            ]
          },
          "execution_count": 229,
          "metadata": {},
          "output_type": "execute_result"
        }
      ],
      "source": [
        "original_df[(original_df['UflyMemberStatus'] == \"Elite\")].describe()"
      ]
    },
    {
      "cell_type": "code",
      "execution_count": null,
      "metadata": {
        "id": "95Fd8_XHqcZT",
        "outputId": "a0531e55-a752-428f-a9eb-a664266ac803"
      },
      "outputs": [
        {
          "data": {
            "text/plain": [
              "Coach                   168166\n",
              "First Class              25174\n",
              "Discount First Class        51\n",
              "Name: BkdClassOfService, dtype: int64"
            ]
          },
          "execution_count": 204,
          "metadata": {},
          "output_type": "execute_result"
        }
      ],
      "source": [
        "priority_non_members[(priority_non_members['BaseFareAmt'] > 400)].BkdClassOfService.value_counts()"
      ]
    },
    {
      "cell_type": "code",
      "execution_count": null,
      "metadata": {
        "id": "JlgcUS_XqcZT",
        "outputId": "53167eb0-e68a-4b6f-9403-096c2481039c"
      },
      "outputs": [
        {
          "data": {
            "text/plain": [
              "F    90754\n",
              "M    90345\n",
              "U        6\n",
              "Name: GenderCode, dtype: int64"
            ]
          },
          "execution_count": 236,
          "metadata": {},
          "output_type": "execute_result"
        }
      ],
      "source": [
        "priority_non_members[(priority_non_members['BaseFareAmt'] > 409)].GenderCode.value_counts()"
      ]
    },
    {
      "cell_type": "code",
      "execution_count": null,
      "metadata": {
        "id": "0UwKeupBqcZT",
        "outputId": "26c79056-b3cb-449a-e70d-44302c177fd9"
      },
      "outputs": [
        {
          "data": {
            "text/plain": [
              "MSP    87145\n",
              "CUN    10435\n",
              "SFO     8347\n",
              "JFK     7009\n",
              "RSW     5967\n",
              "Name: ServiceStartCity, dtype: Int64"
            ]
          },
          "execution_count": 237,
          "metadata": {},
          "output_type": "execute_result"
        }
      ],
      "source": [
        "priority_non_members[(priority_non_members['BaseFareAmt'] > 409)].ServiceStartCity.value_counts().head()"
      ]
    },
    {
      "cell_type": "code",
      "execution_count": null,
      "metadata": {
        "id": "ewNJfg1yqcZT",
        "outputId": "ef6aea7b-813e-4bc8-8c2c-c934fa765253"
      },
      "outputs": [
        {
          "data": {
            "text/plain": [
              "MSP    86484\n",
              "CUN    10452\n",
              "SFO     8256\n",
              "JFK     6889\n",
              "RSW     6041\n",
              "Name: ServiceEndCity, dtype: Int64"
            ]
          },
          "execution_count": 238,
          "metadata": {},
          "output_type": "execute_result"
        }
      ],
      "source": [
        "priority_non_members[(priority_non_members['BaseFareAmt'] > 409)].ServiceEndCity.value_counts().head()"
      ]
    },
    {
      "cell_type": "code",
      "execution_count": null,
      "metadata": {
        "id": "GnJPmGNKqcZT",
        "outputId": "841a21f7-9637-4d1c-ce4d-b54cba8a284c"
      },
      "outputs": [
        {
          "data": {
            "text/plain": [
              "3     33681\n",
              "7     23622\n",
              "8     19075\n",
              "2     17858\n",
              "12    17725\n",
              "6     16665\n",
              "1     13390\n",
              "4     12039\n",
              "11     8105\n",
              "10     7417\n",
              "5      7293\n",
              "9      4235\n",
              "Name: month, dtype: int64"
            ]
          },
          "execution_count": 239,
          "metadata": {},
          "output_type": "execute_result"
        }
      ],
      "source": [
        "priority_non_members[(priority_non_members['BaseFareAmt'] > 409)].month.value_counts()"
      ]
    },
    {
      "cell_type": "code",
      "execution_count": null,
      "metadata": {
        "id": "reEigEGdqcZU",
        "outputId": "91c27b19-8837-4d8c-84d4-be1c1e378aa9"
      },
      "outputs": [
        {
          "data": {
            "text/plain": [
              "6     19943\n",
              "1     18335\n",
              "7     18201\n",
              "5     17779\n",
              "10    17438\n",
              "11    14818\n",
              "9     13752\n",
              "2     13421\n",
              "8     12837\n",
              "12    12262\n",
              "4     11303\n",
              "3     11016\n",
              "Name: booking_month, dtype: int64"
            ]
          },
          "execution_count": 240,
          "metadata": {},
          "output_type": "execute_result"
        }
      ],
      "source": [
        "priority_non_members[(priority_non_members['BaseFareAmt'] > 409)].booking_month.value_counts()"
      ]
    },
    {
      "cell_type": "code",
      "execution_count": null,
      "metadata": {
        "id": "73RIzV94qcZU",
        "outputId": "c1735421-bcc0-4979-87e8-17cb051ef584"
      },
      "outputs": [
        {
          "data": {
            "text/plain": [
              "Coach                   10587\n",
              "First Class              3742\n",
              "Discount First Class       32\n",
              "Name: BkdClassOfService, dtype: int64"
            ]
          },
          "execution_count": 233,
          "metadata": {},
          "output_type": "execute_result"
        }
      ],
      "source": [
        "original_df[(original_df['UflyMemberStatus'] == \"Elite\")].BkdClassOfService.value_counts()"
      ]
    },
    {
      "cell_type": "code",
      "execution_count": null,
      "metadata": {
        "id": "T-ONr8TnqcZU",
        "outputId": "96bc1cda-cc78-4223-c9f6-e4845b32bc46"
      },
      "outputs": [
        {
          "data": {
            "text/plain": [
              "count    14297.000000\n",
              "mean        49.901658\n",
              "std         12.333972\n",
              "min          1.000000\n",
              "25%         42.000000\n",
              "50%         51.000000\n",
              "75%         58.000000\n",
              "max        114.000000\n",
              "Name: Age, dtype: float64"
            ]
          },
          "execution_count": 244,
          "metadata": {},
          "output_type": "execute_result"
        }
      ],
      "source": [
        "original_df[(original_df['UflyMemberStatus'] == \"Elite\")].Age.describe()"
      ]
    },
    {
      "cell_type": "code",
      "execution_count": null,
      "metadata": {
        "id": "7KyhcUlKqcZU",
        "outputId": "a666cb1c-e305-4fc8-d466-6c43946782df"
      },
      "outputs": [
        {
          "data": {
            "text/plain": [
              "MSP    6891\n",
              "SFO     959\n",
              "JFK     877\n",
              "RSW     683\n",
              "DCA     666\n",
              "Name: ServiceStartCity, dtype: Int64"
            ]
          },
          "execution_count": 246,
          "metadata": {},
          "output_type": "execute_result"
        }
      ],
      "source": [
        "original_df[(original_df['UflyMemberStatus'] == \"Elite\")].ServiceStartCity.value_counts().head()"
      ]
    },
    {
      "cell_type": "code",
      "execution_count": null,
      "metadata": {
        "id": "fUo74ez0qcZU",
        "outputId": "781e5bed-7e9e-49e1-ce23-4a43a717335b"
      },
      "outputs": [
        {
          "data": {
            "text/plain": [
              "MSP    6797\n",
              "JFK     925\n",
              "SFO     891\n",
              "DCA     713\n",
              "LAN     683\n",
              "Name: ServiceEndCity, dtype: Int64"
            ]
          },
          "execution_count": 247,
          "metadata": {},
          "output_type": "execute_result"
        }
      ],
      "source": [
        "original_df[(original_df['UflyMemberStatus'] == \"Elite\")].ServiceEndCity.value_counts().head()"
      ]
    },
    {
      "cell_type": "code",
      "execution_count": null,
      "metadata": {
        "id": "_bzGddpEqcZV",
        "outputId": "6003be84-57c7-4fc9-da3a-951677e7d057"
      },
      "outputs": [
        {
          "data": {
            "text/plain": [
              "10    1476\n",
              "11    1368\n",
              "12    1314\n",
              "9     1299\n",
              "3     1195\n",
              "4     1166\n",
              "5     1153\n",
              "2     1123\n",
              "8     1113\n",
              "7     1079\n",
              "6     1042\n",
              "1     1033\n",
              "Name: month, dtype: int64"
            ]
          },
          "execution_count": 254,
          "metadata": {},
          "output_type": "execute_result"
        }
      ],
      "source": [
        "original_df[(original_df['UflyMemberStatus'] == \"Elite\")].month.value_counts()"
      ]
    },
    {
      "cell_type": "code",
      "execution_count": null,
      "metadata": {
        "id": "Dt8E3K80qcZV",
        "outputId": "32025aff-6af3-4ca9-9bad-f3ed152689be"
      },
      "outputs": [
        {
          "data": {
            "text/plain": [
              "10    1628\n",
              "9     1462\n",
              "8     1444\n",
              "7     1372\n",
              "11    1299\n",
              "6     1214\n",
              "4     1085\n",
              "5     1067\n",
              "1     1014\n",
              "3      967\n",
              "12     948\n",
              "2      861\n",
              "Name: booking_month, dtype: int64"
            ]
          },
          "execution_count": 255,
          "metadata": {},
          "output_type": "execute_result"
        }
      ],
      "source": [
        "original_df[(original_df['UflyMemberStatus'] == \"Elite\")].booking_month.value_counts()"
      ]
    },
    {
      "cell_type": "markdown",
      "metadata": {
        "id": "15LdG1kBqcZV"
      },
      "source": [
        "The insight from this analysis:\n",
        "There are 181105 non-members, with a mean age of around 41, are making their bookings via the SCA website, and are paying equal to or greater than the mean Elite Member Base Fare of 409. This group of customers should be the first to target, as they are already on the website, paying heavy fares. \n",
        "\n",
        "Do we know anythong more about these customers? \n",
        "0) The mean Age is 41\n",
        "1) They travel most frequently primarily between MSP, CUN, SFO and JFK airports.  \n",
        "2) Genders are equally distributed, so there is a balanced mix of males and females  \n",
        "3) Around 25,000 of these fly first class too. So they can be given a free class upgrade next time and try to convert them into members.  \n",
        "4) These 181105 primarily seem to travel in the months of March and July, and December seems popular too.  \n",
        "5) These 181105 primarily book their tickets in the months of May- June-July.  \n",
        "\n"
      ]
    },
    {
      "cell_type": "markdown",
      "metadata": {
        "id": "YjrVtQkeqcZV"
      },
      "source": [
        "## In-depth niche analysis: Not using for Slides"
      ]
    },
    {
      "cell_type": "code",
      "execution_count": null,
      "metadata": {
        "id": "nxaVSFICqcZV",
        "outputId": "e6fc3f9d-876d-40f9-948b-a4e1a1e73234"
      },
      "outputs": [
        {
          "data": {
            "text/plain": [
              "<AxesSubplot: xlabel='BookingChannel', ylabel='Age'>"
            ]
          },
          "execution_count": 16,
          "metadata": {},
          "output_type": "execute_result"
        },
        {
          "data": {
            "image/png": "[encoded data removed]",
            "text/plain": [
              "<Figure size 1500x800 with 1 Axes>"
            ]
          },
          "metadata": {},
          "output_type": "display_data"
        }
      ],
      "source": [
        "plt.figure(figsize=(15,8))\n",
        "sns.boxplot(data=original_df, x='BookingChannel', y='Age', hue='UflyMemberStatus')"
      ]
    },
    {
      "cell_type": "markdown",
      "metadata": {
        "id": "6X35dQ0JqcZW"
      },
      "source": [
        "Members seem more likely to book from SCA website rather than outside booking. This feature could be useful."
      ]
    },
    {
      "cell_type": "code",
      "execution_count": null,
      "metadata": {
        "id": "ILsUo9O2qcZW",
        "outputId": "af0e1b31-5bb0-4f31-a77d-9f557b00ab92"
      },
      "outputs": [
        {
          "data": {
            "text/html": [
              "<div>\n",
              "<style scoped>\n",
              "    .dataframe tbody tr th:only-of-type {\n",
              "        vertical-align: middle;\n",
              "    }\n",
              "\n",
              "    .dataframe tbody tr th {\n",
              "        vertical-align: top;\n",
              "    }\n",
              "\n",
              "    .dataframe thead th {\n",
              "        text-align: right;\n",
              "    }\n",
              "</style>\n",
              "<table border=\"1\" class=\"dataframe\">\n",
              "  <thead>\n",
              "    <tr style=\"text-align: right;\">\n",
              "      <th></th>\n",
              "      <th>PNRLocatorID</th>\n",
              "      <th>TicketNum</th>\n",
              "      <th>CouponSeqNbr</th>\n",
              "      <th>ServiceStartCity</th>\n",
              "      <th>ServiceEndCity</th>\n",
              "      <th>PNRCreateDate</th>\n",
              "      <th>ServiceStartDate</th>\n",
              "      <th>PaxName</th>\n",
              "      <th>EncryptedName</th>\n",
              "      <th>GenderCode</th>\n",
              "      <th>...</th>\n",
              "      <th>BaseFareAmt</th>\n",
              "      <th>TotalDocAmt</th>\n",
              "      <th>UFlyRewardsNumber</th>\n",
              "      <th>UflyMemberStatus</th>\n",
              "      <th>CardHolder</th>\n",
              "      <th>BookedProduct</th>\n",
              "      <th>EnrollDate</th>\n",
              "      <th>MarketingFlightNbr</th>\n",
              "      <th>MarketingAirlineCode</th>\n",
              "      <th>StopoverCode</th>\n",
              "    </tr>\n",
              "  </thead>\n",
              "  <tbody>\n",
              "    <tr>\n",
              "      <th>99371</th>\n",
              "      <td>ATVGHC</td>\n",
              "      <td>3372107753993</td>\n",
              "      <td>1</td>\n",
              "      <td>CUN</td>\n",
              "      <td>MSP</td>\n",
              "      <td>2014-05-28</td>\n",
              "      <td>2014-08-31</td>\n",
              "      <td>NGUYLA</td>\n",
              "      <td>4E475559454E44696420493F7C20676574207468697320...</td>\n",
              "      <td>M</td>\n",
              "      <td>...</td>\n",
              "      <td>2664.0</td>\n",
              "      <td>279.99</td>\n",
              "      <td>&lt;NA&gt;</td>\n",
              "      <td>Nonmember</td>\n",
              "      <td>NaN</td>\n",
              "      <td>GRP</td>\n",
              "      <td>NaT</td>\n",
              "      <td>588</td>\n",
              "      <td>SY</td>\n",
              "      <td>N</td>\n",
              "    </tr>\n",
              "    <tr>\n",
              "      <th>99372</th>\n",
              "      <td>ATVGHC</td>\n",
              "      <td>3372107753993</td>\n",
              "      <td>1</td>\n",
              "      <td>CUN</td>\n",
              "      <td>MSP</td>\n",
              "      <td>2014-05-28</td>\n",
              "      <td>2014-08-31</td>\n",
              "      <td>NGUYLA</td>\n",
              "      <td>4E475559454E44696420493F7C20676574207468697320...</td>\n",
              "      <td>M</td>\n",
              "      <td>...</td>\n",
              "      <td>2664.0</td>\n",
              "      <td>279.99</td>\n",
              "      <td>&lt;NA&gt;</td>\n",
              "      <td>Nonmember</td>\n",
              "      <td>NaN</td>\n",
              "      <td>GRP</td>\n",
              "      <td>NaT</td>\n",
              "      <td>588</td>\n",
              "      <td>SY</td>\n",
              "      <td>N</td>\n",
              "    </tr>\n",
              "    <tr>\n",
              "      <th>99373</th>\n",
              "      <td>ATVGHC</td>\n",
              "      <td>3372107753993</td>\n",
              "      <td>1</td>\n",
              "      <td>CUN</td>\n",
              "      <td>MSP</td>\n",
              "      <td>2014-05-28</td>\n",
              "      <td>2014-08-31</td>\n",
              "      <td>NGUYLA</td>\n",
              "      <td>4E475559454E44696420493F7C20676574207468697320...</td>\n",
              "      <td>M</td>\n",
              "      <td>...</td>\n",
              "      <td>2664.0</td>\n",
              "      <td>279.99</td>\n",
              "      <td>&lt;NA&gt;</td>\n",
              "      <td>Nonmember</td>\n",
              "      <td>NaN</td>\n",
              "      <td>GRP</td>\n",
              "      <td>NaT</td>\n",
              "      <td>588</td>\n",
              "      <td>SY</td>\n",
              "      <td>N</td>\n",
              "    </tr>\n",
              "    <tr>\n",
              "      <th>99374</th>\n",
              "      <td>ATVGHC</td>\n",
              "      <td>3372107753994</td>\n",
              "      <td>1</td>\n",
              "      <td>CUN</td>\n",
              "      <td>MSP</td>\n",
              "      <td>2014-05-28</td>\n",
              "      <td>2014-08-31</td>\n",
              "      <td>NGUYAN</td>\n",
              "      <td>4E475559454E44696420493F7C20676574207468697320...</td>\n",
              "      <td>M</td>\n",
              "      <td>...</td>\n",
              "      <td>2664.0</td>\n",
              "      <td>279.99</td>\n",
              "      <td>&lt;NA&gt;</td>\n",
              "      <td>Nonmember</td>\n",
              "      <td>NaN</td>\n",
              "      <td>GRP</td>\n",
              "      <td>NaT</td>\n",
              "      <td>588</td>\n",
              "      <td>SY</td>\n",
              "      <td>N</td>\n",
              "    </tr>\n",
              "    <tr>\n",
              "      <th>99375</th>\n",
              "      <td>ATVGHC</td>\n",
              "      <td>3372107753994</td>\n",
              "      <td>1</td>\n",
              "      <td>CUN</td>\n",
              "      <td>MSP</td>\n",
              "      <td>2014-05-28</td>\n",
              "      <td>2014-08-31</td>\n",
              "      <td>NGUYAN</td>\n",
              "      <td>4E475559454E44696420493F7C20676574207468697320...</td>\n",
              "      <td>M</td>\n",
              "      <td>...</td>\n",
              "      <td>2664.0</td>\n",
              "      <td>279.99</td>\n",
              "      <td>&lt;NA&gt;</td>\n",
              "      <td>Nonmember</td>\n",
              "      <td>NaN</td>\n",
              "      <td>GRP</td>\n",
              "      <td>NaT</td>\n",
              "      <td>588</td>\n",
              "      <td>SY</td>\n",
              "      <td>N</td>\n",
              "    </tr>\n",
              "    <tr>\n",
              "      <th>99376</th>\n",
              "      <td>ATVGHC</td>\n",
              "      <td>3372107753994</td>\n",
              "      <td>1</td>\n",
              "      <td>CUN</td>\n",
              "      <td>MSP</td>\n",
              "      <td>2014-05-28</td>\n",
              "      <td>2014-08-31</td>\n",
              "      <td>NGUYAN</td>\n",
              "      <td>4E475559454E44696420493F7C20676574207468697320...</td>\n",
              "      <td>M</td>\n",
              "      <td>...</td>\n",
              "      <td>2664.0</td>\n",
              "      <td>279.99</td>\n",
              "      <td>&lt;NA&gt;</td>\n",
              "      <td>Nonmember</td>\n",
              "      <td>NaN</td>\n",
              "      <td>GRP</td>\n",
              "      <td>NaT</td>\n",
              "      <td>588</td>\n",
              "      <td>SY</td>\n",
              "      <td>N</td>\n",
              "    </tr>\n",
              "  </tbody>\n",
              "</table>\n",
              "<p>6 rows × 26 columns</p>\n",
              "</div>"
            ],
            "text/plain": [
              "      PNRLocatorID      TicketNum  CouponSeqNbr ServiceStartCity  \\\n",
              "99371       ATVGHC  3372107753993             1              CUN   \n",
              "99372       ATVGHC  3372107753993             1              CUN   \n",
              "99373       ATVGHC  3372107753993             1              CUN   \n",
              "99374       ATVGHC  3372107753994             1              CUN   \n",
              "99375       ATVGHC  3372107753994             1              CUN   \n",
              "99376       ATVGHC  3372107753994             1              CUN   \n",
              "\n",
              "      ServiceEndCity PNRCreateDate ServiceStartDate PaxName  \\\n",
              "99371            MSP    2014-05-28       2014-08-31  NGUYLA   \n",
              "99372            MSP    2014-05-28       2014-08-31  NGUYLA   \n",
              "99373            MSP    2014-05-28       2014-08-31  NGUYLA   \n",
              "99374            MSP    2014-05-28       2014-08-31  NGUYAN   \n",
              "99375            MSP    2014-05-28       2014-08-31  NGUYAN   \n",
              "99376            MSP    2014-05-28       2014-08-31  NGUYAN   \n",
              "\n",
              "                                           EncryptedName GenderCode  ...  \\\n",
              "99371  4E475559454E44696420493F7C20676574207468697320...          M  ...   \n",
              "99372  4E475559454E44696420493F7C20676574207468697320...          M  ...   \n",
              "99373  4E475559454E44696420493F7C20676574207468697320...          M  ...   \n",
              "99374  4E475559454E44696420493F7C20676574207468697320...          M  ...   \n",
              "99375  4E475559454E44696420493F7C20676574207468697320...          M  ...   \n",
              "99376  4E475559454E44696420493F7C20676574207468697320...          M  ...   \n",
              "\n",
              "       BaseFareAmt  TotalDocAmt UFlyRewardsNumber UflyMemberStatus CardHolder  \\\n",
              "99371       2664.0       279.99              <NA>        Nonmember        NaN   \n",
              "99372       2664.0       279.99              <NA>        Nonmember        NaN   \n",
              "99373       2664.0       279.99              <NA>        Nonmember        NaN   \n",
              "99374       2664.0       279.99              <NA>        Nonmember        NaN   \n",
              "99375       2664.0       279.99              <NA>        Nonmember        NaN   \n",
              "99376       2664.0       279.99              <NA>        Nonmember        NaN   \n",
              "\n",
              "      BookedProduct  EnrollDate  MarketingFlightNbr  MarketingAirlineCode  \\\n",
              "99371           GRP         NaT                 588                    SY   \n",
              "99372           GRP         NaT                 588                    SY   \n",
              "99373           GRP         NaT                 588                    SY   \n",
              "99374           GRP         NaT                 588                    SY   \n",
              "99375           GRP         NaT                 588                    SY   \n",
              "99376           GRP         NaT                 588                    SY   \n",
              "\n",
              "      StopoverCode  \n",
              "99371            N  \n",
              "99372            N  \n",
              "99373            N  \n",
              "99374            N  \n",
              "99375            N  \n",
              "99376            N  \n",
              "\n",
              "[6 rows x 26 columns]"
            ]
          },
          "execution_count": 17,
          "metadata": {},
          "output_type": "execute_result"
        }
      ],
      "source": [
        "original_df[(original_df['BaseFareAmt'] > 2000) & (original_df['BaseFareAmt'] < 3000)]"
      ]
    },
    {
      "cell_type": "markdown",
      "metadata": {
        "id": "jk4QprjEqcZW"
      },
      "source": [
        "1: BaseFareAmt > 4000: 149 records. All belong to the same flight, and all of the seem like an outlier  \n",
        "2: BaseFareAmt > 3000 & BaseFareAmt < 4000 has one record, seems like a transferred ticket (TotalDocAmt = 0)  \n",
        "3: BaseFareAmt > 2000 & BaseFareAmt < 3000 has 6 records. All booked by one person. Probably got a discount (TotalDocAmt = 279)  "
      ]
    },
    {
      "cell_type": "markdown",
      "metadata": {
        "id": "BOJyi2VsqcZX"
      },
      "source": [
        ">So an entire flight's info could be an outlier"
      ]
    },
    {
      "cell_type": "markdown",
      "metadata": {
        "id": "ccg6PbwzqcZX"
      },
      "source": [
        "What are the Booked Products across the dataset"
      ]
    },
    {
      "cell_type": "code",
      "execution_count": null,
      "metadata": {
        "id": "RhwkZvWqqcZX",
        "outputId": "2110b2cb-937d-4b74-be53-24f2a05fdf42"
      },
      "outputs": [
        {
          "data": {
            "text/plain": [
              "N         2204898\n",
              "SSWMIR     390845\n",
              "BSGTIX     137082\n",
              "GRP        129515\n",
              "EXP         99621\n",
              "UP          78106\n",
              "SCV         71888\n",
              "SSWM        32137\n",
              "FUNJET      25281\n",
              "ORB         23536\n",
              "Name: BookedProduct, dtype: int64"
            ]
          },
          "execution_count": 18,
          "metadata": {},
          "output_type": "execute_result"
        }
      ],
      "source": [
        "original_df['BookedProduct'].value_counts()[:10]"
      ]
    },
    {
      "cell_type": "markdown",
      "metadata": {
        "id": "S9P6JiPrqcZX"
      },
      "source": [
        "Which of the Booked Products are more associated with discounts?"
      ]
    },
    {
      "cell_type": "code",
      "execution_count": null,
      "metadata": {
        "id": "Ealx4zepqcZX",
        "outputId": "cf49a6e7-28f8-47e1-c41a-5d5017de0586"
      },
      "outputs": [
        {
          "data": {
            "text/plain": [
              "FUNJET     23997\n",
              "ORB        23257\n",
              "N          22809\n",
              "TVLCTY     21224\n",
              "DSNY       11191\n",
              "APPLE       7927\n",
              "STUNIV      5872\n",
              "CHEOPQ      4250\n",
              "PCLNOPQ     4181\n",
              "EXP         3661\n",
              "Name: BookedProduct, dtype: int64"
            ]
          },
          "execution_count": 19,
          "metadata": {},
          "output_type": "execute_result"
        }
      ],
      "source": [
        "original_df[original_df['TotalDocAmt'] < original_df['BaseFareAmt']]['BookedProduct'].value_counts()[:10]"
      ]
    },
    {
      "cell_type": "code",
      "execution_count": null,
      "metadata": {
        "id": "49DcNKTcqcZX",
        "outputId": "bb392ccb-9f91-4db2-884c-338c933a1f72"
      },
      "outputs": [
        {
          "data": {
            "text/plain": [
              "<AxesSubplot: ylabel='count'>"
            ]
          },
          "execution_count": 20,
          "metadata": {},
          "output_type": "execute_result"
        },
        {
          "data": {
            "image/png": "[encoded data removed]",
            "text/plain": [
              "<Figure size 640x480 with 1 Axes>"
            ]
          },
          "metadata": {},
          "output_type": "display_data"
        }
      ],
      "source": [
        "sns.countplot(original_df[original_df['Age'] > 80]['EncryptedName'].value_counts())"
      ]
    },
    {
      "cell_type": "markdown",
      "metadata": {
        "id": "0bfkV7T_qcZX"
      },
      "source": [
        "19231 unique travellers above the Age 80. More even valued bookings than odd.\n",
        "#### Older travellers prefer round-trips."
      ]
    },
    {
      "cell_type": "code",
      "execution_count": null,
      "metadata": {
        "id": "TyGiHaVjqcZY",
        "outputId": "5834dca6-fcbd-4961-f24c-7d3096f98289"
      },
      "outputs": [
        {
          "data": {
            "text/html": [
              "<div>\n",
              "<style scoped>\n",
              "    .dataframe tbody tr th:only-of-type {\n",
              "        vertical-align: middle;\n",
              "    }\n",
              "\n",
              "    .dataframe tbody tr th {\n",
              "        vertical-align: top;\n",
              "    }\n",
              "\n",
              "    .dataframe thead th {\n",
              "        text-align: right;\n",
              "    }\n",
              "</style>\n",
              "<table border=\"1\" class=\"dataframe\">\n",
              "  <thead>\n",
              "    <tr style=\"text-align: right;\">\n",
              "      <th></th>\n",
              "      <th>PNRLocatorID</th>\n",
              "      <th>TicketNum</th>\n",
              "      <th>CouponSeqNbr</th>\n",
              "      <th>ServiceStartCity</th>\n",
              "      <th>ServiceEndCity</th>\n",
              "      <th>PNRCreateDate</th>\n",
              "      <th>ServiceStartDate</th>\n",
              "      <th>PaxName</th>\n",
              "      <th>EncryptedName</th>\n",
              "      <th>GenderCode</th>\n",
              "      <th>...</th>\n",
              "      <th>BaseFareAmt</th>\n",
              "      <th>TotalDocAmt</th>\n",
              "      <th>UFlyRewardsNumber</th>\n",
              "      <th>UflyMemberStatus</th>\n",
              "      <th>CardHolder</th>\n",
              "      <th>BookedProduct</th>\n",
              "      <th>EnrollDate</th>\n",
              "      <th>MarketingFlightNbr</th>\n",
              "      <th>MarketingAirlineCode</th>\n",
              "      <th>StopoverCode</th>\n",
              "    </tr>\n",
              "  </thead>\n",
              "  <tbody>\n",
              "    <tr>\n",
              "      <th>76066</th>\n",
              "      <td>ARWIZC</td>\n",
              "      <td>3372106774135</td>\n",
              "      <td>1</td>\n",
              "      <td>MSP</td>\n",
              "      <td>PNS</td>\n",
              "      <td>2013-04-18</td>\n",
              "      <td>2013-05-18</td>\n",
              "      <td>TOMPMI</td>\n",
              "      <td>544F4D504F5344696420493F7C20676574207468697320...</td>\n",
              "      <td>M</td>\n",
              "      <td>...</td>\n",
              "      <td>298.78</td>\n",
              "      <td>342.98</td>\n",
              "      <td>&lt;NA&gt;</td>\n",
              "      <td>Nonmember</td>\n",
              "      <td>NaN</td>\n",
              "      <td>NAVY</td>\n",
              "      <td>NaT</td>\n",
              "      <td>8850</td>\n",
              "      <td>SY</td>\n",
              "      <td>N</td>\n",
              "    </tr>\n",
              "    <tr>\n",
              "      <th>76067</th>\n",
              "      <td>ARWIZC</td>\n",
              "      <td>3372106774135</td>\n",
              "      <td>2</td>\n",
              "      <td>PNS</td>\n",
              "      <td>MSP</td>\n",
              "      <td>2013-04-18</td>\n",
              "      <td>2013-05-18</td>\n",
              "      <td>TOMPMI</td>\n",
              "      <td>544F4D504F5344696420493F7C20676574207468697320...</td>\n",
              "      <td>M</td>\n",
              "      <td>...</td>\n",
              "      <td>298.78</td>\n",
              "      <td>342.98</td>\n",
              "      <td>&lt;NA&gt;</td>\n",
              "      <td>Nonmember</td>\n",
              "      <td>NaN</td>\n",
              "      <td>NAVY</td>\n",
              "      <td>NaT</td>\n",
              "      <td>8851</td>\n",
              "      <td>SY</td>\n",
              "      <td>O</td>\n",
              "    </tr>\n",
              "    <tr>\n",
              "      <th>220644</th>\n",
              "      <td>BPNEVQ</td>\n",
              "      <td>3372106813856</td>\n",
              "      <td>2</td>\n",
              "      <td>PNS</td>\n",
              "      <td>MSP</td>\n",
              "      <td>2013-05-12</td>\n",
              "      <td>2013-05-18</td>\n",
              "      <td>UTTELA</td>\n",
              "      <td>555454455244696420493F7C2067657420746869732072...</td>\n",
              "      <td>M</td>\n",
              "      <td>...</td>\n",
              "      <td>298.78</td>\n",
              "      <td>342.98</td>\n",
              "      <td>&lt;NA&gt;</td>\n",
              "      <td>Nonmember</td>\n",
              "      <td>NaN</td>\n",
              "      <td>NAVY</td>\n",
              "      <td>NaT</td>\n",
              "      <td>8851</td>\n",
              "      <td>SY</td>\n",
              "      <td>O</td>\n",
              "    </tr>\n",
              "    <tr>\n",
              "      <th>220645</th>\n",
              "      <td>BPNEVQ</td>\n",
              "      <td>3372106813856</td>\n",
              "      <td>1</td>\n",
              "      <td>MSP</td>\n",
              "      <td>PNS</td>\n",
              "      <td>2013-05-12</td>\n",
              "      <td>2013-05-18</td>\n",
              "      <td>UTTELA</td>\n",
              "      <td>555454455244696420493F7C2067657420746869732072...</td>\n",
              "      <td>M</td>\n",
              "      <td>...</td>\n",
              "      <td>298.78</td>\n",
              "      <td>342.98</td>\n",
              "      <td>&lt;NA&gt;</td>\n",
              "      <td>Nonmember</td>\n",
              "      <td>NaN</td>\n",
              "      <td>NAVY</td>\n",
              "      <td>NaT</td>\n",
              "      <td>8850</td>\n",
              "      <td>SY</td>\n",
              "      <td>N</td>\n",
              "    </tr>\n",
              "    <tr>\n",
              "      <th>232129</th>\n",
              "      <td>BSLASB</td>\n",
              "      <td>3372106775434</td>\n",
              "      <td>2</td>\n",
              "      <td>PNS</td>\n",
              "      <td>MSP</td>\n",
              "      <td>2013-04-19</td>\n",
              "      <td>2013-05-18</td>\n",
              "      <td>KOELRO</td>\n",
              "      <td>4B4F454C424C44696420493F7C20676574207468697320...</td>\n",
              "      <td>M</td>\n",
              "      <td>...</td>\n",
              "      <td>298.78</td>\n",
              "      <td>342.98</td>\n",
              "      <td>&lt;NA&gt;</td>\n",
              "      <td>Nonmember</td>\n",
              "      <td>NaN</td>\n",
              "      <td>NAVY</td>\n",
              "      <td>NaT</td>\n",
              "      <td>8851</td>\n",
              "      <td>SY</td>\n",
              "      <td>O</td>\n",
              "    </tr>\n",
              "    <tr>\n",
              "      <th>...</th>\n",
              "      <td>...</td>\n",
              "      <td>...</td>\n",
              "      <td>...</td>\n",
              "      <td>...</td>\n",
              "      <td>...</td>\n",
              "      <td>...</td>\n",
              "      <td>...</td>\n",
              "      <td>...</td>\n",
              "      <td>...</td>\n",
              "      <td>...</td>\n",
              "      <td>...</td>\n",
              "      <td>...</td>\n",
              "      <td>...</td>\n",
              "      <td>...</td>\n",
              "      <td>...</td>\n",
              "      <td>...</td>\n",
              "      <td>...</td>\n",
              "      <td>...</td>\n",
              "      <td>...</td>\n",
              "      <td>...</td>\n",
              "      <td>...</td>\n",
              "    </tr>\n",
              "    <tr>\n",
              "      <th>3405356</th>\n",
              "      <td>ZEYXEW</td>\n",
              "      <td>3372106759970</td>\n",
              "      <td>2</td>\n",
              "      <td>PNS</td>\n",
              "      <td>MSP</td>\n",
              "      <td>2013-04-09</td>\n",
              "      <td>2013-05-18</td>\n",
              "      <td>DEREDA</td>\n",
              "      <td>444552454D455244696420493F7C206765742074686973...</td>\n",
              "      <td>M</td>\n",
              "      <td>...</td>\n",
              "      <td>298.78</td>\n",
              "      <td>342.98</td>\n",
              "      <td>&lt;NA&gt;</td>\n",
              "      <td>Nonmember</td>\n",
              "      <td>NaN</td>\n",
              "      <td>NAVY</td>\n",
              "      <td>NaT</td>\n",
              "      <td>8851</td>\n",
              "      <td>SY</td>\n",
              "      <td>O</td>\n",
              "    </tr>\n",
              "    <tr>\n",
              "      <th>3405357</th>\n",
              "      <td>ZEYXEW</td>\n",
              "      <td>3372106759971</td>\n",
              "      <td>1</td>\n",
              "      <td>MSP</td>\n",
              "      <td>PNS</td>\n",
              "      <td>2013-04-09</td>\n",
              "      <td>2013-05-18</td>\n",
              "      <td>WATKMI</td>\n",
              "      <td>5741544B494E5344696420493F7C206765742074686973...</td>\n",
              "      <td>M</td>\n",
              "      <td>...</td>\n",
              "      <td>298.78</td>\n",
              "      <td>342.98</td>\n",
              "      <td>&lt;NA&gt;</td>\n",
              "      <td>Nonmember</td>\n",
              "      <td>NaN</td>\n",
              "      <td>NAVY</td>\n",
              "      <td>NaT</td>\n",
              "      <td>8850</td>\n",
              "      <td>SY</td>\n",
              "      <td>N</td>\n",
              "    </tr>\n",
              "    <tr>\n",
              "      <th>3405358</th>\n",
              "      <td>ZEYXEW</td>\n",
              "      <td>3372106759971</td>\n",
              "      <td>2</td>\n",
              "      <td>PNS</td>\n",
              "      <td>MSP</td>\n",
              "      <td>2013-04-09</td>\n",
              "      <td>2013-05-18</td>\n",
              "      <td>WATKMI</td>\n",
              "      <td>5741544B494E5344696420493F7C206765742074686973...</td>\n",
              "      <td>M</td>\n",
              "      <td>...</td>\n",
              "      <td>298.78</td>\n",
              "      <td>342.98</td>\n",
              "      <td>&lt;NA&gt;</td>\n",
              "      <td>Nonmember</td>\n",
              "      <td>NaN</td>\n",
              "      <td>NAVY</td>\n",
              "      <td>NaT</td>\n",
              "      <td>8851</td>\n",
              "      <td>SY</td>\n",
              "      <td>O</td>\n",
              "    </tr>\n",
              "    <tr>\n",
              "      <th>3405791</th>\n",
              "      <td>ZFGVZM</td>\n",
              "      <td>3372106751223</td>\n",
              "      <td>1</td>\n",
              "      <td>MSP</td>\n",
              "      <td>PNS</td>\n",
              "      <td>2013-04-04</td>\n",
              "      <td>2013-05-18</td>\n",
              "      <td>MEULAL</td>\n",
              "      <td>4D45554C4944696420493F7C2067657420746869732072...</td>\n",
              "      <td>M</td>\n",
              "      <td>...</td>\n",
              "      <td>329.30</td>\n",
              "      <td>375.80</td>\n",
              "      <td>&lt;NA&gt;</td>\n",
              "      <td>Nonmember</td>\n",
              "      <td>NaN</td>\n",
              "      <td>NAVY</td>\n",
              "      <td>NaT</td>\n",
              "      <td>8850</td>\n",
              "      <td>SY</td>\n",
              "      <td>N</td>\n",
              "    </tr>\n",
              "    <tr>\n",
              "      <th>3405792</th>\n",
              "      <td>ZFGVZM</td>\n",
              "      <td>3372106751223</td>\n",
              "      <td>2</td>\n",
              "      <td>PNS</td>\n",
              "      <td>MSP</td>\n",
              "      <td>2013-04-04</td>\n",
              "      <td>2013-05-18</td>\n",
              "      <td>MEULAL</td>\n",
              "      <td>4D45554C4944696420493F7C2067657420746869732072...</td>\n",
              "      <td>M</td>\n",
              "      <td>...</td>\n",
              "      <td>329.30</td>\n",
              "      <td>375.80</td>\n",
              "      <td>&lt;NA&gt;</td>\n",
              "      <td>Nonmember</td>\n",
              "      <td>NaN</td>\n",
              "      <td>NAVY</td>\n",
              "      <td>NaT</td>\n",
              "      <td>8851</td>\n",
              "      <td>SY</td>\n",
              "      <td>O</td>\n",
              "    </tr>\n",
              "  </tbody>\n",
              "</table>\n",
              "<p>182 rows × 26 columns</p>\n",
              "</div>"
            ],
            "text/plain": [
              "        PNRLocatorID      TicketNum  CouponSeqNbr ServiceStartCity  \\\n",
              "76066         ARWIZC  3372106774135             1              MSP   \n",
              "76067         ARWIZC  3372106774135             2              PNS   \n",
              "220644        BPNEVQ  3372106813856             2              PNS   \n",
              "220645        BPNEVQ  3372106813856             1              MSP   \n",
              "232129        BSLASB  3372106775434             2              PNS   \n",
              "...              ...            ...           ...              ...   \n",
              "3405356       ZEYXEW  3372106759970             2              PNS   \n",
              "3405357       ZEYXEW  3372106759971             1              MSP   \n",
              "3405358       ZEYXEW  3372106759971             2              PNS   \n",
              "3405791       ZFGVZM  3372106751223             1              MSP   \n",
              "3405792       ZFGVZM  3372106751223             2              PNS   \n",
              "\n",
              "        ServiceEndCity PNRCreateDate ServiceStartDate PaxName  \\\n",
              "76066              PNS    2013-04-18       2013-05-18  TOMPMI   \n",
              "76067              MSP    2013-04-18       2013-05-18  TOMPMI   \n",
              "220644             MSP    2013-05-12       2013-05-18  UTTELA   \n",
              "220645             PNS    2013-05-12       2013-05-18  UTTELA   \n",
              "232129             MSP    2013-04-19       2013-05-18  KOELRO   \n",
              "...                ...           ...              ...     ...   \n",
              "3405356            MSP    2013-04-09       2013-05-18  DEREDA   \n",
              "3405357            PNS    2013-04-09       2013-05-18  WATKMI   \n",
              "3405358            MSP    2013-04-09       2013-05-18  WATKMI   \n",
              "3405791            PNS    2013-04-04       2013-05-18  MEULAL   \n",
              "3405792            MSP    2013-04-04       2013-05-18  MEULAL   \n",
              "\n",
              "                                             EncryptedName GenderCode  ...  \\\n",
              "76066    544F4D504F5344696420493F7C20676574207468697320...          M  ...   \n",
              "76067    544F4D504F5344696420493F7C20676574207468697320...          M  ...   \n",
              "220644   555454455244696420493F7C2067657420746869732072...          M  ...   \n",
              "220645   555454455244696420493F7C2067657420746869732072...          M  ...   \n",
              "232129   4B4F454C424C44696420493F7C20676574207468697320...          M  ...   \n",
              "...                                                    ...        ...  ...   \n",
              "3405356  444552454D455244696420493F7C206765742074686973...          M  ...   \n",
              "3405357  5741544B494E5344696420493F7C206765742074686973...          M  ...   \n",
              "3405358  5741544B494E5344696420493F7C206765742074686973...          M  ...   \n",
              "3405791  4D45554C4944696420493F7C2067657420746869732072...          M  ...   \n",
              "3405792  4D45554C4944696420493F7C2067657420746869732072...          M  ...   \n",
              "\n",
              "         BaseFareAmt  TotalDocAmt UFlyRewardsNumber UflyMemberStatus  \\\n",
              "76066         298.78       342.98              <NA>        Nonmember   \n",
              "76067         298.78       342.98              <NA>        Nonmember   \n",
              "220644        298.78       342.98              <NA>        Nonmember   \n",
              "220645        298.78       342.98              <NA>        Nonmember   \n",
              "232129        298.78       342.98              <NA>        Nonmember   \n",
              "...              ...          ...               ...              ...   \n",
              "3405356       298.78       342.98              <NA>        Nonmember   \n",
              "3405357       298.78       342.98              <NA>        Nonmember   \n",
              "3405358       298.78       342.98              <NA>        Nonmember   \n",
              "3405791       329.30       375.80              <NA>        Nonmember   \n",
              "3405792       329.30       375.80              <NA>        Nonmember   \n",
              "\n",
              "        CardHolder BookedProduct  EnrollDate  MarketingFlightNbr  \\\n",
              "76066          NaN          NAVY         NaT                8850   \n",
              "76067          NaN          NAVY         NaT                8851   \n",
              "220644         NaN          NAVY         NaT                8851   \n",
              "220645         NaN          NAVY         NaT                8850   \n",
              "232129         NaN          NAVY         NaT                8851   \n",
              "...            ...           ...         ...                 ...   \n",
              "3405356        NaN          NAVY         NaT                8851   \n",
              "3405357        NaN          NAVY         NaT                8850   \n",
              "3405358        NaN          NAVY         NaT                8851   \n",
              "3405791        NaN          NAVY         NaT                8850   \n",
              "3405792        NaN          NAVY         NaT                8851   \n",
              "\n",
              "         MarketingAirlineCode StopoverCode  \n",
              "76066                      SY            N  \n",
              "76067                      SY            O  \n",
              "220644                     SY            O  \n",
              "220645                     SY            N  \n",
              "232129                     SY            O  \n",
              "...                       ...          ...  \n",
              "3405356                    SY            O  \n",
              "3405357                    SY            N  \n",
              "3405358                    SY            O  \n",
              "3405791                    SY            N  \n",
              "3405792                    SY            O  \n",
              "\n",
              "[182 rows x 26 columns]"
            ]
          },
          "execution_count": 21,
          "metadata": {},
          "output_type": "execute_result"
        }
      ],
      "source": [
        "original_df[original_df['BookedProduct'] == 'NAVY']"
      ]
    },
    {
      "cell_type": "markdown",
      "metadata": {
        "id": "hjbhIsKdqcZY"
      },
      "source": [
        "Navy: Only two flights; Between MSP and PNS (From one to the other); One Non-stop, one has a hop. Only the first passenger paid slightly extra. \n",
        "\n",
        "Can give NAVY Code to that particular journey Itenerary, as promoting this to such a location lile PNS() which has a coast can help drive the sales for this particular flight / or these kind of flights in the future!"
      ]
    },
    {
      "cell_type": "code",
      "execution_count": null,
      "metadata": {
        "id": "y_w7ThuQqcZY",
        "outputId": "7e2b3a29-6d60-41dc-8bff-1e9aa4fc05e1"
      },
      "outputs": [
        {
          "data": {
            "text/html": [
              "<div>\n",
              "<style scoped>\n",
              "    .dataframe tbody tr th:only-of-type {\n",
              "        vertical-align: middle;\n",
              "    }\n",
              "\n",
              "    .dataframe tbody tr th {\n",
              "        vertical-align: top;\n",
              "    }\n",
              "\n",
              "    .dataframe thead th {\n",
              "        text-align: right;\n",
              "    }\n",
              "</style>\n",
              "<table border=\"1\" class=\"dataframe\">\n",
              "  <thead>\n",
              "    <tr style=\"text-align: right;\">\n",
              "      <th></th>\n",
              "      <th>PNRLocatorID</th>\n",
              "      <th>TicketNum</th>\n",
              "      <th>CouponSeqNbr</th>\n",
              "      <th>ServiceStartCity</th>\n",
              "      <th>ServiceEndCity</th>\n",
              "      <th>PNRCreateDate</th>\n",
              "      <th>ServiceStartDate</th>\n",
              "      <th>PaxName</th>\n",
              "      <th>EncryptedName</th>\n",
              "      <th>GenderCode</th>\n",
              "      <th>...</th>\n",
              "      <th>BaseFareAmt</th>\n",
              "      <th>TotalDocAmt</th>\n",
              "      <th>UFlyRewardsNumber</th>\n",
              "      <th>UflyMemberStatus</th>\n",
              "      <th>CardHolder</th>\n",
              "      <th>BookedProduct</th>\n",
              "      <th>EnrollDate</th>\n",
              "      <th>MarketingFlightNbr</th>\n",
              "      <th>MarketingAirlineCode</th>\n",
              "      <th>StopoverCode</th>\n",
              "    </tr>\n",
              "  </thead>\n",
              "  <tbody>\n",
              "    <tr>\n",
              "      <th>456886</th>\n",
              "      <td>ECUDIT</td>\n",
              "      <td>3372107789222</td>\n",
              "      <td>2</td>\n",
              "      <td>JFK</td>\n",
              "      <td>MSP</td>\n",
              "      <td>2014-07-22</td>\n",
              "      <td>2014-08-10</td>\n",
              "      <td>OHAL</td>\n",
              "      <td>4F4844696420493F7C2067657420746869732072696768...</td>\n",
              "      <td>M</td>\n",
              "      <td>...</td>\n",
              "      <td>632.56</td>\n",
              "      <td>708.2</td>\n",
              "      <td>&lt;NA&gt;</td>\n",
              "      <td>Nonmember</td>\n",
              "      <td>NaN</td>\n",
              "      <td>N</td>\n",
              "      <td>NaT</td>\n",
              "      <td>&lt;NA&gt;</td>\n",
              "      <td>SY</td>\n",
              "      <td>O</td>\n",
              "    </tr>\n",
              "    <tr>\n",
              "      <th>2805211</th>\n",
              "      <td>FTMGDD</td>\n",
              "      <td>3372107273942</td>\n",
              "      <td>2</td>\n",
              "      <td>MSP</td>\n",
              "      <td>RSW</td>\n",
              "      <td>2013-12-05</td>\n",
              "      <td>2014-01-01</td>\n",
              "      <td>GREECI</td>\n",
              "      <td>475245454E44696420493F7C2067657420746869732072...</td>\n",
              "      <td>F</td>\n",
              "      <td>...</td>\n",
              "      <td>165.58</td>\n",
              "      <td>199.8</td>\n",
              "      <td>201961852</td>\n",
              "      <td>Standard</td>\n",
              "      <td>False</td>\n",
              "      <td>N</td>\n",
              "      <td>2009-01-01 21:57:32</td>\n",
              "      <td>&lt;NA&gt;</td>\n",
              "      <td>SY</td>\n",
              "      <td>O</td>\n",
              "    </tr>\n",
              "  </tbody>\n",
              "</table>\n",
              "<p>2 rows × 26 columns</p>\n",
              "</div>"
            ],
            "text/plain": [
              "        PNRLocatorID      TicketNum  CouponSeqNbr ServiceStartCity  \\\n",
              "456886        ECUDIT  3372107789222             2              JFK   \n",
              "2805211       FTMGDD  3372107273942             2              MSP   \n",
              "\n",
              "        ServiceEndCity PNRCreateDate ServiceStartDate PaxName  \\\n",
              "456886             MSP    2014-07-22       2014-08-10    OHAL   \n",
              "2805211            RSW    2013-12-05       2014-01-01  GREECI   \n",
              "\n",
              "                                             EncryptedName GenderCode  ...  \\\n",
              "456886   4F4844696420493F7C2067657420746869732072696768...          M  ...   \n",
              "2805211  475245454E44696420493F7C2067657420746869732072...          F  ...   \n",
              "\n",
              "         BaseFareAmt  TotalDocAmt UFlyRewardsNumber UflyMemberStatus  \\\n",
              "456886        632.56        708.2              <NA>        Nonmember   \n",
              "2805211       165.58        199.8         201961852         Standard   \n",
              "\n",
              "        CardHolder BookedProduct          EnrollDate  MarketingFlightNbr  \\\n",
              "456886         NaN             N                 NaT                <NA>   \n",
              "2805211      False             N 2009-01-01 21:57:32                <NA>   \n",
              "\n",
              "         MarketingAirlineCode StopoverCode  \n",
              "456886                     SY            O  \n",
              "2805211                    SY            O  \n",
              "\n",
              "[2 rows x 26 columns]"
            ]
          },
          "execution_count": 22,
          "metadata": {},
          "output_type": "execute_result"
        }
      ],
      "source": [
        "original_df[original_df['MarketingFlightNbr'].isnull()]"
      ]
    },
    {
      "cell_type": "code",
      "execution_count": null,
      "metadata": {
        "id": "p-19Wk_EqcZY",
        "outputId": "802bed09-3bb5-454b-b5cf-1cc9df54570b"
      },
      "outputs": [
        {
          "data": {
            "text/html": [
              "<div>\n",
              "<style scoped>\n",
              "    .dataframe tbody tr th:only-of-type {\n",
              "        vertical-align: middle;\n",
              "    }\n",
              "\n",
              "    .dataframe tbody tr th {\n",
              "        vertical-align: top;\n",
              "    }\n",
              "\n",
              "    .dataframe thead th {\n",
              "        text-align: right;\n",
              "    }\n",
              "</style>\n",
              "<table border=\"1\" class=\"dataframe\">\n",
              "  <thead>\n",
              "    <tr style=\"text-align: right;\">\n",
              "      <th></th>\n",
              "      <th>PNRLocatorID</th>\n",
              "      <th>TicketNum</th>\n",
              "      <th>CouponSeqNbr</th>\n",
              "      <th>ServiceStartCity</th>\n",
              "      <th>ServiceEndCity</th>\n",
              "      <th>PNRCreateDate</th>\n",
              "      <th>ServiceStartDate</th>\n",
              "      <th>PaxName</th>\n",
              "      <th>EncryptedName</th>\n",
              "      <th>GenderCode</th>\n",
              "      <th>...</th>\n",
              "      <th>BaseFareAmt</th>\n",
              "      <th>TotalDocAmt</th>\n",
              "      <th>UFlyRewardsNumber</th>\n",
              "      <th>UflyMemberStatus</th>\n",
              "      <th>CardHolder</th>\n",
              "      <th>BookedProduct</th>\n",
              "      <th>EnrollDate</th>\n",
              "      <th>MarketingFlightNbr</th>\n",
              "      <th>MarketingAirlineCode</th>\n",
              "      <th>StopoverCode</th>\n",
              "    </tr>\n",
              "  </thead>\n",
              "  <tbody>\n",
              "    <tr>\n",
              "      <th>721</th>\n",
              "      <td>AAFCDN</td>\n",
              "      <td>3377452563100</td>\n",
              "      <td>1</td>\n",
              "      <td>JFK</td>\n",
              "      <td>MSP</td>\n",
              "      <td>2014-05-15</td>\n",
              "      <td>2014-07-22</td>\n",
              "      <td>KRUKTO</td>\n",
              "      <td>4B52554B4544696420493F7C2067657420746869732072...</td>\n",
              "      <td>M</td>\n",
              "      <td>...</td>\n",
              "      <td>183.25</td>\n",
              "      <td>208.0</td>\n",
              "      <td>&lt;NA&gt;</td>\n",
              "      <td>Nonmember</td>\n",
              "      <td>NaN</td>\n",
              "      <td>N</td>\n",
              "      <td>NaT</td>\n",
              "      <td>244</td>\n",
              "      <td>SY</td>\n",
              "      <td>N</td>\n",
              "    </tr>\n",
              "    <tr>\n",
              "      <th>722</th>\n",
              "      <td>AAFCDN</td>\n",
              "      <td>3377452563101</td>\n",
              "      <td>1</td>\n",
              "      <td>JFK</td>\n",
              "      <td>MSP</td>\n",
              "      <td>2014-05-15</td>\n",
              "      <td>2014-07-22</td>\n",
              "      <td>KRUKAS</td>\n",
              "      <td>4B52554B4544696420493F7C2067657420746869732072...</td>\n",
              "      <td>F</td>\n",
              "      <td>...</td>\n",
              "      <td>183.25</td>\n",
              "      <td>208.0</td>\n",
              "      <td>&lt;NA&gt;</td>\n",
              "      <td>Nonmember</td>\n",
              "      <td>NaN</td>\n",
              "      <td>N</td>\n",
              "      <td>NaT</td>\n",
              "      <td>244</td>\n",
              "      <td>SY</td>\n",
              "      <td>N</td>\n",
              "    </tr>\n",
              "    <tr>\n",
              "      <th>14065</th>\n",
              "      <td>ACMJWH</td>\n",
              "      <td>3377463344128</td>\n",
              "      <td>1</td>\n",
              "      <td>JFK</td>\n",
              "      <td>MSP</td>\n",
              "      <td>2014-07-03</td>\n",
              "      <td>2014-07-22</td>\n",
              "      <td>ROETE</td>\n",
              "      <td>524F4544696420493F7C20676574207468697320726967...</td>\n",
              "      <td>M</td>\n",
              "      <td>...</td>\n",
              "      <td>499.54</td>\n",
              "      <td>559.0</td>\n",
              "      <td>&lt;NA&gt;</td>\n",
              "      <td>Nonmember</td>\n",
              "      <td>NaN</td>\n",
              "      <td>N</td>\n",
              "      <td>NaT</td>\n",
              "      <td>248</td>\n",
              "      <td>SY</td>\n",
              "      <td>N</td>\n",
              "    </tr>\n",
              "    <tr>\n",
              "      <th>48997</th>\n",
              "      <td>AMABLC</td>\n",
              "      <td>3377420531145</td>\n",
              "      <td>1</td>\n",
              "      <td>JFK</td>\n",
              "      <td>MSP</td>\n",
              "      <td>2014-06-18</td>\n",
              "      <td>2014-07-22</td>\n",
              "      <td>CHANSU</td>\n",
              "      <td>4348414E44524153454B48415244696420493F7C206765...</td>\n",
              "      <td>M</td>\n",
              "      <td>...</td>\n",
              "      <td>165.16</td>\n",
              "      <td>0.0</td>\n",
              "      <td>&lt;NA&gt;</td>\n",
              "      <td>Nonmember</td>\n",
              "      <td>NaN</td>\n",
              "      <td>PCLN</td>\n",
              "      <td>NaT</td>\n",
              "      <td>244</td>\n",
              "      <td>SY</td>\n",
              "      <td>N</td>\n",
              "    </tr>\n",
              "    <tr>\n",
              "      <th>134043</th>\n",
              "      <td>BBMLWU</td>\n",
              "      <td>3377434268879</td>\n",
              "      <td>1</td>\n",
              "      <td>JFK</td>\n",
              "      <td>MSP</td>\n",
              "      <td>2014-06-05</td>\n",
              "      <td>2014-07-22</td>\n",
              "      <td>QUAROL</td>\n",
              "      <td>515541524245524744696420493F7C2067657420746869...</td>\n",
              "      <td>F</td>\n",
              "      <td>...</td>\n",
              "      <td>197.21</td>\n",
              "      <td>223.0</td>\n",
              "      <td>&lt;NA&gt;</td>\n",
              "      <td>Nonmember</td>\n",
              "      <td>NaN</td>\n",
              "      <td>N</td>\n",
              "      <td>NaT</td>\n",
              "      <td>244</td>\n",
              "      <td>SY</td>\n",
              "      <td>O</td>\n",
              "    </tr>\n",
              "    <tr>\n",
              "      <th>...</th>\n",
              "      <td>...</td>\n",
              "      <td>...</td>\n",
              "      <td>...</td>\n",
              "      <td>...</td>\n",
              "      <td>...</td>\n",
              "      <td>...</td>\n",
              "      <td>...</td>\n",
              "      <td>...</td>\n",
              "      <td>...</td>\n",
              "      <td>...</td>\n",
              "      <td>...</td>\n",
              "      <td>...</td>\n",
              "      <td>...</td>\n",
              "      <td>...</td>\n",
              "      <td>...</td>\n",
              "      <td>...</td>\n",
              "      <td>...</td>\n",
              "      <td>...</td>\n",
              "      <td>...</td>\n",
              "      <td>...</td>\n",
              "      <td>...</td>\n",
              "    </tr>\n",
              "    <tr>\n",
              "      <th>3353738</th>\n",
              "      <td>XOTKYU</td>\n",
              "      <td>3377457363361</td>\n",
              "      <td>1</td>\n",
              "      <td>JFK</td>\n",
              "      <td>MSP</td>\n",
              "      <td>2014-06-05</td>\n",
              "      <td>2014-07-22</td>\n",
              "      <td>ASSAVA</td>\n",
              "      <td>4153534144696420493F7C206765742074686973207269...</td>\n",
              "      <td>F</td>\n",
              "      <td>...</td>\n",
              "      <td>403.72</td>\n",
              "      <td>456.0</td>\n",
              "      <td>&lt;NA&gt;</td>\n",
              "      <td>Nonmember</td>\n",
              "      <td>NaN</td>\n",
              "      <td>N</td>\n",
              "      <td>NaT</td>\n",
              "      <td>244</td>\n",
              "      <td>SY</td>\n",
              "      <td>N</td>\n",
              "    </tr>\n",
              "    <tr>\n",
              "      <th>3353741</th>\n",
              "      <td>XOTKYU</td>\n",
              "      <td>3377457363362</td>\n",
              "      <td>1</td>\n",
              "      <td>JFK</td>\n",
              "      <td>MSP</td>\n",
              "      <td>2014-06-05</td>\n",
              "      <td>2014-07-22</td>\n",
              "      <td>CALAJA</td>\n",
              "      <td>43414C41425245534544696420493F7C20676574207468...</td>\n",
              "      <td>M</td>\n",
              "      <td>...</td>\n",
              "      <td>403.72</td>\n",
              "      <td>456.0</td>\n",
              "      <td>&lt;NA&gt;</td>\n",
              "      <td>Nonmember</td>\n",
              "      <td>NaN</td>\n",
              "      <td>N</td>\n",
              "      <td>NaT</td>\n",
              "      <td>244</td>\n",
              "      <td>SY</td>\n",
              "      <td>N</td>\n",
              "    </tr>\n",
              "    <tr>\n",
              "      <th>3378426</th>\n",
              "      <td>YKXCJG</td>\n",
              "      <td>3372107649385</td>\n",
              "      <td>2</td>\n",
              "      <td>JFK</td>\n",
              "      <td>MSP</td>\n",
              "      <td>2014-06-05</td>\n",
              "      <td>2014-07-22</td>\n",
              "      <td>RICHOL</td>\n",
              "      <td>5249434841524444696420493F7C206765742074686973...</td>\n",
              "      <td>F</td>\n",
              "      <td>...</td>\n",
              "      <td>394.42</td>\n",
              "      <td>446.0</td>\n",
              "      <td>210834702</td>\n",
              "      <td>Standard</td>\n",
              "      <td>False</td>\n",
              "      <td>SSWMIR</td>\n",
              "      <td>2014-04-01 11:25:42</td>\n",
              "      <td>244</td>\n",
              "      <td>SY</td>\n",
              "      <td>O</td>\n",
              "    </tr>\n",
              "    <tr>\n",
              "      <th>3378427</th>\n",
              "      <td>YKXCJG</td>\n",
              "      <td>3372107649386</td>\n",
              "      <td>2</td>\n",
              "      <td>JFK</td>\n",
              "      <td>MSP</td>\n",
              "      <td>2014-06-05</td>\n",
              "      <td>2014-07-22</td>\n",
              "      <td>FERGER</td>\n",
              "      <td>4645524755534F4E44696420493F7C2067657420746869...</td>\n",
              "      <td>F</td>\n",
              "      <td>...</td>\n",
              "      <td>394.42</td>\n",
              "      <td>446.0</td>\n",
              "      <td>210834702</td>\n",
              "      <td>Standard</td>\n",
              "      <td>False</td>\n",
              "      <td>SSWMIR</td>\n",
              "      <td>2014-04-01 11:25:42</td>\n",
              "      <td>244</td>\n",
              "      <td>SY</td>\n",
              "      <td>O</td>\n",
              "    </tr>\n",
              "    <tr>\n",
              "      <th>3435142</th>\n",
              "      <td>ZZPVVD</td>\n",
              "      <td>3372107707973</td>\n",
              "      <td>2</td>\n",
              "      <td>JFK</td>\n",
              "      <td>MSP</td>\n",
              "      <td>2014-06-30</td>\n",
              "      <td>2014-07-22</td>\n",
              "      <td>TURNSU</td>\n",
              "      <td>5455524E515549535444696420493F7C20676574207468...</td>\n",
              "      <td>F</td>\n",
              "      <td>...</td>\n",
              "      <td>422.33</td>\n",
              "      <td>476.0</td>\n",
              "      <td>210680772</td>\n",
              "      <td>Standard</td>\n",
              "      <td>False</td>\n",
              "      <td>SSWMIR</td>\n",
              "      <td>2014-01-04 13:24:11</td>\n",
              "      <td>244</td>\n",
              "      <td>SY</td>\n",
              "      <td>O</td>\n",
              "    </tr>\n",
              "  </tbody>\n",
              "</table>\n",
              "<p>236 rows × 26 columns</p>\n",
              "</div>"
            ],
            "text/plain": [
              "        PNRLocatorID      TicketNum  CouponSeqNbr ServiceStartCity  \\\n",
              "721           AAFCDN  3377452563100             1              JFK   \n",
              "722           AAFCDN  3377452563101             1              JFK   \n",
              "14065         ACMJWH  3377463344128             1              JFK   \n",
              "48997         AMABLC  3377420531145             1              JFK   \n",
              "134043        BBMLWU  3377434268879             1              JFK   \n",
              "...              ...            ...           ...              ...   \n",
              "3353738       XOTKYU  3377457363361             1              JFK   \n",
              "3353741       XOTKYU  3377457363362             1              JFK   \n",
              "3378426       YKXCJG  3372107649385             2              JFK   \n",
              "3378427       YKXCJG  3372107649386             2              JFK   \n",
              "3435142       ZZPVVD  3372107707973             2              JFK   \n",
              "\n",
              "        ServiceEndCity PNRCreateDate ServiceStartDate PaxName  \\\n",
              "721                MSP    2014-05-15       2014-07-22  KRUKTO   \n",
              "722                MSP    2014-05-15       2014-07-22  KRUKAS   \n",
              "14065              MSP    2014-07-03       2014-07-22   ROETE   \n",
              "48997              MSP    2014-06-18       2014-07-22  CHANSU   \n",
              "134043             MSP    2014-06-05       2014-07-22  QUAROL   \n",
              "...                ...           ...              ...     ...   \n",
              "3353738            MSP    2014-06-05       2014-07-22  ASSAVA   \n",
              "3353741            MSP    2014-06-05       2014-07-22  CALAJA   \n",
              "3378426            MSP    2014-06-05       2014-07-22  RICHOL   \n",
              "3378427            MSP    2014-06-05       2014-07-22  FERGER   \n",
              "3435142            MSP    2014-06-30       2014-07-22  TURNSU   \n",
              "\n",
              "                                             EncryptedName GenderCode  ...  \\\n",
              "721      4B52554B4544696420493F7C2067657420746869732072...          M  ...   \n",
              "722      4B52554B4544696420493F7C2067657420746869732072...          F  ...   \n",
              "14065    524F4544696420493F7C20676574207468697320726967...          M  ...   \n",
              "48997    4348414E44524153454B48415244696420493F7C206765...          M  ...   \n",
              "134043   515541524245524744696420493F7C2067657420746869...          F  ...   \n",
              "...                                                    ...        ...  ...   \n",
              "3353738  4153534144696420493F7C206765742074686973207269...          F  ...   \n",
              "3353741  43414C41425245534544696420493F7C20676574207468...          M  ...   \n",
              "3378426  5249434841524444696420493F7C206765742074686973...          F  ...   \n",
              "3378427  4645524755534F4E44696420493F7C2067657420746869...          F  ...   \n",
              "3435142  5455524E515549535444696420493F7C20676574207468...          F  ...   \n",
              "\n",
              "         BaseFareAmt  TotalDocAmt UFlyRewardsNumber UflyMemberStatus  \\\n",
              "721           183.25        208.0              <NA>        Nonmember   \n",
              "722           183.25        208.0              <NA>        Nonmember   \n",
              "14065         499.54        559.0              <NA>        Nonmember   \n",
              "48997         165.16          0.0              <NA>        Nonmember   \n",
              "134043        197.21        223.0              <NA>        Nonmember   \n",
              "...              ...          ...               ...              ...   \n",
              "3353738       403.72        456.0              <NA>        Nonmember   \n",
              "3353741       403.72        456.0              <NA>        Nonmember   \n",
              "3378426       394.42        446.0         210834702         Standard   \n",
              "3378427       394.42        446.0         210834702         Standard   \n",
              "3435142       422.33        476.0         210680772         Standard   \n",
              "\n",
              "        CardHolder BookedProduct          EnrollDate  MarketingFlightNbr  \\\n",
              "721            NaN             N                 NaT                 244   \n",
              "722            NaN             N                 NaT                 244   \n",
              "14065          NaN             N                 NaT                 248   \n",
              "48997          NaN          PCLN                 NaT                 244   \n",
              "134043         NaN             N                 NaT                 244   \n",
              "...            ...           ...                 ...                 ...   \n",
              "3353738        NaN             N                 NaT                 244   \n",
              "3353741        NaN             N                 NaT                 244   \n",
              "3378426      False        SSWMIR 2014-04-01 11:25:42                 244   \n",
              "3378427      False        SSWMIR 2014-04-01 11:25:42                 244   \n",
              "3435142      False        SSWMIR 2014-01-04 13:24:11                 244   \n",
              "\n",
              "         MarketingAirlineCode StopoverCode  \n",
              "721                        SY            N  \n",
              "722                        SY            N  \n",
              "14065                      SY            N  \n",
              "48997                      SY            N  \n",
              "134043                     SY            O  \n",
              "...                       ...          ...  \n",
              "3353738                    SY            N  \n",
              "3353741                    SY            N  \n",
              "3378426                    SY            O  \n",
              "3378427                    SY            O  \n",
              "3435142                    SY            O  \n",
              "\n",
              "[236 rows x 26 columns]"
            ]
          },
          "execution_count": 23,
          "metadata": {},
          "output_type": "execute_result"
        }
      ],
      "source": [
        "missing_flight = original_df[(original_df['ServiceStartDate'] == '2014-07-22') & (original_df['ServiceStartCity'] == 'JFK') & (original_df['ServiceEndCity'] == 'MSP')]\n",
        "missing_flight"
      ]
    },
    {
      "cell_type": "markdown",
      "metadata": {
        "id": "06hzNg4oqcZY"
      },
      "source": [
        "Remember the goals of the project:\n",
        "Any analysis / questions / ML probem should revolve around obtaining a substanital answer to atleast one of these questions.\n",
        "1) Do online booking channels meet the expectations?   \n",
        "\n",
        "The answer to this question is going to be as vague as the question itself. What are the expectations? We know how the distribution of customers is across each platform and how are members interested in booking flights compared to non members. So is that it? good question.  \n",
        "\n",
        "2) How do we drive enrollment of ufly reward?  Major Question. Possible ML usage?   \n",
        "We have to understand how the members have any trends, what can we reccommend to the company. So is the answer via clustering( analysis on a paltry 0.5% data or ML( possible all of the data?). Good question.  \n",
        "\n",
        "3) Does Sun country need to continue to develop products - vacation packages?  \n",
        "\n",
        "4) Understand your customers more, it's all about what suggestions you can make to the higher ups to drive enrollment / increase sales / get more money in!\n",
        "\n",
        "\n"
      ]
    },
    {
      "cell_type": "code",
      "execution_count": null,
      "metadata": {
        "id": "uQ3_juOqqcZZ",
        "outputId": "98d6ab6d-bacc-46f6-d3e0-7a81c75127e9"
      },
      "outputs": [
        {
          "data": {
            "text/plain": [
              "<StringArray>\n",
              "['JFK', 'MSP', 'SFO', 'MCO', 'PSP', 'RSW', 'LAX', 'SEA', 'BOS', 'MDW', 'LAS',\n",
              " 'PUJ', 'DFW', 'CUN', 'ANC', 'TPA', 'LAN', 'SXM', 'CZM', 'PHX', 'MIA', 'HRL',\n",
              " 'DCA', 'SAN', 'SJU', 'LIR', 'IFP', 'ZIH', 'MZT', 'MBJ', 'PVR', 'SJD', 'STT',\n",
              " 'HUX', 'GRB', 'GTF', 'PNS', 'FNL', 'SAT', 'MLI', 'LWS', 'RST', 'SJT', 'FSD',\n",
              " 'DLH', 'GEG', 'FAR', 'PIE', 'YKM', 'RFD', 'FNT', 'GPT', 'GFK', 'ELP']\n",
              "Length: 54, dtype: string"
            ]
          },
          "execution_count": 24,
          "metadata": {},
          "output_type": "execute_result"
        }
      ],
      "source": [
        "original_df.ServiceStartCity.unique()"
      ]
    },
    {
      "cell_type": "code",
      "execution_count": null,
      "metadata": {
        "id": "zYngWNHQqcZZ",
        "outputId": "8c6c7090-aa0e-4a0e-a208-a8cead67a1ce"
      },
      "outputs": [
        {
          "name": "stderr",
          "output_type": "stream",
          "text": [
            "/var/folders/64/fsh_bnwx7jd1dd9pm23hv7l00000gp/T/ipykernel_55248/3769528549.py:3: SettingWithCopyWarning: \n",
            "A value is trying to be set on a copy of a slice from a DataFrame.\n",
            "Try using .loc[row_indexer,col_indexer] = value instead\n",
            "\n",
            "See the caveats in the documentation: https://pandas.pydata.org/pandas-docs/stable/user_guide/indexing.html#returning-a-view-versus-a-copy\n",
            "  freq_airports_df['month'] = freq_airports_df['ServiceStartDate'].dt.month\n"
          ]
        },
        {
          "data": {
            "text/html": [
              "<div>\n",
              "<style scoped>\n",
              "    .dataframe tbody tr th:only-of-type {\n",
              "        vertical-align: middle;\n",
              "    }\n",
              "\n",
              "    .dataframe tbody tr th {\n",
              "        vertical-align: top;\n",
              "    }\n",
              "\n",
              "    .dataframe thead th {\n",
              "        text-align: right;\n",
              "    }\n",
              "</style>\n",
              "<table border=\"1\" class=\"dataframe\">\n",
              "  <thead>\n",
              "    <tr style=\"text-align: right;\">\n",
              "      <th></th>\n",
              "      <th>UflyMemberStatus</th>\n",
              "      <th>month</th>\n",
              "      <th>EncryptedName</th>\n",
              "    </tr>\n",
              "  </thead>\n",
              "  <tbody>\n",
              "    <tr>\n",
              "      <th>0</th>\n",
              "      <td>Elite</td>\n",
              "      <td>1</td>\n",
              "      <td>92</td>\n",
              "    </tr>\n",
              "    <tr>\n",
              "      <th>1</th>\n",
              "      <td>Elite</td>\n",
              "      <td>2</td>\n",
              "      <td>92</td>\n",
              "    </tr>\n",
              "    <tr>\n",
              "      <th>2</th>\n",
              "      <td>Elite</td>\n",
              "      <td>3</td>\n",
              "      <td>118</td>\n",
              "    </tr>\n",
              "    <tr>\n",
              "      <th>3</th>\n",
              "      <td>Elite</td>\n",
              "      <td>4</td>\n",
              "      <td>134</td>\n",
              "    </tr>\n",
              "    <tr>\n",
              "      <th>4</th>\n",
              "      <td>Elite</td>\n",
              "      <td>5</td>\n",
              "      <td>133</td>\n",
              "    </tr>\n",
              "    <tr>\n",
              "      <th>5</th>\n",
              "      <td>Elite</td>\n",
              "      <td>6</td>\n",
              "      <td>143</td>\n",
              "    </tr>\n",
              "    <tr>\n",
              "      <th>6</th>\n",
              "      <td>Elite</td>\n",
              "      <td>7</td>\n",
              "      <td>133</td>\n",
              "    </tr>\n",
              "    <tr>\n",
              "      <th>7</th>\n",
              "      <td>Elite</td>\n",
              "      <td>8</td>\n",
              "      <td>115</td>\n",
              "    </tr>\n",
              "    <tr>\n",
              "      <th>8</th>\n",
              "      <td>Elite</td>\n",
              "      <td>9</td>\n",
              "      <td>125</td>\n",
              "    </tr>\n",
              "    <tr>\n",
              "      <th>9</th>\n",
              "      <td>Elite</td>\n",
              "      <td>10</td>\n",
              "      <td>141</td>\n",
              "    </tr>\n",
              "    <tr>\n",
              "      <th>10</th>\n",
              "      <td>Elite</td>\n",
              "      <td>11</td>\n",
              "      <td>133</td>\n",
              "    </tr>\n",
              "    <tr>\n",
              "      <th>11</th>\n",
              "      <td>Elite</td>\n",
              "      <td>12</td>\n",
              "      <td>126</td>\n",
              "    </tr>\n",
              "    <tr>\n",
              "      <th>12</th>\n",
              "      <td>Nonmember</td>\n",
              "      <td>1</td>\n",
              "      <td>7938</td>\n",
              "    </tr>\n",
              "    <tr>\n",
              "      <th>13</th>\n",
              "      <td>Nonmember</td>\n",
              "      <td>2</td>\n",
              "      <td>6938</td>\n",
              "    </tr>\n",
              "    <tr>\n",
              "      <th>14</th>\n",
              "      <td>Nonmember</td>\n",
              "      <td>3</td>\n",
              "      <td>7484</td>\n",
              "    </tr>\n",
              "    <tr>\n",
              "      <th>15</th>\n",
              "      <td>Nonmember</td>\n",
              "      <td>4</td>\n",
              "      <td>8897</td>\n",
              "    </tr>\n",
              "    <tr>\n",
              "      <th>16</th>\n",
              "      <td>Nonmember</td>\n",
              "      <td>5</td>\n",
              "      <td>12239</td>\n",
              "    </tr>\n",
              "    <tr>\n",
              "      <th>17</th>\n",
              "      <td>Nonmember</td>\n",
              "      <td>6</td>\n",
              "      <td>18382</td>\n",
              "    </tr>\n",
              "    <tr>\n",
              "      <th>18</th>\n",
              "      <td>Nonmember</td>\n",
              "      <td>7</td>\n",
              "      <td>20199</td>\n",
              "    </tr>\n",
              "    <tr>\n",
              "      <th>19</th>\n",
              "      <td>Nonmember</td>\n",
              "      <td>8</td>\n",
              "      <td>15561</td>\n",
              "    </tr>\n",
              "    <tr>\n",
              "      <th>20</th>\n",
              "      <td>Nonmember</td>\n",
              "      <td>9</td>\n",
              "      <td>9807</td>\n",
              "    </tr>\n",
              "    <tr>\n",
              "      <th>21</th>\n",
              "      <td>Nonmember</td>\n",
              "      <td>10</td>\n",
              "      <td>10370</td>\n",
              "    </tr>\n",
              "    <tr>\n",
              "      <th>22</th>\n",
              "      <td>Nonmember</td>\n",
              "      <td>11</td>\n",
              "      <td>9712</td>\n",
              "    </tr>\n",
              "    <tr>\n",
              "      <th>23</th>\n",
              "      <td>Nonmember</td>\n",
              "      <td>12</td>\n",
              "      <td>13725</td>\n",
              "    </tr>\n",
              "    <tr>\n",
              "      <th>24</th>\n",
              "      <td>Standard</td>\n",
              "      <td>1</td>\n",
              "      <td>2015</td>\n",
              "    </tr>\n",
              "    <tr>\n",
              "      <th>25</th>\n",
              "      <td>Standard</td>\n",
              "      <td>2</td>\n",
              "      <td>1971</td>\n",
              "    </tr>\n",
              "    <tr>\n",
              "      <th>26</th>\n",
              "      <td>Standard</td>\n",
              "      <td>3</td>\n",
              "      <td>2389</td>\n",
              "    </tr>\n",
              "    <tr>\n",
              "      <th>27</th>\n",
              "      <td>Standard</td>\n",
              "      <td>4</td>\n",
              "      <td>2813</td>\n",
              "    </tr>\n",
              "    <tr>\n",
              "      <th>28</th>\n",
              "      <td>Standard</td>\n",
              "      <td>5</td>\n",
              "      <td>3520</td>\n",
              "    </tr>\n",
              "    <tr>\n",
              "      <th>29</th>\n",
              "      <td>Standard</td>\n",
              "      <td>6</td>\n",
              "      <td>4648</td>\n",
              "    </tr>\n",
              "    <tr>\n",
              "      <th>30</th>\n",
              "      <td>Standard</td>\n",
              "      <td>7</td>\n",
              "      <td>4669</td>\n",
              "    </tr>\n",
              "    <tr>\n",
              "      <th>31</th>\n",
              "      <td>Standard</td>\n",
              "      <td>8</td>\n",
              "      <td>4120</td>\n",
              "    </tr>\n",
              "    <tr>\n",
              "      <th>32</th>\n",
              "      <td>Standard</td>\n",
              "      <td>9</td>\n",
              "      <td>3395</td>\n",
              "    </tr>\n",
              "    <tr>\n",
              "      <th>33</th>\n",
              "      <td>Standard</td>\n",
              "      <td>10</td>\n",
              "      <td>3871</td>\n",
              "    </tr>\n",
              "    <tr>\n",
              "      <th>34</th>\n",
              "      <td>Standard</td>\n",
              "      <td>11</td>\n",
              "      <td>3615</td>\n",
              "    </tr>\n",
              "    <tr>\n",
              "      <th>35</th>\n",
              "      <td>Standard</td>\n",
              "      <td>12</td>\n",
              "      <td>4559</td>\n",
              "    </tr>\n",
              "  </tbody>\n",
              "</table>\n",
              "</div>"
            ],
            "text/plain": [
              "   UflyMemberStatus  month  EncryptedName\n",
              "0             Elite      1             92\n",
              "1             Elite      2             92\n",
              "2             Elite      3            118\n",
              "3             Elite      4            134\n",
              "4             Elite      5            133\n",
              "5             Elite      6            143\n",
              "6             Elite      7            133\n",
              "7             Elite      8            115\n",
              "8             Elite      9            125\n",
              "9             Elite     10            141\n",
              "10            Elite     11            133\n",
              "11            Elite     12            126\n",
              "12        Nonmember      1           7938\n",
              "13        Nonmember      2           6938\n",
              "14        Nonmember      3           7484\n",
              "15        Nonmember      4           8897\n",
              "16        Nonmember      5          12239\n",
              "17        Nonmember      6          18382\n",
              "18        Nonmember      7          20199\n",
              "19        Nonmember      8          15561\n",
              "20        Nonmember      9           9807\n",
              "21        Nonmember     10          10370\n",
              "22        Nonmember     11           9712\n",
              "23        Nonmember     12          13725\n",
              "24         Standard      1           2015\n",
              "25         Standard      2           1971\n",
              "26         Standard      3           2389\n",
              "27         Standard      4           2813\n",
              "28         Standard      5           3520\n",
              "29         Standard      6           4648\n",
              "30         Standard      7           4669\n",
              "31         Standard      8           4120\n",
              "32         Standard      9           3395\n",
              "33         Standard     10           3871\n",
              "34         Standard     11           3615\n",
              "35         Standard     12           4559"
            ]
          },
          "execution_count": 44,
          "metadata": {},
          "output_type": "execute_result"
        }
      ],
      "source": [
        "target_airports = ['DFW', 'LAN','MSP']\n",
        "freq_airports_df = original_df[(original_df['ServiceStartCity'].isin(target_airports)) & (original_df['ServiceEndCity'].isin(target_airports))]\n",
        "freq_airports_df['month'] = freq_airports_df['ServiceStartDate'].dt.month\n",
        "monthly_reward_cnts = freq_airports_df.groupby(['UflyMemberStatus','month']).count()['EncryptedName'].reset_index()\n",
        "monthly_reward_cnts\n"
      ]
    },
    {
      "cell_type": "code",
      "execution_count": null,
      "metadata": {
        "id": "hW9SCdIeqcZZ",
        "outputId": "ad5afd57-0a31-42ed-9210-d775c6203a3b"
      },
      "outputs": [
        {
          "data": {
            "text/plain": [
              "<AxesSubplot: xlabel='month', ylabel='EncryptedName'>"
            ]
          },
          "execution_count": 45,
          "metadata": {},
          "output_type": "execute_result"
        },
        {
          "data": {
            "image/png": "[encoded data removed]",
            "text/plain": [
              "<Figure size 640x480 with 1 Axes>"
            ]
          },
          "metadata": {},
          "output_type": "display_data"
        }
      ],
      "source": [
        "sns.lineplot(x='month', y='EncryptedName', hue='UflyMemberStatus', data=monthly_reward_cnts)"
      ]
    },
    {
      "cell_type": "code",
      "execution_count": null,
      "metadata": {
        "id": "9m_w_O_dqcZZ",
        "outputId": "f4a485c8-7408-40b3-e26f-ddf24fae0fdc"
      },
      "outputs": [
        {
          "name": "stderr",
          "output_type": "stream",
          "text": [
            "/var/folders/64/fsh_bnwx7jd1dd9pm23hv7l00000gp/T/ipykernel_55248/2325135058.py:4: FutureWarning: The default value of numeric_only in DataFrameGroupBy.median is deprecated. In a future version, numeric_only will default to False. Either specify numeric_only or select only columns which should be valid for the function.\n",
            "  monthly_fare_avgs = freq_airports_df.groupby(['UflyMemberStatus','month']).median()['BaseFareAmt'].reset_index()\n"
          ]
        },
        {
          "data": {
            "text/html": [
              "<div>\n",
              "<style scoped>\n",
              "    .dataframe tbody tr th:only-of-type {\n",
              "        vertical-align: middle;\n",
              "    }\n",
              "\n",
              "    .dataframe tbody tr th {\n",
              "        vertical-align: top;\n",
              "    }\n",
              "\n",
              "    .dataframe thead th {\n",
              "        text-align: right;\n",
              "    }\n",
              "</style>\n",
              "<table border=\"1\" class=\"dataframe\">\n",
              "  <thead>\n",
              "    <tr style=\"text-align: right;\">\n",
              "      <th></th>\n",
              "      <th>UflyMemberStatus</th>\n",
              "      <th>month</th>\n",
              "      <th>BaseFareAmt</th>\n",
              "    </tr>\n",
              "  </thead>\n",
              "  <tbody>\n",
              "    <tr>\n",
              "      <th>0</th>\n",
              "      <td>Elite</td>\n",
              "      <td>1</td>\n",
              "      <td>180.46</td>\n",
              "    </tr>\n",
              "    <tr>\n",
              "      <th>1</th>\n",
              "      <td>Elite</td>\n",
              "      <td>2</td>\n",
              "      <td>202.80</td>\n",
              "    </tr>\n",
              "    <tr>\n",
              "      <th>2</th>\n",
              "      <td>Elite</td>\n",
              "      <td>3</td>\n",
              "      <td>231.28</td>\n",
              "    </tr>\n",
              "    <tr>\n",
              "      <th>3</th>\n",
              "      <td>Elite</td>\n",
              "      <td>4</td>\n",
              "      <td>200.94</td>\n",
              "    </tr>\n",
              "    <tr>\n",
              "      <th>4</th>\n",
              "      <td>Elite</td>\n",
              "      <td>5</td>\n",
              "      <td>219.54</td>\n",
              "    </tr>\n",
              "    <tr>\n",
              "      <th>5</th>\n",
              "      <td>Elite</td>\n",
              "      <td>6</td>\n",
              "      <td>226.97</td>\n",
              "    </tr>\n",
              "    <tr>\n",
              "      <th>6</th>\n",
              "      <td>Elite</td>\n",
              "      <td>7</td>\n",
              "      <td>280.92</td>\n",
              "    </tr>\n",
              "    <tr>\n",
              "      <th>7</th>\n",
              "      <td>Elite</td>\n",
              "      <td>8</td>\n",
              "      <td>220.46</td>\n",
              "    </tr>\n",
              "    <tr>\n",
              "      <th>8</th>\n",
              "      <td>Elite</td>\n",
              "      <td>9</td>\n",
              "      <td>180.46</td>\n",
              "    </tr>\n",
              "    <tr>\n",
              "      <th>9</th>\n",
              "      <td>Elite</td>\n",
              "      <td>10</td>\n",
              "      <td>180.46</td>\n",
              "    </tr>\n",
              "    <tr>\n",
              "      <th>10</th>\n",
              "      <td>Elite</td>\n",
              "      <td>11</td>\n",
              "      <td>202.80</td>\n",
              "    </tr>\n",
              "    <tr>\n",
              "      <th>11</th>\n",
              "      <td>Elite</td>\n",
              "      <td>12</td>\n",
              "      <td>206.51</td>\n",
              "    </tr>\n",
              "    <tr>\n",
              "      <th>12</th>\n",
              "      <td>Nonmember</td>\n",
              "      <td>1</td>\n",
              "      <td>180.46</td>\n",
              "    </tr>\n",
              "    <tr>\n",
              "      <th>13</th>\n",
              "      <td>Nonmember</td>\n",
              "      <td>2</td>\n",
              "      <td>175.04</td>\n",
              "    </tr>\n",
              "    <tr>\n",
              "      <th>14</th>\n",
              "      <td>Nonmember</td>\n",
              "      <td>3</td>\n",
              "      <td>180.46</td>\n",
              "    </tr>\n",
              "    <tr>\n",
              "      <th>15</th>\n",
              "      <td>Nonmember</td>\n",
              "      <td>4</td>\n",
              "      <td>180.46</td>\n",
              "    </tr>\n",
              "    <tr>\n",
              "      <th>16</th>\n",
              "      <td>Nonmember</td>\n",
              "      <td>5</td>\n",
              "      <td>180.46</td>\n",
              "    </tr>\n",
              "    <tr>\n",
              "      <th>17</th>\n",
              "      <td>Nonmember</td>\n",
              "      <td>6</td>\n",
              "      <td>194.41</td>\n",
              "    </tr>\n",
              "    <tr>\n",
              "      <th>18</th>\n",
              "      <td>Nonmember</td>\n",
              "      <td>7</td>\n",
              "      <td>199.06</td>\n",
              "    </tr>\n",
              "    <tr>\n",
              "      <th>19</th>\n",
              "      <td>Nonmember</td>\n",
              "      <td>8</td>\n",
              "      <td>180.46</td>\n",
              "    </tr>\n",
              "    <tr>\n",
              "      <th>20</th>\n",
              "      <td>Nonmember</td>\n",
              "      <td>9</td>\n",
              "      <td>180.46</td>\n",
              "    </tr>\n",
              "    <tr>\n",
              "      <th>21</th>\n",
              "      <td>Nonmember</td>\n",
              "      <td>10</td>\n",
              "      <td>180.46</td>\n",
              "    </tr>\n",
              "    <tr>\n",
              "      <th>22</th>\n",
              "      <td>Nonmember</td>\n",
              "      <td>11</td>\n",
              "      <td>182.32</td>\n",
              "    </tr>\n",
              "    <tr>\n",
              "      <th>23</th>\n",
              "      <td>Nonmember</td>\n",
              "      <td>12</td>\n",
              "      <td>201.86</td>\n",
              "    </tr>\n",
              "    <tr>\n",
              "      <th>24</th>\n",
              "      <td>Standard</td>\n",
              "      <td>1</td>\n",
              "      <td>180.46</td>\n",
              "    </tr>\n",
              "    <tr>\n",
              "      <th>25</th>\n",
              "      <td>Standard</td>\n",
              "      <td>2</td>\n",
              "      <td>173.02</td>\n",
              "    </tr>\n",
              "    <tr>\n",
              "      <th>26</th>\n",
              "      <td>Standard</td>\n",
              "      <td>3</td>\n",
              "      <td>180.46</td>\n",
              "    </tr>\n",
              "    <tr>\n",
              "      <th>27</th>\n",
              "      <td>Standard</td>\n",
              "      <td>4</td>\n",
              "      <td>180.46</td>\n",
              "    </tr>\n",
              "    <tr>\n",
              "      <th>28</th>\n",
              "      <td>Standard</td>\n",
              "      <td>5</td>\n",
              "      <td>180.46</td>\n",
              "    </tr>\n",
              "    <tr>\n",
              "      <th>29</th>\n",
              "      <td>Standard</td>\n",
              "      <td>6</td>\n",
              "      <td>189.76</td>\n",
              "    </tr>\n",
              "    <tr>\n",
              "      <th>30</th>\n",
              "      <td>Standard</td>\n",
              "      <td>7</td>\n",
              "      <td>202.80</td>\n",
              "    </tr>\n",
              "    <tr>\n",
              "      <th>31</th>\n",
              "      <td>Standard</td>\n",
              "      <td>8</td>\n",
              "      <td>183.26</td>\n",
              "    </tr>\n",
              "    <tr>\n",
              "      <th>32</th>\n",
              "      <td>Standard</td>\n",
              "      <td>9</td>\n",
              "      <td>180.46</td>\n",
              "    </tr>\n",
              "    <tr>\n",
              "      <th>33</th>\n",
              "      <td>Standard</td>\n",
              "      <td>10</td>\n",
              "      <td>180.46</td>\n",
              "    </tr>\n",
              "    <tr>\n",
              "      <th>34</th>\n",
              "      <td>Standard</td>\n",
              "      <td>11</td>\n",
              "      <td>182.32</td>\n",
              "    </tr>\n",
              "    <tr>\n",
              "      <th>35</th>\n",
              "      <td>Standard</td>\n",
              "      <td>12</td>\n",
              "      <td>191.63</td>\n",
              "    </tr>\n",
              "  </tbody>\n",
              "</table>\n",
              "</div>"
            ],
            "text/plain": [
              "   UflyMemberStatus  month  BaseFareAmt\n",
              "0             Elite      1       180.46\n",
              "1             Elite      2       202.80\n",
              "2             Elite      3       231.28\n",
              "3             Elite      4       200.94\n",
              "4             Elite      5       219.54\n",
              "5             Elite      6       226.97\n",
              "6             Elite      7       280.92\n",
              "7             Elite      8       220.46\n",
              "8             Elite      9       180.46\n",
              "9             Elite     10       180.46\n",
              "10            Elite     11       202.80\n",
              "11            Elite     12       206.51\n",
              "12        Nonmember      1       180.46\n",
              "13        Nonmember      2       175.04\n",
              "14        Nonmember      3       180.46\n",
              "15        Nonmember      4       180.46\n",
              "16        Nonmember      5       180.46\n",
              "17        Nonmember      6       194.41\n",
              "18        Nonmember      7       199.06\n",
              "19        Nonmember      8       180.46\n",
              "20        Nonmember      9       180.46\n",
              "21        Nonmember     10       180.46\n",
              "22        Nonmember     11       182.32\n",
              "23        Nonmember     12       201.86\n",
              "24         Standard      1       180.46\n",
              "25         Standard      2       173.02\n",
              "26         Standard      3       180.46\n",
              "27         Standard      4       180.46\n",
              "28         Standard      5       180.46\n",
              "29         Standard      6       189.76\n",
              "30         Standard      7       202.80\n",
              "31         Standard      8       183.26\n",
              "32         Standard      9       180.46\n",
              "33         Standard     10       180.46\n",
              "34         Standard     11       182.32\n",
              "35         Standard     12       191.63"
            ]
          },
          "execution_count": 62,
          "metadata": {},
          "output_type": "execute_result"
        }
      ],
      "source": [
        "# freq_airports_df['avg_fare'] = freq_airports_df['BaseFareAmt'] - freq_airports_df['TotalDocAmt']\n",
        "# rewards_df = freq_airports_df[freq_airports_df['rewards'] > 0]\n",
        "# rewards_df['value_per_penny'] = 100 * rewards_df['rewards'] / rewards_df['BaseFareAmt']\n",
        "monthly_fare_avgs = freq_airports_df.groupby(['UflyMemberStatus','month']).median()['BaseFareAmt'].reset_index()\n",
        "monthly_fare_avgs\n"
      ]
    },
    {
      "cell_type": "code",
      "execution_count": null,
      "metadata": {
        "id": "Qv_uxhNKqcZa",
        "outputId": "02e18aff-a9f8-4cf4-df8a-b6ce5bb0b77d"
      },
      "outputs": [
        {
          "data": {
            "text/plain": [
              "<AxesSubplot: xlabel='month', ylabel='BaseFareAmt'>"
            ]
          },
          "execution_count": 63,
          "metadata": {},
          "output_type": "execute_result"
        },
        {
          "data": {
            "image/png": "[encoded data removed]",
            "text/plain": [
              "<Figure size 640x480 with 1 Axes>"
            ]
          },
          "metadata": {},
          "output_type": "display_data"
        }
      ],
      "source": [
        "sns.lineplot(x='month', y='BaseFareAmt', hue='UflyMemberStatus', data=monthly_fare_avgs)"
      ]
    }
  ],
  "metadata": {
    "kernelspec": {
      "display_name": "Python 3",
      "language": "python",
      "name": "python3"
    },
    "language_info": {
      "codemirror_mode": {
        "name": "ipython",
        "version": 3
      },
      "file_extension": ".py",
      "mimetype": "text/x-python",
      "name": "python",
      "nbconvert_exporter": "python",
      "pygments_lexer": "ipython3",
      "version": "3.8.3"
    },
    "colab": {
      "provenance": []
    }
  },
  "nbformat": 4,
  "nbformat_minor": 0
}