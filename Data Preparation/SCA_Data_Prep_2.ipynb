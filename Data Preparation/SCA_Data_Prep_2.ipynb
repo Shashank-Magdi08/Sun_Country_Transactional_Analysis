{
  "cells": [
    {
      "cell_type": "markdown",
      "source": [
        "**Import packages**"
      ],
      "metadata": {
        "id": "enf_KQFy5BLI"
      },
      "id": "enf_KQFy5BLI"
    },
    {
      "cell_type": "code",
      "execution_count": null,
      "id": "64cf4b9e",
      "metadata": {
        "id": "64cf4b9e"
      },
      "outputs": [],
      "source": [
        "import pandas as pd\n",
        "import numpy as np\n",
        "import seaborn as sns\n",
        "import matplotlib.pyplot as plt\n",
        "from sklearn.preprocessing import OneHotEncoder, StandardScaler"
      ]
    },
    {
      "cell_type": "markdown",
      "source": [
        "**Import Dataset**"
      ],
      "metadata": {
        "id": "xOCzSq-F5GBr"
      },
      "id": "xOCzSq-F5GBr"
    },
    {
      "cell_type": "code",
      "execution_count": null,
      "id": "f67da532",
      "metadata": {
        "id": "f67da532"
      },
      "outputs": [],
      "source": [
        "ds = pd.read_csv(\"clustering_data.csv\")"
      ]
    },
    {
      "cell_type": "code",
      "execution_count": null,
      "id": "399b22d5",
      "metadata": {
        "id": "399b22d5"
      },
      "outputs": [],
      "source": [
        "df = ds.copy()"
      ]
    },
    {
      "cell_type": "markdown",
      "source": [
        "Take a inital look at the first few rows"
      ],
      "metadata": {
        "id": "f9D0CQpc5dg5"
      },
      "id": "f9D0CQpc5dg5"
    },
    {
      "cell_type": "code",
      "execution_count": null,
      "id": "e997f391",
      "metadata": {
        "id": "e997f391",
        "outputId": "7842e64d-99ad-41dd-d901-ec59440cd9c0"
      },
      "outputs": [
        {
          "data": {
            "text/html": [
              "<div>\n",
              "<style scoped>\n",
              "    .dataframe tbody tr th:only-of-type {\n",
              "        vertical-align: middle;\n",
              "    }\n",
              "\n",
              "    .dataframe tbody tr th {\n",
              "        vertical-align: top;\n",
              "    }\n",
              "\n",
              "    .dataframe thead th {\n",
              "        text-align: right;\n",
              "    }\n",
              "</style>\n",
              "<table border=\"1\" class=\"dataframe\">\n",
              "  <thead>\n",
              "    <tr style=\"text-align: right;\">\n",
              "      <th></th>\n",
              "      <th>Unnamed: 0</th>\n",
              "      <th>GenderCode</th>\n",
              "      <th>Age</th>\n",
              "      <th>TicketNum</th>\n",
              "      <th>BkdClassOfService</th>\n",
              "      <th>BookingChannel</th>\n",
              "      <th>UflyMemberStatus</th>\n",
              "      <th>BaseFareAmt</th>\n",
              "    </tr>\n",
              "  </thead>\n",
              "  <tbody>\n",
              "    <tr>\n",
              "      <th>0</th>\n",
              "      <td>0</td>\n",
              "      <td>M</td>\n",
              "      <td>33.0</td>\n",
              "      <td>1</td>\n",
              "      <td>Coach</td>\n",
              "      <td>SCA Website Booking</td>\n",
              "      <td>Nonmember</td>\n",
              "      <td>151.63</td>\n",
              "    </tr>\n",
              "    <tr>\n",
              "      <th>1</th>\n",
              "      <td>1</td>\n",
              "      <td>M</td>\n",
              "      <td>24.0</td>\n",
              "      <td>1</td>\n",
              "      <td>Coach</td>\n",
              "      <td>Outside Booking</td>\n",
              "      <td>Nonmember</td>\n",
              "      <td>205.58</td>\n",
              "    </tr>\n",
              "    <tr>\n",
              "      <th>2</th>\n",
              "      <td>2</td>\n",
              "      <td>F</td>\n",
              "      <td>54.0</td>\n",
              "      <td>1</td>\n",
              "      <td>Coach</td>\n",
              "      <td>Airport</td>\n",
              "      <td>Nonmember</td>\n",
              "      <td>264.19</td>\n",
              "    </tr>\n",
              "    <tr>\n",
              "      <th>3</th>\n",
              "      <td>3</td>\n",
              "      <td>M</td>\n",
              "      <td>52.0</td>\n",
              "      <td>2</td>\n",
              "      <td>Coach</td>\n",
              "      <td>Tour Operator Portal</td>\n",
              "      <td>Nonmember</td>\n",
              "      <td>0.00</td>\n",
              "    </tr>\n",
              "    <tr>\n",
              "      <th>4</th>\n",
              "      <td>4</td>\n",
              "      <td>M</td>\n",
              "      <td>29.0</td>\n",
              "      <td>2</td>\n",
              "      <td>Coach</td>\n",
              "      <td>Outside Booking</td>\n",
              "      <td>Standard</td>\n",
              "      <td>432.56</td>\n",
              "    </tr>\n",
              "  </tbody>\n",
              "</table>\n",
              "</div>"
            ],
            "text/plain": [
              "   Unnamed: 0 GenderCode   Age  TicketNum BkdClassOfService  \\\n",
              "0           0          M  33.0          1             Coach   \n",
              "1           1          M  24.0          1             Coach   \n",
              "2           2          F  54.0          1             Coach   \n",
              "3           3          M  52.0          2             Coach   \n",
              "4           4          M  29.0          2             Coach   \n",
              "\n",
              "         BookingChannel UflyMemberStatus  BaseFareAmt  \n",
              "0   SCA Website Booking        Nonmember       151.63  \n",
              "1       Outside Booking        Nonmember       205.58  \n",
              "2               Airport        Nonmember       264.19  \n",
              "3  Tour Operator Portal        Nonmember         0.00  \n",
              "4       Outside Booking         Standard       432.56  "
            ]
          },
          "execution_count": 4,
          "metadata": {},
          "output_type": "execute_result"
        }
      ],
      "source": [
        "df.head()"
      ]
    },
    {
      "cell_type": "markdown",
      "source": [
        "## Data Preparation\n",
        "\n",
        "#### drop Unnamed: 0 *Column*"
      ],
      "metadata": {
        "id": "V_g6v9meEIYH"
      },
      "id": "V_g6v9meEIYH"
    },
    {
      "cell_type": "code",
      "execution_count": null,
      "id": "517403d2",
      "metadata": {
        "id": "517403d2"
      },
      "outputs": [],
      "source": [
        "df.drop(columns='Unnamed: 0', inplace=True)"
      ]
    },
    {
      "cell_type": "code",
      "execution_count": null,
      "id": "addb7f06",
      "metadata": {
        "id": "addb7f06",
        "outputId": "ef987d34-ab9c-4bd5-a1b2-06ae19bfcc63"
      },
      "outputs": [
        {
          "data": {
            "text/html": [
              "<div>\n",
              "<style scoped>\n",
              "    .dataframe tbody tr th:only-of-type {\n",
              "        vertical-align: middle;\n",
              "    }\n",
              "\n",
              "    .dataframe tbody tr th {\n",
              "        vertical-align: top;\n",
              "    }\n",
              "\n",
              "    .dataframe thead th {\n",
              "        text-align: right;\n",
              "    }\n",
              "</style>\n",
              "<table border=\"1\" class=\"dataframe\">\n",
              "  <thead>\n",
              "    <tr style=\"text-align: right;\">\n",
              "      <th></th>\n",
              "      <th>GenderCode</th>\n",
              "      <th>Age</th>\n",
              "      <th>TicketNum</th>\n",
              "      <th>BkdClassOfService</th>\n",
              "      <th>BookingChannel</th>\n",
              "      <th>UflyMemberStatus</th>\n",
              "      <th>BaseFareAmt</th>\n",
              "    </tr>\n",
              "  </thead>\n",
              "  <tbody>\n",
              "    <tr>\n",
              "      <th>0</th>\n",
              "      <td>M</td>\n",
              "      <td>33.0</td>\n",
              "      <td>1</td>\n",
              "      <td>Coach</td>\n",
              "      <td>SCA Website Booking</td>\n",
              "      <td>Nonmember</td>\n",
              "      <td>151.63</td>\n",
              "    </tr>\n",
              "    <tr>\n",
              "      <th>1</th>\n",
              "      <td>M</td>\n",
              "      <td>24.0</td>\n",
              "      <td>1</td>\n",
              "      <td>Coach</td>\n",
              "      <td>Outside Booking</td>\n",
              "      <td>Nonmember</td>\n",
              "      <td>205.58</td>\n",
              "    </tr>\n",
              "    <tr>\n",
              "      <th>2</th>\n",
              "      <td>F</td>\n",
              "      <td>54.0</td>\n",
              "      <td>1</td>\n",
              "      <td>Coach</td>\n",
              "      <td>Airport</td>\n",
              "      <td>Nonmember</td>\n",
              "      <td>264.19</td>\n",
              "    </tr>\n",
              "    <tr>\n",
              "      <th>3</th>\n",
              "      <td>M</td>\n",
              "      <td>52.0</td>\n",
              "      <td>2</td>\n",
              "      <td>Coach</td>\n",
              "      <td>Tour Operator Portal</td>\n",
              "      <td>Nonmember</td>\n",
              "      <td>0.00</td>\n",
              "    </tr>\n",
              "    <tr>\n",
              "      <th>4</th>\n",
              "      <td>M</td>\n",
              "      <td>29.0</td>\n",
              "      <td>2</td>\n",
              "      <td>Coach</td>\n",
              "      <td>Outside Booking</td>\n",
              "      <td>Standard</td>\n",
              "      <td>432.56</td>\n",
              "    </tr>\n",
              "  </tbody>\n",
              "</table>\n",
              "</div>"
            ],
            "text/plain": [
              "  GenderCode   Age  TicketNum BkdClassOfService        BookingChannel  \\\n",
              "0          M  33.0          1             Coach   SCA Website Booking   \n",
              "1          M  24.0          1             Coach       Outside Booking   \n",
              "2          F  54.0          1             Coach               Airport   \n",
              "3          M  52.0          2             Coach  Tour Operator Portal   \n",
              "4          M  29.0          2             Coach       Outside Booking   \n",
              "\n",
              "  UflyMemberStatus  BaseFareAmt  \n",
              "0        Nonmember       151.63  \n",
              "1        Nonmember       205.58  \n",
              "2        Nonmember       264.19  \n",
              "3        Nonmember         0.00  \n",
              "4         Standard       432.56  "
            ]
          },
          "execution_count": 6,
          "metadata": {},
          "output_type": "execute_result"
        }
      ],
      "source": []
    },
    {
      "cell_type": "markdown",
      "source": [
        "#### Deal with a skewed data."
      ],
      "metadata": {
        "id": "PVQmxk0NQtyz"
      },
      "id": "PVQmxk0NQtyz"
    },
    {
      "cell_type": "markdown",
      "source": [
        "Take a log of the TicketNum, as it is right skewed."
      ],
      "metadata": {
        "id": "OSyBGFTrFVYq"
      },
      "id": "OSyBGFTrFVYq"
    },
    {
      "cell_type": "code",
      "execution_count": null,
      "id": "6237452e",
      "metadata": {
        "id": "6237452e",
        "outputId": "bc3b7529-9eee-4229-c881-8e06758c6a3b"
      },
      "outputs": [
        {
          "data": {
            "text/plain": [
              "<AxesSubplot:>"
            ]
          },
          "execution_count": 7,
          "metadata": {},
          "output_type": "execute_result"
        },
        {
          "data": {
            "image/png": "[encoded data removed]",
            "text/plain": [
              "<Figure size 432x288 with 1 Axes>"
            ]
          },
          "metadata": {
            "needs_background": "light"
          },
          "output_type": "display_data"
        }
      ],
      "source": [
        "df.TicketNum.hist(bins=50)"
      ]
    },
    {
      "cell_type": "code",
      "execution_count": null,
      "id": "b9ab3dbc",
      "metadata": {
        "id": "b9ab3dbc"
      },
      "outputs": [],
      "source": [
        "df.TicketNum = np.log(df.TicketNum)"
      ]
    },
    {
      "cell_type": "markdown",
      "source": [
        "#### Data Filtering\n",
        "##### Filter out the GenderCode value 'U'"
      ],
      "metadata": {
        "id": "b8WpFsZZFemA"
      },
      "id": "b8WpFsZZFemA"
    },
    {
      "cell_type": "code",
      "execution_count": null,
      "id": "230e5081",
      "metadata": {
        "id": "230e5081",
        "outputId": "ddbc1d29-2d20-4bf2-da3d-0c1e9aa6f806"
      },
      "outputs": [
        {
          "data": {
            "text/plain": [
              "F    762328\n",
              "M    681266\n",
              "U        19\n",
              "Name: GenderCode, dtype: int64"
            ]
          },
          "execution_count": 9,
          "metadata": {},
          "output_type": "execute_result"
        }
      ],
      "source": [
        "df.GenderCode.value_counts()"
      ]
    },
    {
      "cell_type": "code",
      "execution_count": null,
      "id": "2314e1c9",
      "metadata": {
        "id": "2314e1c9"
      },
      "outputs": [],
      "source": [
        "df = df.loc[df.GenderCode != 'U']"
      ]
    },
    {
      "cell_type": "code",
      "execution_count": null,
      "id": "382a60de",
      "metadata": {
        "id": "382a60de",
        "outputId": "f76c85c6-8d30-4fe2-f9ff-7801069dbd94"
      },
      "outputs": [
        {
          "data": {
            "text/plain": [
              "Coach                   1414610\n",
              "First Class               28808\n",
              "Discount First Class        176\n",
              "Name: BkdClassOfService, dtype: int64"
            ]
          },
          "execution_count": 11,
          "metadata": {},
          "output_type": "execute_result"
        }
      ],
      "source": [
        "df.BkdClassOfService.value_counts()"
      ]
    },
    {
      "cell_type": "code",
      "execution_count": null,
      "id": "51ae355b",
      "metadata": {
        "id": "51ae355b"
      },
      "outputs": [],
      "source": [
        "df.loc[df.BkdClassOfService == 'Discount First Class', 'BkdClassOfService'] = 'First Class'"
      ]
    },
    {
      "cell_type": "markdown",
      "source": [
        "Convert to the One Hot Encoding for the categorical data. "
      ],
      "metadata": {
        "id": "uZApV--3QL9x"
      },
      "id": "uZApV--3QL9x"
    },
    {
      "cell_type": "code",
      "execution_count": null,
      "id": "bcca2d58",
      "metadata": {
        "id": "bcca2d58",
        "outputId": "f3413784-9983-441d-ac48-4b0cfa6ef1c0"
      },
      "outputs": [
        {
          "data": {
            "text/html": [
              "<div>\n",
              "<style scoped>\n",
              "    .dataframe tbody tr th:only-of-type {\n",
              "        vertical-align: middle;\n",
              "    }\n",
              "\n",
              "    .dataframe tbody tr th {\n",
              "        vertical-align: top;\n",
              "    }\n",
              "\n",
              "    .dataframe thead th {\n",
              "        text-align: right;\n",
              "    }\n",
              "</style>\n",
              "<table border=\"1\" class=\"dataframe\">\n",
              "  <thead>\n",
              "    <tr style=\"text-align: right;\">\n",
              "      <th></th>\n",
              "      <th>GenderCode_M</th>\n",
              "      <th>BkdClassOfService_First Class</th>\n",
              "      <th>BookingChannel_Airport</th>\n",
              "      <th>BookingChannel_Outside Booking</th>\n",
              "      <th>BookingChannel_Reservations Booking</th>\n",
              "      <th>BookingChannel_SCA Website Booking</th>\n",
              "      <th>BookingChannel_SY Vacation</th>\n",
              "      <th>BookingChannel_Tour Operator Portal</th>\n",
              "      <th>UflyMemberStatus_Elite</th>\n",
              "      <th>UflyMemberStatus_Nonmember</th>\n",
              "      <th>UflyMemberStatus_Standard</th>\n",
              "    </tr>\n",
              "  </thead>\n",
              "  <tbody>\n",
              "    <tr>\n",
              "      <th>0</th>\n",
              "      <td>1.0</td>\n",
              "      <td>0.0</td>\n",
              "      <td>0.0</td>\n",
              "      <td>0.0</td>\n",
              "      <td>0.0</td>\n",
              "      <td>1.0</td>\n",
              "      <td>0.0</td>\n",
              "      <td>0.0</td>\n",
              "      <td>0.0</td>\n",
              "      <td>1.0</td>\n",
              "      <td>0.0</td>\n",
              "    </tr>\n",
              "    <tr>\n",
              "      <th>1</th>\n",
              "      <td>1.0</td>\n",
              "      <td>0.0</td>\n",
              "      <td>0.0</td>\n",
              "      <td>1.0</td>\n",
              "      <td>0.0</td>\n",
              "      <td>0.0</td>\n",
              "      <td>0.0</td>\n",
              "      <td>0.0</td>\n",
              "      <td>0.0</td>\n",
              "      <td>1.0</td>\n",
              "      <td>0.0</td>\n",
              "    </tr>\n",
              "    <tr>\n",
              "      <th>2</th>\n",
              "      <td>0.0</td>\n",
              "      <td>0.0</td>\n",
              "      <td>1.0</td>\n",
              "      <td>0.0</td>\n",
              "      <td>0.0</td>\n",
              "      <td>0.0</td>\n",
              "      <td>0.0</td>\n",
              "      <td>0.0</td>\n",
              "      <td>0.0</td>\n",
              "      <td>1.0</td>\n",
              "      <td>0.0</td>\n",
              "    </tr>\n",
              "    <tr>\n",
              "      <th>3</th>\n",
              "      <td>1.0</td>\n",
              "      <td>0.0</td>\n",
              "      <td>0.0</td>\n",
              "      <td>0.0</td>\n",
              "      <td>0.0</td>\n",
              "      <td>0.0</td>\n",
              "      <td>0.0</td>\n",
              "      <td>1.0</td>\n",
              "      <td>0.0</td>\n",
              "      <td>1.0</td>\n",
              "      <td>0.0</td>\n",
              "    </tr>\n",
              "    <tr>\n",
              "      <th>4</th>\n",
              "      <td>1.0</td>\n",
              "      <td>0.0</td>\n",
              "      <td>0.0</td>\n",
              "      <td>1.0</td>\n",
              "      <td>0.0</td>\n",
              "      <td>0.0</td>\n",
              "      <td>0.0</td>\n",
              "      <td>0.0</td>\n",
              "      <td>0.0</td>\n",
              "      <td>0.0</td>\n",
              "      <td>1.0</td>\n",
              "    </tr>\n",
              "    <tr>\n",
              "      <th>...</th>\n",
              "      <td>...</td>\n",
              "      <td>...</td>\n",
              "      <td>...</td>\n",
              "      <td>...</td>\n",
              "      <td>...</td>\n",
              "      <td>...</td>\n",
              "      <td>...</td>\n",
              "      <td>...</td>\n",
              "      <td>...</td>\n",
              "      <td>...</td>\n",
              "      <td>...</td>\n",
              "    </tr>\n",
              "    <tr>\n",
              "      <th>1443589</th>\n",
              "      <td>1.0</td>\n",
              "      <td>0.0</td>\n",
              "      <td>0.0</td>\n",
              "      <td>1.0</td>\n",
              "      <td>0.0</td>\n",
              "      <td>0.0</td>\n",
              "      <td>0.0</td>\n",
              "      <td>0.0</td>\n",
              "      <td>0.0</td>\n",
              "      <td>1.0</td>\n",
              "      <td>0.0</td>\n",
              "    </tr>\n",
              "    <tr>\n",
              "      <th>1443590</th>\n",
              "      <td>1.0</td>\n",
              "      <td>0.0</td>\n",
              "      <td>0.0</td>\n",
              "      <td>1.0</td>\n",
              "      <td>0.0</td>\n",
              "      <td>0.0</td>\n",
              "      <td>0.0</td>\n",
              "      <td>0.0</td>\n",
              "      <td>0.0</td>\n",
              "      <td>1.0</td>\n",
              "      <td>0.0</td>\n",
              "    </tr>\n",
              "    <tr>\n",
              "      <th>1443591</th>\n",
              "      <td>1.0</td>\n",
              "      <td>0.0</td>\n",
              "      <td>0.0</td>\n",
              "      <td>0.0</td>\n",
              "      <td>0.0</td>\n",
              "      <td>1.0</td>\n",
              "      <td>0.0</td>\n",
              "      <td>0.0</td>\n",
              "      <td>0.0</td>\n",
              "      <td>1.0</td>\n",
              "      <td>0.0</td>\n",
              "    </tr>\n",
              "    <tr>\n",
              "      <th>1443592</th>\n",
              "      <td>0.0</td>\n",
              "      <td>0.0</td>\n",
              "      <td>0.0</td>\n",
              "      <td>1.0</td>\n",
              "      <td>0.0</td>\n",
              "      <td>0.0</td>\n",
              "      <td>0.0</td>\n",
              "      <td>0.0</td>\n",
              "      <td>0.0</td>\n",
              "      <td>0.0</td>\n",
              "      <td>1.0</td>\n",
              "    </tr>\n",
              "    <tr>\n",
              "      <th>1443593</th>\n",
              "      <td>0.0</td>\n",
              "      <td>0.0</td>\n",
              "      <td>0.0</td>\n",
              "      <td>0.0</td>\n",
              "      <td>0.0</td>\n",
              "      <td>1.0</td>\n",
              "      <td>0.0</td>\n",
              "      <td>0.0</td>\n",
              "      <td>0.0</td>\n",
              "      <td>0.0</td>\n",
              "      <td>1.0</td>\n",
              "    </tr>\n",
              "  </tbody>\n",
              "</table>\n",
              "<p>1443594 rows × 11 columns</p>\n",
              "</div>"
            ],
            "text/plain": [
              "         GenderCode_M  BkdClassOfService_First Class  BookingChannel_Airport  \\\n",
              "0                 1.0                            0.0                     0.0   \n",
              "1                 1.0                            0.0                     0.0   \n",
              "2                 0.0                            0.0                     1.0   \n",
              "3                 1.0                            0.0                     0.0   \n",
              "4                 1.0                            0.0                     0.0   \n",
              "...               ...                            ...                     ...   \n",
              "1443589           1.0                            0.0                     0.0   \n",
              "1443590           1.0                            0.0                     0.0   \n",
              "1443591           1.0                            0.0                     0.0   \n",
              "1443592           0.0                            0.0                     0.0   \n",
              "1443593           0.0                            0.0                     0.0   \n",
              "\n",
              "         BookingChannel_Outside Booking  BookingChannel_Reservations Booking  \\\n",
              "0                                   0.0                                  0.0   \n",
              "1                                   1.0                                  0.0   \n",
              "2                                   0.0                                  0.0   \n",
              "3                                   0.0                                  0.0   \n",
              "4                                   1.0                                  0.0   \n",
              "...                                 ...                                  ...   \n",
              "1443589                             1.0                                  0.0   \n",
              "1443590                             1.0                                  0.0   \n",
              "1443591                             0.0                                  0.0   \n",
              "1443592                             1.0                                  0.0   \n",
              "1443593                             0.0                                  0.0   \n",
              "\n",
              "         BookingChannel_SCA Website Booking  BookingChannel_SY Vacation  \\\n",
              "0                                       1.0                         0.0   \n",
              "1                                       0.0                         0.0   \n",
              "2                                       0.0                         0.0   \n",
              "3                                       0.0                         0.0   \n",
              "4                                       0.0                         0.0   \n",
              "...                                     ...                         ...   \n",
              "1443589                                 0.0                         0.0   \n",
              "1443590                                 0.0                         0.0   \n",
              "1443591                                 1.0                         0.0   \n",
              "1443592                                 0.0                         0.0   \n",
              "1443593                                 1.0                         0.0   \n",
              "\n",
              "         BookingChannel_Tour Operator Portal  UflyMemberStatus_Elite  \\\n",
              "0                                        0.0                     0.0   \n",
              "1                                        0.0                     0.0   \n",
              "2                                        0.0                     0.0   \n",
              "3                                        1.0                     0.0   \n",
              "4                                        0.0                     0.0   \n",
              "...                                      ...                     ...   \n",
              "1443589                                  0.0                     0.0   \n",
              "1443590                                  0.0                     0.0   \n",
              "1443591                                  0.0                     0.0   \n",
              "1443592                                  0.0                     0.0   \n",
              "1443593                                  0.0                     0.0   \n",
              "\n",
              "         UflyMemberStatus_Nonmember  UflyMemberStatus_Standard  \n",
              "0                               1.0                        0.0  \n",
              "1                               1.0                        0.0  \n",
              "2                               1.0                        0.0  \n",
              "3                               1.0                        0.0  \n",
              "4                               0.0                        1.0  \n",
              "...                             ...                        ...  \n",
              "1443589                         1.0                        0.0  \n",
              "1443590                         1.0                        0.0  \n",
              "1443591                         1.0                        0.0  \n",
              "1443592                         0.0                        1.0  \n",
              "1443593                         0.0                        1.0  \n",
              "\n",
              "[1443594 rows x 11 columns]"
            ]
          },
          "execution_count": 13,
          "metadata": {},
          "output_type": "execute_result"
        }
      ],
      "source": [
        "categorical_cols = ['GenderCode', 'BkdClassOfService', 'BookingChannel', 'UflyMemberStatus']\n",
        "\n",
        "enc = OneHotEncoder(drop='if_binary')\n",
        "one_hot = enc.fit_transform(df[categorical_cols]).toarray()\n",
        "one_hot_df = pd.DataFrame(one_hot, columns=enc.get_feature_names_out())\n",
        "one_hot_df"
      ]
    },
    {
      "cell_type": "markdown",
      "source": [
        "\n",
        "#### standarized numerical data columns"
      ],
      "metadata": {
        "id": "maVKQwjcHkVX"
      },
      "id": "maVKQwjcHkVX"
    },
    {
      "cell_type": "code",
      "execution_count": null,
      "id": "9057a6d2",
      "metadata": {
        "id": "9057a6d2",
        "outputId": "bb1dce3a-5249-4617-bf3d-b2cf29e96b87"
      },
      "outputs": [
        {
          "name": "stdout",
          "output_type": "stream",
          "text": [
            "<class 'pandas.core.frame.DataFrame'>\n",
            "Int64Index: 1443594 entries, 0 to 1443612\n",
            "Data columns (total 7 columns):\n",
            " #   Column             Non-Null Count    Dtype  \n",
            "---  ------             --------------    -----  \n",
            " 0   GenderCode         1443594 non-null  object \n",
            " 1   Age                1443594 non-null  float64\n",
            " 2   TicketNum          1443594 non-null  float64\n",
            " 3   BkdClassOfService  1443594 non-null  object \n",
            " 4   BookingChannel     1443594 non-null  object \n",
            " 5   UflyMemberStatus   1443594 non-null  object \n",
            " 6   BaseFareAmt        1443594 non-null  float64\n",
            "dtypes: float64(3), object(4)\n",
            "memory usage: 88.1+ MB\n"
          ]
        }
      ],
      "source": [
        "df.info()"
      ]
    },
    {
      "cell_type": "code",
      "execution_count": null,
      "id": "f8313906",
      "metadata": {
        "id": "f8313906",
        "outputId": "c0f7c612-5cca-4e10-c311-f3bba460824a"
      },
      "outputs": [
        {
          "data": {
            "text/html": [
              "<div>\n",
              "<style scoped>\n",
              "    .dataframe tbody tr th:only-of-type {\n",
              "        vertical-align: middle;\n",
              "    }\n",
              "\n",
              "    .dataframe tbody tr th {\n",
              "        vertical-align: top;\n",
              "    }\n",
              "\n",
              "    .dataframe thead th {\n",
              "        text-align: right;\n",
              "    }\n",
              "</style>\n",
              "<table border=\"1\" class=\"dataframe\">\n",
              "  <thead>\n",
              "    <tr style=\"text-align: right;\">\n",
              "      <th></th>\n",
              "      <th>Age</th>\n",
              "      <th>TicketNum</th>\n",
              "      <th>BaseFareAmt</th>\n",
              "    </tr>\n",
              "  </thead>\n",
              "  <tbody>\n",
              "    <tr>\n",
              "      <th>0</th>\n",
              "      <td>-0.364057</td>\n",
              "      <td>-1.456643</td>\n",
              "      <td>-0.703947</td>\n",
              "    </tr>\n",
              "    <tr>\n",
              "      <th>1</th>\n",
              "      <td>-0.837727</td>\n",
              "      <td>-1.456643</td>\n",
              "      <td>-0.391090</td>\n",
              "    </tr>\n",
              "    <tr>\n",
              "      <th>2</th>\n",
              "      <td>0.741173</td>\n",
              "      <td>-1.456643</td>\n",
              "      <td>-0.051208</td>\n",
              "    </tr>\n",
              "    <tr>\n",
              "      <th>3</th>\n",
              "      <td>0.635913</td>\n",
              "      <td>-0.047404</td>\n",
              "      <td>-1.583255</td>\n",
              "    </tr>\n",
              "    <tr>\n",
              "      <th>4</th>\n",
              "      <td>-0.574577</td>\n",
              "      <td>-0.047404</td>\n",
              "      <td>0.925175</td>\n",
              "    </tr>\n",
              "    <tr>\n",
              "      <th>...</th>\n",
              "      <td>...</td>\n",
              "      <td>...</td>\n",
              "      <td>...</td>\n",
              "    </tr>\n",
              "    <tr>\n",
              "      <th>1443589</th>\n",
              "      <td>1.109583</td>\n",
              "      <td>-1.456643</td>\n",
              "      <td>0.612259</td>\n",
              "    </tr>\n",
              "    <tr>\n",
              "      <th>1443590</th>\n",
              "      <td>1.109583</td>\n",
              "      <td>-0.047404</td>\n",
              "      <td>-0.407211</td>\n",
              "    </tr>\n",
              "    <tr>\n",
              "      <th>1443591</th>\n",
              "      <td>-0.416687</td>\n",
              "      <td>-0.047404</td>\n",
              "      <td>0.229291</td>\n",
              "    </tr>\n",
              "    <tr>\n",
              "      <th>1443592</th>\n",
              "      <td>-0.048277</td>\n",
              "      <td>-0.047404</td>\n",
              "      <td>-0.094411</td>\n",
              "    </tr>\n",
              "    <tr>\n",
              "      <th>1443593</th>\n",
              "      <td>0.004353</td>\n",
              "      <td>-0.047404</td>\n",
              "      <td>-0.304800</td>\n",
              "    </tr>\n",
              "  </tbody>\n",
              "</table>\n",
              "<p>1443594 rows × 3 columns</p>\n",
              "</div>"
            ],
            "text/plain": [
              "              Age  TicketNum  BaseFareAmt\n",
              "0       -0.364057  -1.456643    -0.703947\n",
              "1       -0.837727  -1.456643    -0.391090\n",
              "2        0.741173  -1.456643    -0.051208\n",
              "3        0.635913  -0.047404    -1.583255\n",
              "4       -0.574577  -0.047404     0.925175\n",
              "...           ...        ...          ...\n",
              "1443589  1.109583  -1.456643     0.612259\n",
              "1443590  1.109583  -0.047404    -0.407211\n",
              "1443591 -0.416687  -0.047404     0.229291\n",
              "1443592 -0.048277  -0.047404    -0.094411\n",
              "1443593  0.004353  -0.047404    -0.304800\n",
              "\n",
              "[1443594 rows x 3 columns]"
            ]
          },
          "execution_count": 15,
          "metadata": {},
          "output_type": "execute_result"
        }
      ],
      "source": [
        "numeric_df = df.select_dtypes(\"float64\")\n",
        "\n",
        "scaler = StandardScaler()\n",
        "scaled = scaler.fit_transform(numeric_df)\n",
        "scaled_df = pd.DataFrame(scaled, columns=numeric_df.columns)\n",
        "scaled_df"
      ]
    },
    {
      "cell_type": "markdown",
      "source": [
        "- combine the scaled numeric columns and one hot encoded categorical columns."
      ],
      "metadata": {
        "id": "cSDUn8j5Hxz7"
      },
      "id": "cSDUn8j5Hxz7"
    },
    {
      "cell_type": "code",
      "execution_count": null,
      "id": "a4a05d9f",
      "metadata": {
        "id": "a4a05d9f",
        "outputId": "1565bb7e-23a5-4361-bc42-619816e4a9ec"
      },
      "outputs": [
        {
          "data": {
            "text/html": [
              "<div>\n",
              "<style scoped>\n",
              "    .dataframe tbody tr th:only-of-type {\n",
              "        vertical-align: middle;\n",
              "    }\n",
              "\n",
              "    .dataframe tbody tr th {\n",
              "        vertical-align: top;\n",
              "    }\n",
              "\n",
              "    .dataframe thead th {\n",
              "        text-align: right;\n",
              "    }\n",
              "</style>\n",
              "<table border=\"1\" class=\"dataframe\">\n",
              "  <thead>\n",
              "    <tr style=\"text-align: right;\">\n",
              "      <th></th>\n",
              "      <th>Age</th>\n",
              "      <th>TicketNum</th>\n",
              "      <th>BaseFareAmt</th>\n",
              "      <th>GenderCode_M</th>\n",
              "      <th>BkdClassOfService_First Class</th>\n",
              "      <th>BookingChannel_Airport</th>\n",
              "      <th>BookingChannel_Outside Booking</th>\n",
              "      <th>BookingChannel_Reservations Booking</th>\n",
              "      <th>BookingChannel_SCA Website Booking</th>\n",
              "      <th>BookingChannel_SY Vacation</th>\n",
              "      <th>BookingChannel_Tour Operator Portal</th>\n",
              "      <th>UflyMemberStatus_Elite</th>\n",
              "      <th>UflyMemberStatus_Nonmember</th>\n",
              "      <th>UflyMemberStatus_Standard</th>\n",
              "    </tr>\n",
              "  </thead>\n",
              "  <tbody>\n",
              "    <tr>\n",
              "      <th>0</th>\n",
              "      <td>-0.364057</td>\n",
              "      <td>-1.456643</td>\n",
              "      <td>-0.703947</td>\n",
              "      <td>1.0</td>\n",
              "      <td>0.0</td>\n",
              "      <td>0.0</td>\n",
              "      <td>0.0</td>\n",
              "      <td>0.0</td>\n",
              "      <td>1.0</td>\n",
              "      <td>0.0</td>\n",
              "      <td>0.0</td>\n",
              "      <td>0.0</td>\n",
              "      <td>1.0</td>\n",
              "      <td>0.0</td>\n",
              "    </tr>\n",
              "    <tr>\n",
              "      <th>1</th>\n",
              "      <td>-0.837727</td>\n",
              "      <td>-1.456643</td>\n",
              "      <td>-0.391090</td>\n",
              "      <td>1.0</td>\n",
              "      <td>0.0</td>\n",
              "      <td>0.0</td>\n",
              "      <td>1.0</td>\n",
              "      <td>0.0</td>\n",
              "      <td>0.0</td>\n",
              "      <td>0.0</td>\n",
              "      <td>0.0</td>\n",
              "      <td>0.0</td>\n",
              "      <td>1.0</td>\n",
              "      <td>0.0</td>\n",
              "    </tr>\n",
              "    <tr>\n",
              "      <th>2</th>\n",
              "      <td>0.741173</td>\n",
              "      <td>-1.456643</td>\n",
              "      <td>-0.051208</td>\n",
              "      <td>0.0</td>\n",
              "      <td>0.0</td>\n",
              "      <td>1.0</td>\n",
              "      <td>0.0</td>\n",
              "      <td>0.0</td>\n",
              "      <td>0.0</td>\n",
              "      <td>0.0</td>\n",
              "      <td>0.0</td>\n",
              "      <td>0.0</td>\n",
              "      <td>1.0</td>\n",
              "      <td>0.0</td>\n",
              "    </tr>\n",
              "    <tr>\n",
              "      <th>3</th>\n",
              "      <td>0.635913</td>\n",
              "      <td>-0.047404</td>\n",
              "      <td>-1.583255</td>\n",
              "      <td>1.0</td>\n",
              "      <td>0.0</td>\n",
              "      <td>0.0</td>\n",
              "      <td>0.0</td>\n",
              "      <td>0.0</td>\n",
              "      <td>0.0</td>\n",
              "      <td>0.0</td>\n",
              "      <td>1.0</td>\n",
              "      <td>0.0</td>\n",
              "      <td>1.0</td>\n",
              "      <td>0.0</td>\n",
              "    </tr>\n",
              "    <tr>\n",
              "      <th>4</th>\n",
              "      <td>-0.574577</td>\n",
              "      <td>-0.047404</td>\n",
              "      <td>0.925175</td>\n",
              "      <td>1.0</td>\n",
              "      <td>0.0</td>\n",
              "      <td>0.0</td>\n",
              "      <td>1.0</td>\n",
              "      <td>0.0</td>\n",
              "      <td>0.0</td>\n",
              "      <td>0.0</td>\n",
              "      <td>0.0</td>\n",
              "      <td>0.0</td>\n",
              "      <td>0.0</td>\n",
              "      <td>1.0</td>\n",
              "    </tr>\n",
              "  </tbody>\n",
              "</table>\n",
              "</div>"
            ],
            "text/plain": [
              "        Age  TicketNum  BaseFareAmt  GenderCode_M  \\\n",
              "0 -0.364057  -1.456643    -0.703947           1.0   \n",
              "1 -0.837727  -1.456643    -0.391090           1.0   \n",
              "2  0.741173  -1.456643    -0.051208           0.0   \n",
              "3  0.635913  -0.047404    -1.583255           1.0   \n",
              "4 -0.574577  -0.047404     0.925175           1.0   \n",
              "\n",
              "   BkdClassOfService_First Class  BookingChannel_Airport  \\\n",
              "0                            0.0                     0.0   \n",
              "1                            0.0                     0.0   \n",
              "2                            0.0                     1.0   \n",
              "3                            0.0                     0.0   \n",
              "4                            0.0                     0.0   \n",
              "\n",
              "   BookingChannel_Outside Booking  BookingChannel_Reservations Booking  \\\n",
              "0                             0.0                                  0.0   \n",
              "1                             1.0                                  0.0   \n",
              "2                             0.0                                  0.0   \n",
              "3                             0.0                                  0.0   \n",
              "4                             1.0                                  0.0   \n",
              "\n",
              "   BookingChannel_SCA Website Booking  BookingChannel_SY Vacation  \\\n",
              "0                                 1.0                         0.0   \n",
              "1                                 0.0                         0.0   \n",
              "2                                 0.0                         0.0   \n",
              "3                                 0.0                         0.0   \n",
              "4                                 0.0                         0.0   \n",
              "\n",
              "   BookingChannel_Tour Operator Portal  UflyMemberStatus_Elite  \\\n",
              "0                                  0.0                     0.0   \n",
              "1                                  0.0                     0.0   \n",
              "2                                  0.0                     0.0   \n",
              "3                                  1.0                     0.0   \n",
              "4                                  0.0                     0.0   \n",
              "\n",
              "   UflyMemberStatus_Nonmember  UflyMemberStatus_Standard  \n",
              "0                         1.0                        0.0  \n",
              "1                         1.0                        0.0  \n",
              "2                         1.0                        0.0  \n",
              "3                         1.0                        0.0  \n",
              "4                         0.0                        1.0  "
            ]
          },
          "execution_count": 16,
          "metadata": {},
          "output_type": "execute_result"
        }
      ],
      "source": [
        "df_normalized = pd.concat([scaled_df, one_hot_df], axis=1)\n",
        "df_normalized.head()"
      ]
    },
    {
      "cell_type": "code",
      "execution_count": null,
      "id": "c4383c02",
      "metadata": {
        "id": "c4383c02",
        "outputId": "a584fb8f-dcb8-4057-865a-c56aba1b5996"
      },
      "outputs": [
        {
          "data": {
            "text/plain": [
              "<AxesSubplot:>"
            ]
          },
          "execution_count": 17,
          "metadata": {},
          "output_type": "execute_result"
        },
        {
          "data": {
            "image/png": "[encoded data removed]",
            "text/plain": [
              "<Figure size 432x288 with 1 Axes>"
            ]
          },
          "metadata": {
            "needs_background": "light"
          },
          "output_type": "display_data"
        }
      ],
      "source": [
        "df_normalized.TicketNum.hist(bins=20)"
      ]
    },
    {
      "cell_type": "markdown",
      "source": [
        "## Sampling \n",
        "#### Take 0.5% of the entire data as a sample data and save it as a csv file. "
      ],
      "metadata": {
        "id": "Fa3XC4wleCTc"
      },
      "id": "Fa3XC4wleCTc"
    },
    {
      "cell_type": "code",
      "execution_count": null,
      "id": "3f7b077e",
      "metadata": {
        "id": "3f7b077e"
      },
      "outputs": [],
      "source": [
        "df_sample_five = df_normalized.sample(frac=0.005, axis=0, random_state=42)"
      ]
    },
    {
      "cell_type": "code",
      "execution_count": null,
      "id": "9e4b0a1f",
      "metadata": {
        "id": "9e4b0a1f",
        "outputId": "887eb96f-7600-4184-8b18-80de17c99814"
      },
      "outputs": [
        {
          "data": {
            "text/plain": [
              "(7218, 14)"
            ]
          },
          "execution_count": 19,
          "metadata": {},
          "output_type": "execute_result"
        }
      ],
      "source": [
        "df_sample_five.shape"
      ]
    },
    {
      "cell_type": "code",
      "execution_count": null,
      "id": "51a8eeea",
      "metadata": {
        "id": "51a8eeea"
      },
      "outputs": [],
      "source": [
        "df_sample_five.to_csv(\"clustering_data_sample_final.csv\")"
      ]
    }
  ],
  "metadata": {
    "kernelspec": {
      "display_name": "Python 3 (ipykernel)",
      "language": "python",
      "name": "python3"
    },
    "language_info": {
      "codemirror_mode": {
        "name": "ipython",
        "version": 3
      },
      "file_extension": ".py",
      "mimetype": "text/x-python",
      "name": "python",
      "nbconvert_exporter": "python",
      "pygments_lexer": "ipython3",
      "version": "3.8.13"
    },
    "colab": {
      "provenance": []
    }
  },
  "nbformat": 4,
  "nbformat_minor": 5
}